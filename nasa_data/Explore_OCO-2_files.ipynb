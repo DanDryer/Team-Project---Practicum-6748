{
 "cells": [
  {
   "attachments": {},
   "cell_type": "markdown",
   "id": "36869f7f",
   "metadata": {},
   "source": [
    "# Preliminary Data Exploration and Mapping of OCO2 Data\n",
    "#### NOTE: If you have maps generated in this notebook, it will run very slowly. I advise you clear the outputs when done"
   ]
  },
  {
   "cell_type": "code",
   "execution_count": null,
   "id": "26c12453",
   "metadata": {},
   "outputs": [],
   "source": [
    "import netCDF4 as nc\n",
    "import numpy as np\n",
    "import pandas as pd\n",
    "import urllib.request\n",
    "import json\n",
    "\n",
    "\n",
    "import matplotlib.pyplot as plt\n",
    "import plotly.express as px\n",
    "import plotly\n",
    "\n",
    "import geopandas as gpd\n",
    "\n",
    "#BASEMAP\n",
    "import mpl_toolkits\n",
    "import seaborn as sns; sns.set()\n",
    "import datetime as dt\n"
   ]
  },
  {
   "attachments": {},
   "cell_type": "markdown",
   "id": "17aeec02",
   "metadata": {},
   "source": [
    "## Read in a CSV created in NASA_data_gather.ipynb"
   ]
  },
  {
   "cell_type": "code",
   "execution_count": null,
   "id": "fb82784f",
   "metadata": {},
   "outputs": [],
   "source": [
    "#This file is read from a local source because it was too large to upload to github\n",
    "df_xco2_base= pd.read_csv(r\"C:\\Users\\ddrye\\OneDrive\\Documents\\OMSA_Program\\OMSA 2023\\Summer2023\\Practicum\\off_git\\data\\OCO2_BASE_2014-2023_V1.csv\")"
   ]
  },
  {
   "attachments": {},
   "cell_type": "markdown",
   "id": "7e3fbc01",
   "metadata": {},
   "source": [
    "## Overview for 2016, 2017 and 2018 data"
   ]
  },
  {
   "cell_type": "code",
   "execution_count": null,
   "id": "5bd5e836",
   "metadata": {},
   "outputs": [],
   "source": [
    "\n",
    "sedac_years=df_xco2_base[df_xco2_base['Year'].isin([2016,2017,2018])]\n",
    "\n",
    "print(\"non filtered shape:\",sedac_years.shape)\n",
    "\n",
    "#filtering on good quality data\n",
    "sedac_years_filtered=sedac_years[sedac_years[\"xco2_quality_flag\"]==0]\n",
    "\n",
    "#dropping the unnamed column - just a redundant index column.\n",
    "sedac_years_filtered=sedac_years_filtered.drop([\"Unnamed: 0\"],axis=1)\n",
    "\n",
    "#getting the filtered shape of the data\n",
    "print(\"filtered shape:\",sedac_years_filtered.shape)\n",
    "\n",
    "#getting a look at the data\n",
    "display(sedac_years_filtered.head())\n",
    "display(sedac_years_filtered.tail())\n",
    "\n",
    "#checking for NA values\n",
    "if sedac_years_filtered[sedac_years_filtered.isna().any(axis=1)].empty==True:\n",
    "    print(\"No NAs\")\n",
    "else:\n",
    "    print(\"NAs Present\")\n",
    "    display(sedac_years_filtered[sedac_years_filtered.isna().any(axis=1)])\n",
    "\n",
    "#getting an overview of the xco2 readings\n",
    "print(\"\\n xco2 readings:\")\n",
    "display(sedac_years_filtered.xco2.describe())\n",
    "\n",
    "#getting the average co2 reading accross all years\n",
    "xco2_max=sedac_years_filtered['xco2'].max()\n",
    "print(xco2_max)\n",
    "print(sedac_years_filtered.query('xco2 == xco2.max()'))"
   ]
  },
  {
   "attachments": {},
   "cell_type": "markdown",
   "id": "c546c212",
   "metadata": {},
   "source": [
    "## Overview for all of the years"
   ]
  },
  {
   "cell_type": "code",
   "execution_count": null,
   "id": "7d045904",
   "metadata": {},
   "outputs": [],
   "source": [
    "#df_xco2_base= pd.read_csv(r\"C:\\Users\\ddrye\\OneDrive\\Documents\\OMSA_Program\\OMSA 2023\\Summer2023\\Practicum\\off_git\\data\\OCO2_BASE_2014-2023_V1.csv\")\n",
    "print(\"non filtered shape:\",df_xco2_base.shape)\n",
    "\n",
    "#filtering on good quality data\n",
    "df_xco2_base_filtered=df_xco2_base[df_xco2_base[\"xco2_quality_flag\"]==0]\n",
    "\n",
    "#dropping the unnamed column - just a redundant index column and the total_delta column - poor naming on my part \n",
    "df_xco2_base_filtered=df_xco2_base_filtered.drop([\"Unnamed: 0\"],axis=1)\n",
    "\n",
    "#getting the filtered shape of the data\n",
    "print(\"filtered shape:\",df_xco2_base_filtered.shape)\n",
    "\n",
    "#getting a look at the data\n",
    "display(df_xco2_base_filtered.head())\n",
    "display(df_xco2_base_filtered.tail())\n",
    "\n",
    "#checking for NA values\n",
    "if df_xco2_base_filtered[df_xco2_base_filtered.isna().any(axis=1)].empty==True:\n",
    "    print(\"No NAs\")\n",
    "else:\n",
    "    print(\"NAs Present\")\n",
    "    display(df_xco2_base_filtered[df_xco2_base_filtered.isna().any(axis=1)])\n",
    "\n",
    "#getting an overview of the xco2 readings\n",
    "print(\"\\n xco2 readings:\")\n",
    "display(df_xco2_base_filtered.xco2.describe())\n",
    "\n",
    "#getting the average co2 reading accross all years\n",
    "xco2_max=df_xco2_base_filtered['xco2'].max()\n",
    "print(xco2_max)\n",
    "print(df_xco2_base_filtered.query('xco2 == xco2.max()'))\n",
    "\n"
   ]
  },
  {
   "attachments": {},
   "cell_type": "markdown",
   "id": "f2d48fa1",
   "metadata": {},
   "source": [
    "## Groupings for Visualization - FOR ALL YEARS"
   ]
  },
  {
   "cell_type": "code",
   "execution_count": null,
   "id": "6619710b",
   "metadata": {},
   "outputs": [],
   "source": [
    "#A function that makes grouping by a little easier\n",
    "def overview(df,groupby=[]):\n",
    "    counts=df.groupby(groupby, as_index=False)[\"xco2\"].size().rename(columns={'size':'readings_count'})\n",
    "    xco2_avg=df.groupby(groupby, as_index=False)[\"xco2\"].mean().rename(columns={'xco2':'avg_xco2'})\n",
    "    xco2_min=df.groupby(groupby, as_index=False)[\"xco2\"].max().rename(columns={'xco2':'max_xco2'})\n",
    "    xco2_max=df.groupby(groupby, as_index=False)[\"xco2\"].min().rename(columns={'xco2':'min_xco2'})\n",
    "    std_deviation=df.groupby(groupby, as_index=False)[\"xco2\"].std().rename(columns={'xco2':'stddev_xco2'})\n",
    "\n",
    "    combined=pd.merge(counts, xco2_avg, on=groupby)\n",
    "    combined=pd.merge(combined, std_deviation, on=groupby)\n",
    "    combined=pd.merge(combined, xco2_min, on=groupby)\n",
    "    combined=pd.merge(combined, xco2_max, on=groupby)\n",
    "\n",
    "    if 'geoid' in groupby:\n",
    "        combined = combined.astype({'geoid':'string'})\n",
    "        combined[\"geoid\"] = combined[\"geoid\"].str.zfill(5)\n",
    "    \n",
    "    return combined\n",
    "\n",
    "\n",
    "#Group by state and year\n",
    "state_ov=overview(df_xco2_base_filtered,groupby=[\"state_name\",\"Year\"])\n",
    "display(state_ov.head())\n",
    "\n",
    "#Group by county_name and geoid - some countys may have the same name, thats why we're doing geoid as well\n",
    "county_ov=overview(df_xco2_base_filtered,groupby=[\"county_name\",\"geoid\"])\n",
    "display(county_ov.head())\n"
   ]
  },
  {
   "attachments": {},
   "cell_type": "markdown",
   "id": "666bec89",
   "metadata": {},
   "source": [
    "## Plotting\n"
   ]
  },
  {
   "cell_type": "code",
   "execution_count": null,
   "id": "d8666809",
   "metadata": {},
   "outputs": [],
   "source": [
    "#Group by year and month\n",
    "month_year_ov=overview(df_xco2_base_filtered,groupby=[\"Year\",'Month'])\n",
    "\n",
    "#setting the year range for 2015 through 2022\n",
    "month_year_ov = month_year_ov.loc[(month_year_ov['Year'] < 2023) & (month_year_ov['Year'] > 2014) ]\n",
    "\n",
    "#creating a datetime column from month and year\n",
    "month_year_ov['Date']=month_year_ov['Month'].map(str) + '-' + month_year_ov['Year'].map(str)\n",
    "month_year_ov['Date'] = pd.to_datetime(month_year_ov['Date']).dt.strftime('%m-%Y')\n",
    "#display(month_year_ov.head())\n",
    "\n",
    "#plotting\n",
    "a= sns.lineplot(x='Date', y='avg_xco2', data=month_year_ov)\n",
    "a.set(title='Average XCO2 Over Time')\n",
    "a.set_ylabel(\"Column Averaged CO2 (ppm)\",fontsize=15)\n",
    "plt.xlabel('Date', fontsize=10)\n",
    "plt.ylabel('Column Averaged CO2 (ppm)', fontsize=10)\n",
    "plt.tick_params(axis='x', which='major', labelsize=8, rotation=90)\n",
    "plt.tick_params(axis='y', which='major', labelsize=8)\n",
    "for index, label in enumerate(a.get_xticklabels()):\n",
    "   if index % 4 == 0:\n",
    "      label.set_visible(True)\n",
    "   else:\n",
    "      label.set_visible(False)"
   ]
  },
  {
   "cell_type": "code",
   "execution_count": null,
   "id": "a792cfe6",
   "metadata": {},
   "outputs": [],
   "source": [
    "#Seasonality - USING ALL YEARS\n",
    "seasonal_ov=overview(df_xco2_base_filtered,groupby=[\"Month\"])\n",
    "\n",
    "#plotting\n",
    "b= sns.lineplot(x='Month', y='avg_xco2', data=seasonal_ov)\n",
    "b.set(title='Avg XCO2 Seasonality (2015-2022)')\n",
    "#a.set_xlabel(\"Month\",fontsize=15)\n",
    "b.set_ylabel(\"Column Averaged CO2 (ppm)\",fontsize=15)\n",
    "plt.xlabel('Month', fontsize=10)\n",
    "plt.ylabel('Column Averaged CO2 (ppm)', fontsize=10)\n",
    "plt.tick_params(axis='x', which='major', labelsize=8)\n",
    "plt.tick_params(axis='y', which='major', labelsize=8)\n"
   ]
  },
  {
   "attachments": {},
   "cell_type": "markdown",
   "id": "1f0fe42e",
   "metadata": {},
   "source": [
    "# Mapping"
   ]
  },
  {
   "attachments": {},
   "cell_type": "markdown",
   "id": "3059cb94",
   "metadata": {},
   "source": [
    "#### Getting the county polygons for visualization on map"
   ]
  },
  {
   "cell_type": "code",
   "execution_count": null,
   "id": "f9698fec",
   "metadata": {},
   "outputs": [],
   "source": [
    "request = urllib.request.Request('https://raw.githubusercontent.com/plotly/datasets/master/geojson-counties-fips.json')\n",
    "opener = urllib.request.build_opener()\n",
    "response = opener.open(request)\n",
    "counties_map = json.load(response)"
   ]
  },
  {
   "attachments": {},
   "cell_type": "markdown",
   "id": "f02d7bc7",
   "metadata": {},
   "source": []
  },
  {
   "cell_type": "code",
   "execution_count": null,
   "id": "1489f8d4",
   "metadata": {},
   "outputs": [],
   "source": [
    "import pandas as pd\n",
    "from shapely.geometry import Point\n",
    "import geopandas as gpd\n",
    "from geopandas import GeoDataFrame\n",
    "\n",
    "#state_ov=overview(sedac_years_filtered,groupby=[\"state_name\",\"Year\"])\n",
    "\n",
    "#creating a datetime column from month and year\n",
    "sedac_years_filtered['Date']=sedac_years_filtered['Month'].map(str) + '-' + sedac_years_filtered['Year'].map(str)\n",
    "sedac_years_filtered['Date'] = pd.to_datetime(sedac_years_filtered['Date']).dt.strftime('%m-%Y')\n",
    "sedac_years_filtered_2016=sedac_years_filtered[sedac_years_filtered['Year']==2016]\n",
    "\n",
    "display(sedac_years_filtered_2016.head())\n"
   ]
  },
  {
   "cell_type": "code",
   "execution_count": null,
   "id": "c376651d",
   "metadata": {},
   "outputs": [],
   "source": [
    "fig = px.scatter_mapbox(sedac_years_filtered_2016, lat=\"Latitude\", lon=\"Longitude\", width=800,\n",
    "                           height=600)\n",
    "fig.show()"
   ]
  },
  {
   "cell_type": "code",
   "execution_count": null,
   "id": "fb60d9ad",
   "metadata": {},
   "outputs": [],
   "source": [
    "df_xco2_base_filtered_years=df_xco2_base_filtered[df_xco2_base_filtered['Year'].isin([2015,2016,2017,2018,2019,2020,2021,2022])]\n",
    "ysc_ov=overview(df_xco2_base_filtered_years,groupby=['geoid',\"county_name\",\"Year\"])\n",
    "ysc_ov['Date'] = pd.to_datetime(ysc_ov['Year'].map(str)).dt.strftime('%Y')\n",
    "ysc_ov.sort_values(by='Date', inplace=True)\n",
    "ysc_ov.rename(columns={'avg_xco2':'XCO2 (ppm)'}, inplace=True)\n",
    "\n",
    "\n",
    "fig = px.choropleth(ysc_ov, geojson=counties_map, locations='geoid', color='readings_count',\n",
    "                           color_continuous_scale=\"Purples\",\n",
    "                           animation_frame='Date',\n",
    "                           hover_data=['readings_count','county_name'],\n",
    "                           scope=\"usa\",\n",
    "                           range_color=(0,100),\n",
    "                           width=800,\n",
    "                           height=600,\n",
    "                           )\n",
    "fig.update_layout(margin={\"r\":0,\"t\":0,\"l\":0,\"b\":0},legend_title=\"CO2 ppm\")\n",
    "fig.show()"
   ]
  },
  {
   "attachments": {},
   "cell_type": "markdown",
   "id": "1d20906f",
   "metadata": {},
   "source": [
    "#### Mapping County Average XCO2 from year to year"
   ]
  },
  {
   "cell_type": "code",
   "execution_count": null,
   "id": "468a2f9b",
   "metadata": {},
   "outputs": [],
   "source": [
    "#Year State and County for all years\n",
    "df_xco2_base_filtered_years=df_xco2_base_filtered[df_xco2_base_filtered['Year'].isin([2015,2016,2017,2018,2019,2020,2021,2022])]\n",
    "ysc_ov=overview(df_xco2_base_filtered_years,groupby=['geoid',\"county_name\",\"Year\"])\n",
    "ysc_ov['Date'] = pd.to_datetime(ysc_ov['Year'].map(str)).dt.strftime('%Y')\n",
    "ysc_ov.sort_values(by='Date', inplace=True)\n",
    "ysc_ov.rename(columns={'avg_xco2':'XCO2 (ppm)'}, inplace=True)\n",
    "\n",
    "\n",
    "fig = px.choropleth(ysc_ov, geojson=counties_map, locations='geoid', color='XCO2 (ppm)',\n",
    "                           color_continuous_scale=\"Viridis\",\n",
    "                           animation_frame='Date',\n",
    "                           hover_data=['readings_count','county_name'],\n",
    "                           scope=\"usa\",\n",
    "                           range_color=(390,420),\n",
    "                           width=800,\n",
    "                           height=600,\n",
    "                           )\n",
    "fig.update_layout(margin={\"r\":0,\"t\":0,\"l\":0,\"b\":0},legend_title=\"CO2 ppm\")\n",
    "fig.show()"
   ]
  },
  {
   "attachments": {},
   "cell_type": "markdown",
   "id": "27b34ab9",
   "metadata": {},
   "source": [
    "#### Mapping Average XCO2 over all Years"
   ]
  },
  {
   "cell_type": "code",
   "execution_count": null,
   "id": "73356996",
   "metadata": {},
   "outputs": [],
   "source": [
    "#County for 2015-2018\n",
    "df_xco2_base_filtered_years=df_xco2_base_filtered[df_xco2_base_filtered['Year'].isin([2016,2017,2018])]\n",
    "c_ov=overview(df_xco2_base_filtered_years,groupby=['geoid',\"county_name\"])\n",
    "\n",
    "#plotting\n",
    "fig = px.choropleth(c_ov, geojson=counties_map, locations='geoid', color='avg_xco2',\n",
    "                           color_continuous_scale=\"Viridis\",\n",
    "                           hover_data=['readings_count','county_name'],\n",
    "                           scope=\"usa\",\n",
    "                           range_color=(400,405),\n",
    "                           width=800,\n",
    "                           height=600\n",
    "                          )\n",
    "fig.update_layout(margin={\"r\":0,\"t\":0,\"l\":0,\"b\":0})\n",
    "fig.show()"
   ]
  },
  {
   "attachments": {},
   "cell_type": "markdown",
   "id": "ea568b34",
   "metadata": {},
   "source": [
    "#### Mapping percent change from year to year for all years"
   ]
  },
  {
   "cell_type": "code",
   "execution_count": null,
   "id": "9a59233a",
   "metadata": {},
   "outputs": [],
   "source": [
    "#County percent change from year to year\n",
    "df_xco2_base_filtered_allyears=df_xco2_base_filtered[df_xco2_base_filtered['Year'].isin([2015,2016,2017,2018,2019,2020,2021,2022])]\n",
    "cypct_ov=overview(df_xco2_base_filtered_allyears,groupby=['geoid',\"county_name\",'Year'])\n",
    "pct_change = (cypct_ov.groupby('geoid')['avg_xco2']\n",
    "                                  .apply(pd.Series.pct_change) + 1).rename('pct_change').reset_index()\n",
    "cypct_ov=pd.merge(cypct_ov, pct_change['pct_change'], left_index=True, right_index=True)\n",
    "cypct_ov['Date'] = pd.to_datetime(cypct_ov['Year'].map(str)).dt.strftime('%Y')\n",
    "\n",
    "\n",
    "fig = px.choropleth(cypct_ov, geojson=counties_map, locations='geoid', color='pct_change',\n",
    "                           color_continuous_scale=\"Viridis\",\n",
    "                           hover_data=['readings_count','county_name'],\n",
    "                           scope=\"usa\",\n",
    "                           animation_frame='Date',\n",
    "                           range_color=(1.00,1.025),\n",
    "                           width=800,\n",
    "                           height=600\n",
    "                          )\n",
    "fig.update_layout(margin={\"r\":0,\"t\":0,\"l\":0,\"b\":0})\n",
    "fig.show()"
   ]
  },
  {
   "attachments": {},
   "cell_type": "markdown",
   "id": "4cc15c08",
   "metadata": {},
   "source": [
    "#### Mapping percent increase from 2016 to 2018"
   ]
  },
  {
   "cell_type": "code",
   "execution_count": null,
   "id": "694f6294",
   "metadata": {},
   "outputs": [],
   "source": [
    "#County percent change from 2016 to 2018\n",
    "df_xco2_base_filtered_years=df_xco2_base_filtered[df_xco2_base_filtered['Year'].isin([2016,2018])]\n",
    "cpct_ov=overview(df_xco2_base_filtered_years,groupby=['geoid',\"county_name\",'Year'])\n",
    "pct_change = (cpct_ov.groupby('geoid')['avg_xco2']\n",
    "                                  .apply(pd.Series.pct_change) + 1).rename('pct_change').reset_index()\n",
    "cpct_ov=pd.merge(cpct_ov, pct_change['pct_change'], left_index=True, right_index=True)\n",
    "cpct_ov=cpct_ov[cpct_ov['Year']==2018]\n",
    "\n",
    "#plotting\n",
    "fig = px.choropleth(cpct_ov, geojson=counties_map, locations='geoid', color='pct_change',\n",
    "                           color_continuous_scale=\"YlOrRd\",\n",
    "                           hover_data=['readings_count','county_name'],\n",
    "                           scope=\"usa\",\n",
    "                           range_color=(1.0,1.025),\n",
    "                           width=800,\n",
    "                           height=600\n",
    "                          )\n",
    "fig.update_layout(margin={\"r\":0,\"t\":0,\"l\":0,\"b\":0})\n",
    "fig.show()"
   ]
  }
 ],
 "metadata": {
  "kernelspec": {
   "display_name": "Python 3 (ipykernel)",
   "language": "python",
   "name": "python3"
  },
  "language_info": {
   "codemirror_mode": {
    "name": "ipython",
    "version": 3
   },
   "file_extension": ".py",
   "mimetype": "text/x-python",
   "name": "python",
   "nbconvert_exporter": "python",
   "pygments_lexer": "ipython3",
   "version": "3.11.3"
  }
 },
 "nbformat": 4,
 "nbformat_minor": 5
}
