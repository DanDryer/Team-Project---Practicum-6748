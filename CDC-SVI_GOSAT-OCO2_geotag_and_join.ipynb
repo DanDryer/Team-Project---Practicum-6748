{
 "cells": [
  {
   "cell_type": "markdown",
   "source": [
    "# Multivariate GHG Emission Clustering with CO2 and Socioeconomic Data: Data Pipeline\n",
    "GE Vernova (Team 2): Dan Dryer, Joanna Rashid, Nhu Y Pham\n"
   ],
   "metadata": {
    "collapsed": false
   }
  },
  {
   "cell_type": "markdown",
   "source": [
    "## Social Vulnerability Data from CDC 2014-2018\n",
    "cleaning, merging, and imputing missing values\n",
    "Data source: https://www.atsdr.cdc.gov/placeandhealth/svi/data_documentation_download.html\n",
    "Metadata: https://www.atsdr.cdc.gov/placeandhealth/svi/documentation/pdf/SVI2018Documentation_01192022_1.pdf\n"
   ],
   "metadata": {
    "collapsed": false
   }
  },
  {
   "cell_type": "code",
   "execution_count": 86,
   "outputs": [],
   "source": [
    "#load packages\n",
    "import pandas as pd"
   ],
   "metadata": {
    "collapsed": false,
    "ExecuteTime": {
     "start_time": "2023-07-07T14:46:14.477287Z",
     "end_time": "2023-07-07T14:46:14.482981Z"
    }
   }
  },
  {
   "cell_type": "code",
   "execution_count": 30,
   "outputs": [],
   "source": [
    "#read in cdc SVI data\n",
    "cdc_svi_2014 = pd.read_csv('https://storage.googleapis.com/oco2-sedac-2014-2018/CDC_SVI_Raw_Data/SVI2014_US.csv')\n",
    "cdc_svi_2016 = pd.read_csv('https://storage.googleapis.com/oco2-sedac-2014-2018/CDC_SVI_Raw_Data/SVI2016_US.csv')\n",
    "cdc_svi_2018 = pd.read_csv('https://storage.googleapis.com/oco2-sedac-2014-2018/CDC_SVI_Raw_Data/SVI2018_US.csv')\n",
    "cdc_svi_2020 = pd.read_csv('https://storage.googleapis.com/oco2-sedac-2014-2018/CDC_SVI_Raw_Data/SVI2020_US.csv')"
   ],
   "metadata": {
    "collapsed": false,
    "ExecuteTime": {
     "start_time": "2023-07-07T13:44:45.134466Z",
     "end_time": "2023-07-07T13:44:59.451310Z"
    }
   }
  },
  {
   "cell_type": "markdown",
   "source": [
    "### Subsetting variables of interest and joining data\n",
    "\n",
    "Variables are selected are percentile rankings for the socioeconomic vulnerability index, and its four major areas (housing, minority status, housing and transportation type, household composition). Population, number of housing units, number of household, and unemployment rate are also selected based on consistent availability and calculation method from 2014-2020. Additional geographic identifiers are selected as well.\n"
   ],
   "metadata": {
    "collapsed": false
   }
  },
  {
   "cell_type": "code",
   "execution_count": 31,
   "outputs": [],
   "source": [
    "#select rows of interest 2014\n",
    "cdc_svi_2014 = cdc_svi_2014[['ST', 'STATE', 'ST_ABBR', 'STCNTY', 'COUNTY', 'FIPS', 'LOCATION',\n",
    "                             'E_TOTPOP','E_HU','E_HH', 'E_UNEMP','RPL_THEME1','RPL_THEME2','RPL_THEME3',\n",
    "                             'RPL_THEME4','RPL_THEMES']]\n",
    "\n",
    "#select rows of interest 2016\n",
    "cdc_svi_2016 = cdc_svi_2016[['FIPS','E_TOTPOP','E_HU','E_HH', 'E_UNEMP','RPL_THEME1',\n",
    "                            'RPL_THEME2','RPL_THEME3','RPL_THEME4','RPL_THEMES']]\n",
    "\n",
    "#select rows of interest 2018\n",
    "cdc_svi_2018 = cdc_svi_2018[['FIPS', 'E_TOTPOP','E_HU', 'E_HH', 'E_UNEMP', 'RPL_THEME1',\n",
    "                             'RPL_THEME2','RPL_THEME3','RPL_THEME4','RPL_THEMES']]\n",
    "\n",
    "#select var 2020\n",
    "cdc_svi_2020 = cdc_svi_2020[['FIPS', 'E_TOTPOP','E_HU', 'E_HH', 'E_UNEMP', 'RPL_THEME1',\n",
    "                             'RPL_THEME2','RPL_THEME3','RPL_THEME4','RPL_THEMES']]"
   ],
   "metadata": {
    "collapsed": false,
    "ExecuteTime": {
     "start_time": "2023-07-07T13:52:24.025060Z",
     "end_time": "2023-07-07T13:52:24.028249Z"
    }
   }
  },
  {
   "cell_type": "code",
   "execution_count": 32,
   "outputs": [],
   "source": [
    "#rename columns to add year identifier\n",
    "#add suffix to select rows of interest 2014\n",
    "cdc_svi_2014_renamed = cdc_svi_2014.add_suffix('_2014')\n",
    "cdc_svi_2016_renamed = cdc_svi_2016.add_suffix('_2016')\n",
    "cdc_svi_2018_renamed = cdc_svi_2018.add_suffix('_2018')\n",
    "cdc_svi_2020_renamed = cdc_svi_2020.add_suffix('_2020')\n",
    "\n",
    "#drop _2014 from cdc_svi_2014_renamed\n",
    "cdc_svi_2014_renamed.rename(columns={'ST_2014':'ST', 'STATE_2014':'STATE', 'ST_ABBR_2014':'ST_ABBR',\n",
    "                                                            'STCNTY_2014':'STCNTY', 'COUNTY_2014':'COUNTY', 'FIPS_2014':'FIPS',\n",
    "                                                            'LOCATION_2014':'LOCATION'}, inplace=True)\n",
    "\n",
    "#rename FIPS column 'FIPS'\n",
    "cdc_svi_2016_renamed.rename(columns={'FIPS_2016':'FIPS'}, inplace=True)\n",
    "cdc_svi_2018_renamed.rename(columns={'FIPS_2018':'FIPS'}, inplace=True)\n",
    "cdc_svi_2020_renamed.rename(columns={'FIPS_2020':'FIPS'}, inplace=True)"
   ],
   "metadata": {
    "collapsed": false,
    "ExecuteTime": {
     "start_time": "2023-07-07T13:52:33.650985Z",
     "end_time": "2023-07-07T13:52:33.740771Z"
    }
   }
  },
  {
   "cell_type": "code",
   "execution_count": 33,
   "outputs": [],
   "source": [
    "#join all dfs on FIPS\n",
    "df_join = pd.merge(cdc_svi_2014_renamed, cdc_svi_2016_renamed, on='FIPS', how='outer')\n",
    "df_join = pd.merge(df_join, cdc_svi_2018_renamed, on='FIPS', how='outer')\n",
    "df_join = pd.merge(df_join, cdc_svi_2020_renamed, on='FIPS', how='outer')"
   ],
   "metadata": {
    "collapsed": false,
    "ExecuteTime": {
     "start_time": "2023-07-07T13:52:38.268192Z",
     "end_time": "2023-07-07T13:52:38.488881Z"
    }
   }
  },
  {
   "cell_type": "markdown",
   "source": [
    "### Imputing values for 2015, 2017, and 2019\n",
    "Imputation is conducted by taking the average of the preceding and succeeding year's values for each variable. For example, the value for 2015 is the average of the 2014 and 2016 values. This is done for each variable in the dataset."
   ],
   "metadata": {
    "collapsed": false
   }
  },
  {
   "cell_type": "code",
   "execution_count": 34,
   "outputs": [],
   "source": [
    "# Create a list of years to impute (2015, 2017, and 2019)\n",
    "years_to_impute = [2015, 2017, 2019]\n",
    "\n",
    "# Iterate over the years to impute\n",
    "for year in years_to_impute:\n",
    "    # Iterate over the columns\n",
    "    for column in df_join.columns:\n",
    "        if column.startswith('E_') or column.startswith('RPL_'):\n",
    "            # Extract the column prefix and check if it matches 'E_' or 'RPL_'\n",
    "            column_prefix = column.split('_')[0]\n",
    "            name = column.split('_')[1]\n",
    "            if column_prefix in ['E', 'RPL']:\n",
    "                # Create a new column name for the imputed values\n",
    "                new_column_name = f'{column_prefix}_{name}_{year}'\n",
    "\n",
    "                # Compute the average for the current column\n",
    "                preceding_year_column = f'{column_prefix}_{name}_{year - 1}'\n",
    "                succeeding_year_column = f'{column_prefix}_{name}_{year + 1}'\n",
    "\n",
    "                #impute with mean of subsequent and prior year\n",
    "                imputed_values = (\n",
    "                        (df_join[preceding_year_column] + df_join[succeeding_year_column]) / 2\n",
    "                )\n",
    "\n",
    "                # Add the new column with the imputed values to the data frame\n",
    "                df_join[new_column_name] = imputed_values\n"
   ],
   "metadata": {
    "collapsed": false,
    "ExecuteTime": {
     "start_time": "2023-07-07T13:53:08.019689Z",
     "end_time": "2023-07-07T13:53:08.157723Z"
    }
   }
  },
  {
   "cell_type": "code",
   "execution_count": 35,
   "outputs": [],
   "source": [
    "#convert from wide to long creating new year column\n",
    "df_svi_long = pd.wide_to_long(df_join, stubnames=['E_TOTPOP', 'E_HU', 'E_HH', 'E_UNEMP', 'RPL_THEME1',\n",
    "                                                   'RPL_THEME2', 'RPL_THEME3', 'RPL_THEME4', 'RPL_THEMES'],\n",
    "                               i=['ST', 'STATE', 'ST_ABBR', 'STCNTY', 'COUNTY', 'FIPS', 'LOCATION'],\n",
    "                               j='year', sep='_', suffix='\\w+').reset_index()"
   ],
   "metadata": {
    "collapsed": false,
    "ExecuteTime": {
     "start_time": "2023-07-07T13:53:16.916210Z",
     "end_time": "2023-07-07T13:53:42.244437Z"
    }
   }
  },
  {
   "cell_type": "code",
   "execution_count": 36,
   "outputs": [],
   "source": [
    "#rename columns to desciptive labels\n",
    "df_svi_long.rename(columns={'E_TOTPOP':'total_population', 'E_HU':'housing_units',\n",
    "                             'E_HH':'num_households', 'E_UNEMP':'unemployment',\n",
    "                            'RPL_THEME1':'socioeconomic',\n",
    "                             'RPL_THEME2':'household_comp', 'RPL_THEME3':'minority_status', 'RPL_THEME4':'housing_type',\n",
    "                             'RPL_THEMES':'overall_svi'}, inplace=True)"
   ],
   "metadata": {
    "collapsed": false,
    "ExecuteTime": {
     "start_time": "2023-07-07T13:53:42.248293Z",
     "end_time": "2023-07-07T13:53:42.253146Z"
    }
   }
  },
  {
   "cell_type": "code",
   "execution_count": 37,
   "outputs": [
    {
     "data": {
      "text/plain": "     ST      STATE ST_ABBR   STCNTY   COUNTY         FIPS  \\\n0  36.0   New York      NY  36065.0   Oneida  36065023400   \n1  36.0   New York      NY  36065.0   Oneida  36065023400   \n2  36.0   New York      NY  36065.0   Oneida  36065023400   \n3  36.0   New York      NY  36065.0   Oneida  36065023400   \n4  36.0   New York      NY  36065.0   Oneida  36065023400   \n\n                                    LOCATION  year  total_population  \\\n0  Census Tract 234, Oneida County, New York  2014            4432.0   \n1  Census Tract 234, Oneida County, New York  2016            4848.0   \n2  Census Tract 234, Oneida County, New York  2018            4904.0   \n3  Census Tract 234, Oneida County, New York  2020            4617.0   \n4  Census Tract 234, Oneida County, New York  2015            4640.0   \n\n   housing_units  num_households  unemployment  socioeconomic  household_comp  \\\n0         2456.0          2094.0         157.0         0.5811         0.94420   \n1         2459.0          2154.0          90.0         0.3631         0.90810   \n2         2394.0          2225.0          84.0         0.4684         0.70040   \n3         2339.0          2089.0          58.0         0.3147         0.69980   \n4         2457.5          2124.0         123.5         0.4721         0.92615   \n\n   minority_status  housing_type  overall_svi  \n0           0.3143       0.48440       0.6302  \n1           0.0733       0.41610       0.4056  \n2           0.3336       0.47710       0.4893  \n3           0.1768       0.79120       0.5298  \n4           0.1938       0.45025       0.5179  ",
      "text/html": "<div>\n<style scoped>\n    .dataframe tbody tr th:only-of-type {\n        vertical-align: middle;\n    }\n\n    .dataframe tbody tr th {\n        vertical-align: top;\n    }\n\n    .dataframe thead th {\n        text-align: right;\n    }\n</style>\n<table border=\"1\" class=\"dataframe\">\n  <thead>\n    <tr style=\"text-align: right;\">\n      <th></th>\n      <th>ST</th>\n      <th>STATE</th>\n      <th>ST_ABBR</th>\n      <th>STCNTY</th>\n      <th>COUNTY</th>\n      <th>FIPS</th>\n      <th>LOCATION</th>\n      <th>year</th>\n      <th>total_population</th>\n      <th>housing_units</th>\n      <th>num_households</th>\n      <th>unemployment</th>\n      <th>socioeconomic</th>\n      <th>household_comp</th>\n      <th>minority_status</th>\n      <th>housing_type</th>\n      <th>overall_svi</th>\n    </tr>\n  </thead>\n  <tbody>\n    <tr>\n      <th>0</th>\n      <td>36.0</td>\n      <td>New York</td>\n      <td>NY</td>\n      <td>36065.0</td>\n      <td>Oneida</td>\n      <td>36065023400</td>\n      <td>Census Tract 234, Oneida County, New York</td>\n      <td>2014</td>\n      <td>4432.0</td>\n      <td>2456.0</td>\n      <td>2094.0</td>\n      <td>157.0</td>\n      <td>0.5811</td>\n      <td>0.94420</td>\n      <td>0.3143</td>\n      <td>0.48440</td>\n      <td>0.6302</td>\n    </tr>\n    <tr>\n      <th>1</th>\n      <td>36.0</td>\n      <td>New York</td>\n      <td>NY</td>\n      <td>36065.0</td>\n      <td>Oneida</td>\n      <td>36065023400</td>\n      <td>Census Tract 234, Oneida County, New York</td>\n      <td>2016</td>\n      <td>4848.0</td>\n      <td>2459.0</td>\n      <td>2154.0</td>\n      <td>90.0</td>\n      <td>0.3631</td>\n      <td>0.90810</td>\n      <td>0.0733</td>\n      <td>0.41610</td>\n      <td>0.4056</td>\n    </tr>\n    <tr>\n      <th>2</th>\n      <td>36.0</td>\n      <td>New York</td>\n      <td>NY</td>\n      <td>36065.0</td>\n      <td>Oneida</td>\n      <td>36065023400</td>\n      <td>Census Tract 234, Oneida County, New York</td>\n      <td>2018</td>\n      <td>4904.0</td>\n      <td>2394.0</td>\n      <td>2225.0</td>\n      <td>84.0</td>\n      <td>0.4684</td>\n      <td>0.70040</td>\n      <td>0.3336</td>\n      <td>0.47710</td>\n      <td>0.4893</td>\n    </tr>\n    <tr>\n      <th>3</th>\n      <td>36.0</td>\n      <td>New York</td>\n      <td>NY</td>\n      <td>36065.0</td>\n      <td>Oneida</td>\n      <td>36065023400</td>\n      <td>Census Tract 234, Oneida County, New York</td>\n      <td>2020</td>\n      <td>4617.0</td>\n      <td>2339.0</td>\n      <td>2089.0</td>\n      <td>58.0</td>\n      <td>0.3147</td>\n      <td>0.69980</td>\n      <td>0.1768</td>\n      <td>0.79120</td>\n      <td>0.5298</td>\n    </tr>\n    <tr>\n      <th>4</th>\n      <td>36.0</td>\n      <td>New York</td>\n      <td>NY</td>\n      <td>36065.0</td>\n      <td>Oneida</td>\n      <td>36065023400</td>\n      <td>Census Tract 234, Oneida County, New York</td>\n      <td>2015</td>\n      <td>4640.0</td>\n      <td>2457.5</td>\n      <td>2124.0</td>\n      <td>123.5</td>\n      <td>0.4721</td>\n      <td>0.92615</td>\n      <td>0.1938</td>\n      <td>0.45025</td>\n      <td>0.5179</td>\n    </tr>\n  </tbody>\n</table>\n</div>"
     },
     "execution_count": 37,
     "metadata": {},
     "output_type": "execute_result"
    }
   ],
   "source": [
    "df_svi_long.head()"
   ],
   "metadata": {
    "collapsed": false,
    "ExecuteTime": {
     "start_time": "2023-07-07T13:53:42.269560Z",
     "end_time": "2023-07-07T13:53:42.280631Z"
    }
   }
  },
  {
   "cell_type": "markdown",
   "source": [
    "## Importing atmospheric CO2 data from GOSAT/OCO-2 composite raster data\n",
    "Data Source Methodology: https://www.tandfonline.com/doi/figure/10.1080/20964471.2022.2033149?scroll=top&needAccess=true&role=tab\n",
    "Data Source: https://dataverse.harvard.edu/dataset.xhtml?persistentId=doi:10.7910/DVN/4WDTD8\n",
    "\n",
    "*The global 1° land mapping XCO2 dataset (Mapping-XCO2) is derived from satellite XCO2 retrievals of GOSAT and OCO-2 spanning the period of April 2009 to December 2020. The data product is provided in GeoTIFF format and include two temporal resolutions: 3 days and month. The 3-day data files include gridded XCO2 and mapping uncertainty, which are named like “MappingXCO2_Date.nc” and “MappingUncertainty_Date.nc”. The flag “Date” is defined as date ID of 1426 time-units started from 20 April 2009. The monthly data files only include XCO2 data and named like “MappingXCO2_YYYY_MM.tif”. The number of “YYYY” and “MM” represent year and month, respectively. The domain of the dataset covers global land ranging from 56° S to 65° N and 169° W to 180° E. The spatial reference of the dataset is Geographic Lat/Lon. The unit of XCO2 data is ppm while the nodata values were assigned to NaN. (2021-03-26)*\n",
    "\n",
    "US Bounding Coordinates Used to Trim Data for reference:\n",
    "Longitude:\n",
    "West Bounding Coordinate: -180.000000\n",
    "East Bounding Coordinate: -65.000000\n",
    "\n",
    "Latitude:\n",
    "North Bounding Coordinate: 72.000000\n",
    "South Bounding Coordinate: 17.000000"
   ],
   "metadata": {
    "collapsed": false
   }
  },
  {
   "cell_type": "code",
   "execution_count": 47,
   "outputs": [],
   "source": [
    "from osgeo import gdal\n",
    "import re\n",
    "import glob\n",
    "import requests\n",
    "import zipfile"
   ],
   "metadata": {
    "collapsed": false,
    "ExecuteTime": {
     "start_time": "2023-07-07T14:28:17.916787Z",
     "end_time": "2023-07-07T14:28:17.924588Z"
    }
   }
  },
  {
   "cell_type": "code",
   "execution_count": 48,
   "outputs": [],
   "source": [
    "def raster_to_df(path):\n",
    "    \"\"\"\n",
    "    :param path: path to geotif file\n",
    "    :return: pandas df\n",
    "    Opens a geotif file and converts to pandas df\n",
    "    Labels year and month based on file name\n",
    "    trims based on coordinates of continental US\n",
    "    \"\"\"\n",
    "    #open tif file\n",
    "    raster = gdal.Open(path)\n",
    "\n",
    "    # Extract the filename from the file path\n",
    "    filename = os.path.basename(path)\n",
    "\n",
    "    # Extract the year and month using regular expressions\n",
    "    match = re.search(r'(\\d{4})(\\d{2})', filename)\n",
    "    year = match.group(1)\n",
    "    month = match.group(2)\n",
    "    new_file_name = f\"MappingXCO2_{year}{month}.xyz\"\n",
    "\n",
    "    #convert raster to xyz file\n",
    "    gdf = gdal.Translate(new_file_name, raster)\n",
    "\n",
    "    #open xyz file as pandas df\n",
    "    df = pd.read_csv(new_file_name, sep = \" \", header=None)\n",
    "\n",
    "    #rename columns\n",
    "    df.columns = [\"longitude\",\"latitude\", f\"xco2_{year}_{month}\"]\n",
    "\n",
    "    #trim df_co2 to bounding coordinates\n",
    "    df = df[(df['longitude'] >= -180.00) & (df['longitude'] <= -65.00)]\n",
    "    df = df[(df['latitude'] >= 17.00) & (df['latitude'] <= 72.00)]\n",
    "\n",
    "    return df"
   ],
   "metadata": {
    "collapsed": false,
    "ExecuteTime": {
     "start_time": "2023-07-07T14:28:19.695885Z",
     "end_time": "2023-07-07T14:28:19.702399Z"
    }
   }
  },
  {
   "cell_type": "code",
   "execution_count": 49,
   "outputs": [
    {
     "name": "stdout",
     "output_type": "stream",
     "text": [
      "['co2_data/MappingXCO2.zip', 'co2_data/__MACOSX/._MappingXCO2_2014-2020', 'co2_data/__MACOSX/MappingXCO2_2014-2020/._MappingXCO2_201508.tif', 'co2_data/__MACOSX/MappingXCO2_2014-2020/._MappingXCO2_202001.tif', 'co2_data/__MACOSX/MappingXCO2_2014-2020/._MappingXCO2_201911.tif', 'co2_data/__MACOSX/MappingXCO2_2014-2020/._MappingXCO2_201905.tif', 'co2_data/__MACOSX/MappingXCO2_2014-2020/._MappingXCO2_201904.tif', 'co2_data/__MACOSX/MappingXCO2_2014-2020/._MappingXCO2_201910.tif', 'co2_data/__MACOSX/MappingXCO2_2014-2020/._MappingXCO2_201509.tif', 'co2_data/__MACOSX/MappingXCO2_2014-2020/._MappingXCO2_202002.tif', 'co2_data/__MACOSX/MappingXCO2_2014-2020/._MappingXCO2_201906.tif', 'co2_data/__MACOSX/MappingXCO2_2014-2020/._MappingXCO2_201912.tif', 'co2_data/__MACOSX/MappingXCO2_2014-2020/._MappingXCO2_201709.tif', 'co2_data/__MACOSX/MappingXCO2_2014-2020/._MappingXCO2_201708.tif', 'co2_data/__MACOSX/MappingXCO2_2014-2020/._MappingXCO2_201907.tif', 'co2_data/__MACOSX/MappingXCO2_2014-2020/._MappingXCO2_202003.tif', 'co2_data/__MACOSX/MappingXCO2_2014-2020/._MappingXCO2_202007.tif', 'co2_data/__MACOSX/MappingXCO2_2014-2020/._MappingXCO2_201903.tif', 'co2_data/__MACOSX/MappingXCO2_2014-2020/._MappingXCO2_201902.tif', 'co2_data/__MACOSX/MappingXCO2_2014-2020/._MappingXCO2_202006.tif', 'co2_data/__MACOSX/MappingXCO2_2014-2020/._MappingXCO2_202012.tif', 'co2_data/__MACOSX/MappingXCO2_2014-2020/._MappingXCO2_202004.tif', 'co2_data/__MACOSX/MappingXCO2_2014-2020/._MappingXCO2_202010.tif', 'co2_data/__MACOSX/MappingXCO2_2014-2020/._MappingXCO2_201901.tif', 'co2_data/__MACOSX/MappingXCO2_2014-2020/._MappingXCO2_202011.tif', 'co2_data/__MACOSX/MappingXCO2_2014-2020/._MappingXCO2_202005.tif', 'co2_data/__MACOSX/MappingXCO2_2014-2020/._MappingXCO2_201806.tif', 'co2_data/__MACOSX/MappingXCO2_2014-2020/._MappingXCO2_201812.tif', 'co2_data/__MACOSX/MappingXCO2_2014-2020/._MappingXCO2_201609.tif', 'co2_data/__MACOSX/MappingXCO2_2014-2020/._MappingXCO2_201608.tif', 'co2_data/__MACOSX/MappingXCO2_2014-2020/._MappingXCO2_201807.tif', 'co2_data/__MACOSX/MappingXCO2_2014-2020/._MappingXCO2_201811.tif', 'co2_data/__MACOSX/MappingXCO2_2014-2020/._MappingXCO2_201805.tif', 'co2_data/__MACOSX/MappingXCO2_2014-2020/._MappingXCO2_201408.tif', 'co2_data/__MACOSX/MappingXCO2_2014-2020/._MappingXCO2_201409.tif', 'co2_data/__MACOSX/MappingXCO2_2014-2020/._MappingXCO2_201804.tif', 'co2_data/__MACOSX/MappingXCO2_2014-2020/._MappingXCO2_201810.tif', 'co2_data/__MACOSX/MappingXCO2_2014-2020/._MappingXCO2_201801.tif', 'co2_data/__MACOSX/MappingXCO2_2014-2020/._MappingXCO2_201803.tif', 'co2_data/__MACOSX/MappingXCO2_2014-2020/._MappingXCO2_201802.tif', 'co2_data/__MACOSX/MappingXCO2_2014-2020/._MappingXCO2_201402.tif', 'co2_data/__MACOSX/MappingXCO2_2014-2020/._MappingXCO2_201403.tif', 'co2_data/__MACOSX/MappingXCO2_2014-2020/._MappingXCO2_201601.tif', 'co2_data/__MACOSX/MappingXCO2_2014-2020/._MappingXCO2_201603.tif', 'co2_data/__MACOSX/MappingXCO2_2014-2020/._MappingXCO2_201401.tif', 'co2_data/__MACOSX/MappingXCO2_2014-2020/._MappingXCO2_201602.tif', 'co2_data/__MACOSX/MappingXCO2_2014-2020/._MappingXCO2_201809.tif', 'co2_data/__MACOSX/MappingXCO2_2014-2020/._MappingXCO2_201612.tif', 'co2_data/__MACOSX/MappingXCO2_2014-2020/._MappingXCO2_201606.tif', 'co2_data/__MACOSX/MappingXCO2_2014-2020/._MappingXCO2_201410.tif', 'co2_data/__MACOSX/MappingXCO2_2014-2020/._MappingXCO2_201404.tif', 'co2_data/__MACOSX/MappingXCO2_2014-2020/._MappingXCO2_201405.tif', 'co2_data/__MACOSX/MappingXCO2_2014-2020/._MappingXCO2_201411.tif', 'co2_data/__MACOSX/MappingXCO2_2014-2020/._MappingXCO2_201607.tif', 'co2_data/__MACOSX/MappingXCO2_2014-2020/._MappingXCO2_201808.tif', 'co2_data/__MACOSX/MappingXCO2_2014-2020/._MappingXCO2_201605.tif', 'co2_data/__MACOSX/MappingXCO2_2014-2020/._MappingXCO2_201611.tif', 'co2_data/__MACOSX/MappingXCO2_2014-2020/._MappingXCO2_201407.tif', 'co2_data/__MACOSX/MappingXCO2_2014-2020/._MappingXCO2_201412.tif', 'co2_data/__MACOSX/MappingXCO2_2014-2020/._MappingXCO2_201406.tif', 'co2_data/__MACOSX/MappingXCO2_2014-2020/._MappingXCO2_201610.tif', 'co2_data/__MACOSX/MappingXCO2_2014-2020/._MappingXCO2_201604.tif', 'co2_data/__MACOSX/MappingXCO2_2014-2020/._MappingXCO2_202008.tif', 'co2_data/__MACOSX/MappingXCO2_2014-2020/._MappingXCO2_201501.tif', 'co2_data/__MACOSX/MappingXCO2_2014-2020/._MappingXCO2_201703.tif', 'co2_data/__MACOSX/MappingXCO2_2014-2020/._MappingXCO2_201702.tif', 'co2_data/__MACOSX/MappingXCO2_2014-2020/._MappingXCO2_202009.tif', 'co2_data/__MACOSX/MappingXCO2_2014-2020/._MappingXCO2_201502.tif', 'co2_data/__MACOSX/MappingXCO2_2014-2020/._MappingXCO2_201701.tif', 'co2_data/__MACOSX/MappingXCO2_2014-2020/._MappingXCO2_201503.tif', 'co2_data/__MACOSX/MappingXCO2_2014-2020/._MappingXCO2_201507.tif', 'co2_data/__MACOSX/MappingXCO2_2014-2020/._MappingXCO2_201705.tif', 'co2_data/__MACOSX/MappingXCO2_2014-2020/._MappingXCO2_201711.tif', 'co2_data/__MACOSX/MappingXCO2_2014-2020/._MappingXCO2_201710.tif', 'co2_data/__MACOSX/MappingXCO2_2014-2020/._MappingXCO2_201704.tif', 'co2_data/__MACOSX/MappingXCO2_2014-2020/._MappingXCO2_201512.tif', 'co2_data/__MACOSX/MappingXCO2_2014-2020/._MappingXCO2_201506.tif', 'co2_data/__MACOSX/MappingXCO2_2014-2020/._MappingXCO2_201510.tif', 'co2_data/__MACOSX/MappingXCO2_2014-2020/._MappingXCO2_201504.tif', 'co2_data/__MACOSX/MappingXCO2_2014-2020/._MappingXCO2_201909.tif', 'co2_data/__MACOSX/MappingXCO2_2014-2020/._MappingXCO2_201712.tif', 'co2_data/__MACOSX/MappingXCO2_2014-2020/._MappingXCO2_201706.tif', 'co2_data/__MACOSX/MappingXCO2_2014-2020/._MappingXCO2_201707.tif', 'co2_data/__MACOSX/MappingXCO2_2014-2020/._MappingXCO2_201908.tif', 'co2_data/__MACOSX/MappingXCO2_2014-2020/._MappingXCO2_201505.tif', 'co2_data/__MACOSX/MappingXCO2_2014-2020/._MappingXCO2_201511.tif', 'co2_data/MappingXCO2_2014-2020/MappingXCO2_201801.tif', 'co2_data/MappingXCO2_2014-2020/MappingXCO2_201803.tif', 'co2_data/MappingXCO2_2014-2020/MappingXCO2_201802.tif', 'co2_data/MappingXCO2_2014-2020/MappingXCO2_201609.tif', 'co2_data/MappingXCO2_2014-2020/MappingXCO2_201806.tif', 'co2_data/MappingXCO2_2014-2020/MappingXCO2_201812.tif', 'co2_data/MappingXCO2_2014-2020/MappingXCO2_201807.tif', 'co2_data/MappingXCO2_2014-2020/MappingXCO2_201608.tif', 'co2_data/MappingXCO2_2014-2020/MappingXCO2_201408.tif', 'co2_data/MappingXCO2_2014-2020/MappingXCO2_201811.tif', 'co2_data/MappingXCO2_2014-2020/MappingXCO2_201805.tif', 'co2_data/MappingXCO2_2014-2020/MappingXCO2_201804.tif', 'co2_data/MappingXCO2_2014-2020/MappingXCO2_201810.tif', 'co2_data/MappingXCO2_2014-2020/MappingXCO2_201409.tif', 'co2_data/MappingXCO2_2014-2020/MappingXCO2_201903.tif', 'co2_data/MappingXCO2_2014-2020/MappingXCO2_202007.tif', 'co2_data/MappingXCO2_2014-2020/MappingXCO2_202006.tif', 'co2_data/MappingXCO2_2014-2020/MappingXCO2_202012.tif', 'co2_data/MappingXCO2_2014-2020/MappingXCO2_201902.tif', 'co2_data/MappingXCO2_2014-2020/MappingXCO2_202004.tif', 'co2_data/MappingXCO2_2014-2020/MappingXCO2_202010.tif', 'co2_data/MappingXCO2_2014-2020/MappingXCO2_202011.tif', 'co2_data/MappingXCO2_2014-2020/MappingXCO2_202005.tif', 'co2_data/MappingXCO2_2014-2020/MappingXCO2_201901.tif', 'co2_data/MappingXCO2_2014-2020/MappingXCO2_201911.tif', 'co2_data/MappingXCO2_2014-2020/MappingXCO2_201905.tif', 'co2_data/MappingXCO2_2014-2020/MappingXCO2_201508.tif', 'co2_data/MappingXCO2_2014-2020/MappingXCO2_202001.tif', 'co2_data/MappingXCO2_2014-2020/MappingXCO2_201509.tif', 'co2_data/MappingXCO2_2014-2020/MappingXCO2_201904.tif', 'co2_data/MappingXCO2_2014-2020/MappingXCO2_201910.tif', 'co2_data/MappingXCO2_2014-2020/MappingXCO2_201709.tif', 'co2_data/MappingXCO2_2014-2020/MappingXCO2_201906.tif', 'co2_data/MappingXCO2_2014-2020/MappingXCO2_201912.tif', 'co2_data/MappingXCO2_2014-2020/MappingXCO2_202002.tif', 'co2_data/MappingXCO2_2014-2020/MappingXCO2_202003.tif', 'co2_data/MappingXCO2_2014-2020/MappingXCO2_201907.tif', 'co2_data/MappingXCO2_2014-2020/MappingXCO2_201708.tif', 'co2_data/MappingXCO2_2014-2020/MappingXCO2_201705.tif', 'co2_data/MappingXCO2_2014-2020/MappingXCO2_201711.tif', 'co2_data/MappingXCO2_2014-2020/MappingXCO2_201507.tif', 'co2_data/MappingXCO2_2014-2020/MappingXCO2_201512.tif', 'co2_data/MappingXCO2_2014-2020/MappingXCO2_201506.tif', 'co2_data/MappingXCO2_2014-2020/MappingXCO2_201710.tif', 'co2_data/MappingXCO2_2014-2020/MappingXCO2_201704.tif', 'co2_data/MappingXCO2_2014-2020/MappingXCO2_201712.tif', 'co2_data/MappingXCO2_2014-2020/MappingXCO2_201706.tif', 'co2_data/MappingXCO2_2014-2020/MappingXCO2_201909.tif', 'co2_data/MappingXCO2_2014-2020/MappingXCO2_201510.tif', 'co2_data/MappingXCO2_2014-2020/MappingXCO2_201504.tif', 'co2_data/MappingXCO2_2014-2020/MappingXCO2_201505.tif', 'co2_data/MappingXCO2_2014-2020/MappingXCO2_201511.tif', 'co2_data/MappingXCO2_2014-2020/MappingXCO2_201908.tif', 'co2_data/MappingXCO2_2014-2020/MappingXCO2_201707.tif', 'co2_data/MappingXCO2_2014-2020/MappingXCO2_201703.tif', 'co2_data/MappingXCO2_2014-2020/MappingXCO2_202008.tif', 'co2_data/MappingXCO2_2014-2020/MappingXCO2_201501.tif', 'co2_data/MappingXCO2_2014-2020/MappingXCO2_202009.tif', 'co2_data/MappingXCO2_2014-2020/MappingXCO2_201702.tif', 'co2_data/MappingXCO2_2014-2020/MappingXCO2_201502.tif', 'co2_data/MappingXCO2_2014-2020/MappingXCO2_201503.tif', 'co2_data/MappingXCO2_2014-2020/MappingXCO2_201701.tif', 'co2_data/MappingXCO2_2014-2020/MappingXCO2_201410.tif', 'co2_data/MappingXCO2_2014-2020/MappingXCO2_201404.tif', 'co2_data/MappingXCO2_2014-2020/MappingXCO2_201612.tif', 'co2_data/MappingXCO2_2014-2020/MappingXCO2_201606.tif', 'co2_data/MappingXCO2_2014-2020/MappingXCO2_201809.tif', 'co2_data/MappingXCO2_2014-2020/MappingXCO2_201808.tif', 'co2_data/MappingXCO2_2014-2020/MappingXCO2_201607.tif', 'co2_data/MappingXCO2_2014-2020/MappingXCO2_201405.tif', 'co2_data/MappingXCO2_2014-2020/MappingXCO2_201411.tif', 'co2_data/MappingXCO2_2014-2020/MappingXCO2_201407.tif', 'co2_data/MappingXCO2_2014-2020/MappingXCO2_201605.tif', 'co2_data/MappingXCO2_2014-2020/MappingXCO2_201611.tif', 'co2_data/MappingXCO2_2014-2020/MappingXCO2_201610.tif', 'co2_data/MappingXCO2_2014-2020/MappingXCO2_201604.tif', 'co2_data/MappingXCO2_2014-2020/MappingXCO2_201412.tif', 'co2_data/MappingXCO2_2014-2020/MappingXCO2_201406.tif', 'co2_data/MappingXCO2_2014-2020/MappingXCO2_201402.tif', 'co2_data/MappingXCO2_2014-2020/MappingXCO2_201601.tif', 'co2_data/MappingXCO2_2014-2020/MappingXCO2_201403.tif', 'co2_data/MappingXCO2_2014-2020/MappingXCO2_201401.tif', 'co2_data/MappingXCO2_2014-2020/MappingXCO2_201603.tif', 'co2_data/MappingXCO2_2014-2020/MappingXCO2_201602.tif']\n"
     ]
    }
   ],
   "source": [
    "#import all co2 month geotiff files in directory on google cloud storage\n",
    "url = 'https://storage.googleapis.com/oco2-sedac-2014-2018/MappingXCO2_2014-2020.zip'\n",
    "\n",
    "destination_dir = 'co2_data'\n",
    "\n",
    "# Create the destination directory if it doesn't exist\n",
    "os.makedirs(destination_dir, exist_ok=True)\n",
    "\n",
    "# Download the file\n",
    "response = requests.get(url)\n",
    "zip_path = os.path.join(destination_dir, 'MappingXCO2.zip')\n",
    "with open(zip_path, 'wb') as file:\n",
    "    file.write(response.content)\n",
    "\n",
    "# Unzip the downloaded file\n",
    "with zipfile.ZipFile(zip_path, 'r') as zip_ref:\n",
    "    zip_ref.extractall(destination_dir)\n",
    "\n",
    "# Get a list of paths to each file\n",
    "file_paths = []\n",
    "for root, dirs, files in os.walk(destination_dir):\n",
    "    for file in files:\n",
    "        file_path = os.path.join(root, file)\n",
    "        file_paths.append(file_path)\n",
    "\n",
    "# Remove the zip file\n",
    "os.remove(zip_path)"
   ],
   "metadata": {
    "collapsed": false,
    "ExecuteTime": {
     "start_time": "2023-07-07T14:28:24.299754Z",
     "end_time": "2023-07-07T14:28:24.999471Z"
    }
   }
  },
  {
   "cell_type": "code",
   "execution_count": 59,
   "outputs": [],
   "source": [
    "#iterate through monthly co2 files in folder and create dfs\n",
    "dfs = []\n",
    "\n",
    "for file in file_paths[86:]:\n",
    "    df = raster_to_df(file)\n",
    "    dfs.append(df)\n"
   ],
   "metadata": {
    "collapsed": false,
    "ExecuteTime": {
     "start_time": "2023-07-07T14:35:48.356250Z",
     "end_time": "2023-07-07T14:35:56.914754Z"
    }
   }
  },
  {
   "cell_type": "code",
   "execution_count": 60,
   "outputs": [],
   "source": [
    "# join dfs together on latitude, longitude\n",
    "df_co2 = dfs[0]\n",
    "for df in dfs[1:]:\n",
    "    df_co2 = df_co2.merge(df, how='outer', on=['latitude', 'longitude'])"
   ],
   "metadata": {
    "collapsed": false,
    "ExecuteTime": {
     "start_time": "2023-07-07T14:36:00.448938Z",
     "end_time": "2023-07-07T14:36:01.658417Z"
    }
   }
  },
  {
   "cell_type": "code",
   "execution_count": 61,
   "outputs": [
    {
     "name": "stdout",
     "output_type": "stream",
     "text": [
      "<class 'pandas.core.frame.DataFrame'>\n",
      "Int64Index: 6325 entries, 0 to 6324\n",
      "Data columns (total 86 columns):\n",
      " #   Column        Non-Null Count  Dtype  \n",
      "---  ------        --------------  -----  \n",
      " 0   longitude     6325 non-null   float64\n",
      " 1   latitude      6325 non-null   float64\n",
      " 2   xco2_2018_01  2498 non-null   float64\n",
      " 3   xco2_2018_03  2498 non-null   float64\n",
      " 4   xco2_2018_02  2498 non-null   float64\n",
      " 5   xco2_2016_09  2498 non-null   float64\n",
      " 6   xco2_2018_06  2498 non-null   float64\n",
      " 7   xco2_2018_12  2498 non-null   float64\n",
      " 8   xco2_2018_07  2498 non-null   float64\n",
      " 9   xco2_2016_08  2498 non-null   float64\n",
      " 10  xco2_2014_08  2498 non-null   float64\n",
      " 11  xco2_2018_11  2498 non-null   float64\n",
      " 12  xco2_2018_05  2498 non-null   float64\n",
      " 13  xco2_2018_04  2498 non-null   float64\n",
      " 14  xco2_2018_10  2498 non-null   float64\n",
      " 15  xco2_2014_09  2498 non-null   float64\n",
      " 16  xco2_2019_03  2498 non-null   float64\n",
      " 17  xco2_2020_07  2498 non-null   float64\n",
      " 18  xco2_2020_06  2498 non-null   float64\n",
      " 19  xco2_2020_12  2498 non-null   float64\n",
      " 20  xco2_2019_02  2498 non-null   float64\n",
      " 21  xco2_2020_04  2498 non-null   float64\n",
      " 22  xco2_2020_10  2498 non-null   float64\n",
      " 23  xco2_2020_11  2498 non-null   float64\n",
      " 24  xco2_2020_05  2498 non-null   float64\n",
      " 25  xco2_2019_01  2498 non-null   float64\n",
      " 26  xco2_2019_11  2498 non-null   float64\n",
      " 27  xco2_2019_05  2498 non-null   float64\n",
      " 28  xco2_2015_08  2498 non-null   float64\n",
      " 29  xco2_2020_01  2498 non-null   float64\n",
      " 30  xco2_2015_09  2498 non-null   float64\n",
      " 31  xco2_2019_04  2498 non-null   float64\n",
      " 32  xco2_2019_10  2498 non-null   float64\n",
      " 33  xco2_2017_09  2498 non-null   float64\n",
      " 34  xco2_2019_06  2498 non-null   float64\n",
      " 35  xco2_2019_12  2498 non-null   float64\n",
      " 36  xco2_2020_02  2498 non-null   float64\n",
      " 37  xco2_2020_03  2498 non-null   float64\n",
      " 38  xco2_2019_07  2498 non-null   float64\n",
      " 39  xco2_2017_08  2498 non-null   float64\n",
      " 40  xco2_2017_05  2498 non-null   float64\n",
      " 41  xco2_2017_11  2498 non-null   float64\n",
      " 42  xco2_2015_07  2498 non-null   float64\n",
      " 43  xco2_2015_12  2498 non-null   float64\n",
      " 44  xco2_2015_06  2498 non-null   float64\n",
      " 45  xco2_2017_10  2498 non-null   float64\n",
      " 46  xco2_2017_04  2498 non-null   float64\n",
      " 47  xco2_2017_12  2498 non-null   float64\n",
      " 48  xco2_2017_06  2498 non-null   float64\n",
      " 49  xco2_2019_09  2498 non-null   float64\n",
      " 50  xco2_2015_10  2498 non-null   float64\n",
      " 51  xco2_2015_04  2498 non-null   float64\n",
      " 52  xco2_2015_05  2498 non-null   float64\n",
      " 53  xco2_2015_11  2498 non-null   float64\n",
      " 54  xco2_2019_08  2498 non-null   float64\n",
      " 55  xco2_2017_07  2498 non-null   float64\n",
      " 56  xco2_2017_03  2498 non-null   float64\n",
      " 57  xco2_2020_08  2498 non-null   float64\n",
      " 58  xco2_2015_01  2498 non-null   float64\n",
      " 59  xco2_2020_09  2498 non-null   float64\n",
      " 60  xco2_2017_02  2498 non-null   float64\n",
      " 61  xco2_2015_02  2498 non-null   float64\n",
      " 62  xco2_2015_03  2498 non-null   float64\n",
      " 63  xco2_2017_01  2498 non-null   float64\n",
      " 64  xco2_2014_10  2498 non-null   float64\n",
      " 65  xco2_2014_04  2498 non-null   float64\n",
      " 66  xco2_2016_12  2498 non-null   float64\n",
      " 67  xco2_2016_06  2498 non-null   float64\n",
      " 68  xco2_2018_09  2498 non-null   float64\n",
      " 69  xco2_2018_08  2498 non-null   float64\n",
      " 70  xco2_2016_07  2498 non-null   float64\n",
      " 71  xco2_2014_05  2498 non-null   float64\n",
      " 72  xco2_2014_11  2498 non-null   float64\n",
      " 73  xco2_2014_07  2498 non-null   float64\n",
      " 74  xco2_2016_05  2498 non-null   float64\n",
      " 75  xco2_2016_11  2498 non-null   float64\n",
      " 76  xco2_2016_10  2498 non-null   float64\n",
      " 77  xco2_2016_04  2498 non-null   float64\n",
      " 78  xco2_2014_12  2498 non-null   float64\n",
      " 79  xco2_2014_06  2498 non-null   float64\n",
      " 80  xco2_2014_02  2498 non-null   float64\n",
      " 81  xco2_2016_01  2498 non-null   float64\n",
      " 82  xco2_2014_03  2498 non-null   float64\n",
      " 83  xco2_2014_01  2498 non-null   float64\n",
      " 84  xco2_2016_03  2498 non-null   float64\n",
      " 85  xco2_2016_02  2498 non-null   float64\n",
      "dtypes: float64(86)\n",
      "memory usage: 4.2 MB\n"
     ]
    }
   ],
   "source": [
    "df_co2.info()"
   ],
   "metadata": {
    "collapsed": false,
    "ExecuteTime": {
     "start_time": "2023-07-07T14:36:02.772321Z",
     "end_time": "2023-07-07T14:36:02.815859Z"
    }
   }
  },
  {
   "cell_type": "code",
   "execution_count": 62,
   "outputs": [
    {
     "name": "stdout",
     "output_type": "stream",
     "text": [
      "<class 'pandas.core.frame.DataFrame'>\n",
      "RangeIndex: 44275 entries, 0 to 44274\n",
      "Data columns (total 4 columns):\n",
      " #   Column     Non-Null Count  Dtype  \n",
      "---  ------     --------------  -----  \n",
      " 0   latitude   44275 non-null  float64\n",
      " 1   longitude  44275 non-null  float64\n",
      " 2   year       44275 non-null  object \n",
      " 3   xco2_std   17486 non-null  float64\n",
      "dtypes: float64(3), object(1)\n",
      "memory usage: 1.4+ MB\n"
     ]
    }
   ],
   "source": [
    "#2014 standard deviation\n",
    "df_std = df_co2.copy()\n",
    "\n",
    "df_std[2014] = df_std[['xco2_2014_01', 'xco2_2014_02', 'xco2_2014_03', 'xco2_2014_04', 'xco2_2014_05',\n",
    "                         'xco2_2014_06', 'xco2_2014_07', 'xco2_2014_08', 'xco2_2014_09', 'xco2_2014_10',\n",
    "                         'xco2_2014_11', 'xco2_2014_12']].std(axis=1)\n",
    "\n",
    "#2015 standard deviation\n",
    "df_std[2015] = df_std[['xco2_2015_01', 'xco2_2015_02', 'xco2_2015_03', 'xco2_2015_04', 'xco2_2015_05',\n",
    "                         'xco2_2015_06', 'xco2_2015_07', 'xco2_2015_08', 'xco2_2015_09', 'xco2_2015_10',\n",
    "                         'xco2_2015_11', 'xco2_2015_12']].std(axis=1)\n",
    "\n",
    "#2016 standard deviation\n",
    "df_std[2016] = df_std[['xco2_2016_01', 'xco2_2016_02', 'xco2_2016_03', 'xco2_2016_04', 'xco2_2016_05',\n",
    "                         'xco2_2016_06', 'xco2_2016_07', 'xco2_2016_08', 'xco2_2016_09', 'xco2_2016_10',\n",
    "                         'xco2_2016_11', 'xco2_2016_12']].std(axis=1)\n",
    "\n",
    "#2017 standard deviation\n",
    "df_std[2017] = df_std[['xco2_2017_01', 'xco2_2017_02', 'xco2_2017_03', 'xco2_2017_04', 'xco2_2017_05',\n",
    "                         'xco2_2017_06', 'xco2_2017_07', 'xco2_2017_08', 'xco2_2017_09', 'xco2_2017_10',\n",
    "                         'xco2_2017_11', 'xco2_2017_12']].std(axis=1)\n",
    "\n",
    "#2018 standard deviation\n",
    "df_std[2018] = df_std[['xco2_2018_01', 'xco2_2018_02', 'xco2_2018_03', 'xco2_2018_04', 'xco2_2018_05',\n",
    "                         'xco2_2018_06', 'xco2_2018_07', 'xco2_2018_08', 'xco2_2018_09', 'xco2_2018_10',\n",
    "                         'xco2_2018_11', 'xco2_2018_12']].std(axis=1)\n",
    "\n",
    "#2019 standard deviation\n",
    "df_std[2019] = df_std[['xco2_2019_01', 'xco2_2019_02', 'xco2_2019_03', 'xco2_2019_04', 'xco2_2019_05',\n",
    "                         'xco2_2019_06', 'xco2_2019_07', 'xco2_2019_08', 'xco2_2019_09', 'xco2_2019_10',\n",
    "                         'xco2_2019_11', 'xco2_2019_12']].std(axis=1)\n",
    "\n",
    "#2020 standard deviation\n",
    "df_std[2020] = df_std[['xco2_2020_01', 'xco2_2020_02', 'xco2_2020_03', 'xco2_2020_04', 'xco2_2020_05',\n",
    "                         'xco2_2020_06', 'xco2_2020_07', 'xco2_2020_08', 'xco2_2020_09', 'xco2_2020_10',\n",
    "                         'xco2_2020_11', 'xco2_2020_12']].std(axis=1)\n",
    "\n",
    "# annual columns only\n",
    "df_std = df_std[['latitude', 'longitude', 2014, 2015, 2016, 2017, 2018, 2019, 2020]]\n",
    "\n",
    "#convert from wide to long with year as column\n",
    "df_std = df_std.melt(id_vars=['latitude', 'longitude'], var_name='year', value_name='xco2_std')\n",
    "\n",
    "df_std.info()"
   ],
   "metadata": {
    "collapsed": false,
    "ExecuteTime": {
     "start_time": "2023-07-07T14:36:43.376431Z",
     "end_time": "2023-07-07T14:36:43.473390Z"
    }
   }
  },
  {
   "cell_type": "code",
   "execution_count": 63,
   "outputs": [
    {
     "name": "stdout",
     "output_type": "stream",
     "text": [
      "<class 'pandas.core.frame.DataFrame'>\n",
      "RangeIndex: 44275 entries, 0 to 44274\n",
      "Data columns (total 4 columns):\n",
      " #   Column     Non-Null Count  Dtype  \n",
      "---  ------     --------------  -----  \n",
      " 0   latitude   44275 non-null  float64\n",
      " 1   longitude  44275 non-null  float64\n",
      " 2   year       44275 non-null  object \n",
      " 3   xco2       17486 non-null  float64\n",
      "dtypes: float64(3), object(1)\n",
      "memory usage: 1.4+ MB\n"
     ]
    }
   ],
   "source": [
    "# create annual averages\n",
    "df_co2[2014] = df_co2[['xco2_2014_01', 'xco2_2014_02', 'xco2_2014_03', 'xco2_2014_04', 'xco2_2014_05',\n",
    "                              'xco2_2014_06', 'xco2_2014_07', 'xco2_2014_08', 'xco2_2014_09', 'xco2_2014_10',\n",
    "                              'xco2_2014_11', 'xco2_2014_12']].mean(axis=1)\n",
    "\n",
    "df_co2[2015] = df_co2[['xco2_2015_01', 'xco2_2015_02', 'xco2_2015_03', 'xco2_2015_04', 'xco2_2015_05',\n",
    "                                'xco2_2015_06', 'xco2_2015_07', 'xco2_2015_08', 'xco2_2015_09', 'xco2_2015_10',\n",
    "                                'xco2_2015_11', 'xco2_2015_12']].mean(axis=1)\n",
    "\n",
    "df_co2[2016] = df_co2[['xco2_2016_01', 'xco2_2016_02', 'xco2_2016_03', 'xco2_2016_04', 'xco2_2016_05',\n",
    "                                'xco2_2016_06', 'xco2_2016_07', 'xco2_2016_08', 'xco2_2016_09', 'xco2_2016_10',\n",
    "                                'xco2_2016_11', 'xco2_2016_12']].mean(axis=1)\n",
    "\n",
    "df_co2[2017] = df_co2[['xco2_2017_01', 'xco2_2017_02', 'xco2_2017_03', 'xco2_2017_04', 'xco2_2017_05',\n",
    "                                'xco2_2017_06', 'xco2_2017_07', 'xco2_2017_08', 'xco2_2017_09', 'xco2_2017_10',\n",
    "                                'xco2_2017_11', 'xco2_2017_12']].mean(axis=1)\n",
    "\n",
    "df_co2[2018] = df_co2[['xco2_2018_01', 'xco2_2018_02', 'xco2_2018_03', 'xco2_2018_04', 'xco2_2018_05',\n",
    "                                'xco2_2018_06', 'xco2_2018_07', 'xco2_2018_08', 'xco2_2018_09', 'xco2_2018_10',\n",
    "                                'xco2_2018_11', 'xco2_2018_12']].mean(axis=1)\n",
    "\n",
    "df_co2[2019] = df_co2[['xco2_2019_01', 'xco2_2019_02', 'xco2_2019_03', 'xco2_2019_04', 'xco2_2019_05',\n",
    "                                'xco2_2019_06', 'xco2_2019_07', 'xco2_2019_08', 'xco2_2019_09', 'xco2_2019_10',\n",
    "                                'xco2_2019_11', 'xco2_2019_12']].mean(axis=1)\n",
    "\n",
    "df_co2[2020] = df_co2[['xco2_2020_01', 'xco2_2020_02', 'xco2_2020_03', 'xco2_2020_04', 'xco2_2020_05',\n",
    "                                'xco2_2020_06', 'xco2_2020_07', 'xco2_2020_08', 'xco2_2020_09', 'xco2_2020_10',\n",
    "                                'xco2_2020_11', 'xco2_2020_12']].mean(axis=1)\n",
    "# annual columns only\n",
    "df_co2 = df_co2[['latitude', 'longitude', 2014, 2015, 2016, 2017, 2018, 2019, 2020]]\n",
    "\n",
    "#convert from wide to long with year as column\n",
    "df_co2 = df_co2.melt(id_vars=['latitude', 'longitude'], var_name='year', value_name='xco2')\n",
    "\n",
    "df_co2.info()"
   ],
   "metadata": {
    "collapsed": false,
    "ExecuteTime": {
     "start_time": "2023-07-07T14:36:44.282588Z",
     "end_time": "2023-07-07T14:36:44.399853Z"
    }
   }
  },
  {
   "cell_type": "code",
   "execution_count": 64,
   "outputs": [],
   "source": [
    "#join df_std and df_co2\n",
    "df_co2 = df_co2.merge(df_std, on=['latitude', 'longitude', 'year'], how='left')"
   ],
   "metadata": {
    "collapsed": false,
    "ExecuteTime": {
     "start_time": "2023-07-07T14:36:46.073767Z",
     "end_time": "2023-07-07T14:36:46.148472Z"
    }
   }
  },
  {
   "cell_type": "code",
   "execution_count": 66,
   "outputs": [],
   "source": [
    "#drop rows with missing values\n",
    "df_co2 = df_co2.dropna()"
   ],
   "metadata": {
    "collapsed": false,
    "ExecuteTime": {
     "start_time": "2023-07-07T14:36:58.369357Z",
     "end_time": "2023-07-07T14:36:58.410520Z"
    }
   }
  },
  {
   "cell_type": "markdown",
   "source": [
    "## Importing 2019 census tract data and joining with CO2 data\n",
    "Data Source: https://catalog.data.gov/dataset/2019-cartographic-boundary-shapefile-current-census-tract-for-united-states-1-500000\n",
    "Metadata: https://www.atsdr.cdc.gov/placeandhealth/svi/documentation/pdf/SVI2018Documentation_01192022_1.pdf\n",
    "\n",
    "Census tracts are polygons and CO2 values are assigned to coordinates that are at the center of one degree pixels from the raster data. The CO2 values are left joined to the census tract data, so that each census tract will receive a CO2 value for the one degree pixel with which the tract most overlaps."
   ],
   "metadata": {
    "collapsed": false
   }
  },
  {
   "cell_type": "code",
   "execution_count": 67,
   "outputs": [],
   "source": [
    "import pandas as pd\n",
    "import geopandas as gpd\n",
    "from shapely.geometry import Point\n",
    "import os"
   ],
   "metadata": {
    "collapsed": false,
    "ExecuteTime": {
     "start_time": "2023-07-07T14:37:46.930748Z",
     "end_time": "2023-07-07T14:37:46.938299Z"
    }
   }
  },
  {
   "cell_type": "code",
   "execution_count": 68,
   "outputs": [
    {
     "name": "stderr",
     "output_type": "stream",
     "text": [
      "/Users/joannarashid/anaconda3/lib/python3.10/site-packages/geopandas/array.py:364: UserWarning: Geometry is in a geographic CRS. Results from 'sjoin_nearest' are likely incorrect. Use 'GeoSeries.to_crs()' to re-project geometries to a projected CRS before this operation.\n",
      "\n",
      "  warnings.warn(\n"
     ]
    }
   ],
   "source": [
    "#import census tract level shape file\n",
    "tract = gpd.read_file(r'/Users/joannarashid/Documents/GitHub/Team-Project-Practicum-6748/cb_2019_us_tract_500k/cb_2019_us_tract_500k.shp')\n",
    "\n",
    "#establish coordinate points which are the center point of each 1degree pixel of the CO2 raster data\n",
    "df_co2['coords'] = list(zip(df_co2['longitude'],df_co2['latitude']))\n",
    "df_co2['coords'] = df_co2['coords'].apply(Point)\n",
    "\n",
    "#convert points to geodataframe\n",
    "points = gpd.GeoDataFrame(df_co2, geometry='coords', crs=tract.crs)\n",
    "\n",
    "# join census tract with points\n",
    "# s_nearest is used to left join co2 data to census tract data\n",
    "# each census tract polygon will be assigned the raster value of the closest C02 point\n",
    "# which represents the 1 degree pixel that the census tract most overlaps\n",
    "df_join_tract = gpd.sjoin_nearest(tract, points, how='left')"
   ],
   "metadata": {
    "collapsed": false,
    "ExecuteTime": {
     "start_time": "2023-07-07T14:37:48.612426Z",
     "end_time": "2023-07-07T14:38:23.398978Z"
    }
   }
  },
  {
   "cell_type": "code",
   "execution_count": 70,
   "outputs": [
    {
     "name": "stdout",
     "output_type": "stream",
     "text": [
      "<class 'geopandas.geodataframe.GeoDataFrame'>\n",
      "Int64Index: 518077 entries, 0 to 73867\n",
      "Data columns (total 16 columns):\n",
      " #   Column       Non-Null Count   Dtype   \n",
      "---  ------       --------------   -----   \n",
      " 0   STATEFP      518077 non-null  object  \n",
      " 1   COUNTYFP     518077 non-null  object  \n",
      " 2   TRACTCE      518077 non-null  object  \n",
      " 3   AFFGEOID     518077 non-null  object  \n",
      " 4   GEOID        518077 non-null  object  \n",
      " 5   NAME         518077 non-null  object  \n",
      " 6   LSAD         518077 non-null  object  \n",
      " 7   ALAND        518077 non-null  int64   \n",
      " 8   AWATER       518077 non-null  int64   \n",
      " 9   geometry     518077 non-null  geometry\n",
      " 10  index_right  518077 non-null  int64   \n",
      " 11  latitude     518077 non-null  float64 \n",
      " 12  longitude    518077 non-null  float64 \n",
      " 13  year         518077 non-null  object  \n",
      " 14  xco2         518077 non-null  float64 \n",
      " 15  xco2_std     518077 non-null  float64 \n",
      "dtypes: float64(4), geometry(1), int64(3), object(8)\n",
      "memory usage: 67.2+ MB\n"
     ]
    }
   ],
   "source": [
    "df_join_tract.info()"
   ],
   "metadata": {
    "collapsed": false,
    "ExecuteTime": {
     "start_time": "2023-07-07T14:38:23.414129Z",
     "end_time": "2023-07-07T14:38:23.923133Z"
    }
   }
  },
  {
   "cell_type": "markdown",
   "source": [
    "## Join CO2 data with SVI\n",
    "The CO2 data is joined with the SVI data on the FIPS code and year. The SVI data is joined with the CO2 data such that all census tracts for which CO2 values are present will be preserved and those without dropped.\n"
   ],
   "metadata": {
    "collapsed": false
   }
  },
  {
   "cell_type": "code",
   "execution_count": 71,
   "outputs": [],
   "source": [
    "#rename df_co2_01_2018 GEOID to FIPS\n",
    "df_join_tract.rename(columns = {\"GEOID\" : \"FIPS\"}, inplace= True)\n",
    "\n",
    "#keep geopandas df for later\n",
    "df_join_gpd = df_join_tract\n",
    "\n",
    "#converting all FIPS to int\n",
    "df_join_tract['FIPS'] = df_join_tract['FIPS'].astype(int)\n",
    "df_svi_long['FIPS'] = df_svi_long['FIPS'].astype(int)\n",
    "\n",
    "#join svi data to df_join_tract\n",
    "df_join_tract = df_join_tract.merge(df_svi_long, on=['FIPS', 'year'], how='left')"
   ],
   "metadata": {
    "collapsed": false,
    "ExecuteTime": {
     "start_time": "2023-07-07T14:40:49.184709Z",
     "end_time": "2023-07-07T14:40:50.627232Z"
    }
   }
  },
  {
   "cell_type": "code",
   "execution_count": 72,
   "outputs": [
    {
     "name": "stdout",
     "output_type": "stream",
     "text": [
      "<class 'geopandas.geodataframe.GeoDataFrame'>\n",
      "Int64Index: 518077 entries, 0 to 518076\n",
      "Data columns (total 31 columns):\n",
      " #   Column            Non-Null Count   Dtype   \n",
      "---  ------            --------------   -----   \n",
      " 0   STATEFP           518077 non-null  object  \n",
      " 1   COUNTYFP          518077 non-null  object  \n",
      " 2   TRACTCE           518077 non-null  object  \n",
      " 3   AFFGEOID          518077 non-null  object  \n",
      " 4   FIPS              518077 non-null  int64   \n",
      " 5   NAME              518077 non-null  object  \n",
      " 6   LSAD              518077 non-null  object  \n",
      " 7   ALAND             518077 non-null  int64   \n",
      " 8   AWATER            518077 non-null  int64   \n",
      " 9   geometry          518077 non-null  geometry\n",
      " 10  index_right       518077 non-null  int64   \n",
      " 11  latitude          518077 non-null  float64 \n",
      " 12  longitude         518077 non-null  float64 \n",
      " 13  year              518077 non-null  object  \n",
      " 14  xco2              518077 non-null  float64 \n",
      " 15  xco2_std          518077 non-null  float64 \n",
      " 16  ST                510734 non-null  float64 \n",
      " 17  STATE             510734 non-null  object  \n",
      " 18  ST_ABBR           510734 non-null  object  \n",
      " 19  STCNTY            510734 non-null  float64 \n",
      " 20  COUNTY            510734 non-null  object  \n",
      " 21  LOCATION          510734 non-null  object  \n",
      " 22  total_population  487784 non-null  float64 \n",
      " 23  housing_units     487784 non-null  float64 \n",
      " 24  num_households    487784 non-null  float64 \n",
      " 25  unemployment      487784 non-null  float64 \n",
      " 26  socioeconomic     487784 non-null  float64 \n",
      " 27  household_comp    487784 non-null  float64 \n",
      " 28  minority_status   487784 non-null  float64 \n",
      " 29  housing_type      487784 non-null  float64 \n",
      " 30  overall_svi       487784 non-null  float64 \n",
      "dtypes: float64(15), geometry(1), int64(4), object(11)\n",
      "memory usage: 126.5+ MB\n"
     ]
    }
   ],
   "source": [
    "df_join_tract.info()"
   ],
   "metadata": {
    "collapsed": false,
    "ExecuteTime": {
     "start_time": "2023-07-07T14:40:52.835427Z",
     "end_time": "2023-07-07T14:40:53.253532Z"
    }
   }
  },
  {
   "cell_type": "code",
   "execution_count": 73,
   "outputs": [],
   "source": [
    "#convert to pandas dataframe\n",
    "df_join_tract = pd.DataFrame(df_join_tract)"
   ],
   "metadata": {
    "collapsed": false,
    "ExecuteTime": {
     "start_time": "2023-07-07T14:41:09.436016Z",
     "end_time": "2023-07-07T14:41:09.451698Z"
    }
   }
  },
  {
   "cell_type": "code",
   "execution_count": 74,
   "outputs": [
    {
     "name": "stdout",
     "output_type": "stream",
     "text": [
      "<class 'pandas.core.frame.DataFrame'>\n",
      "Int64Index: 518077 entries, 0 to 518076\n",
      "Data columns (total 31 columns):\n",
      " #   Column            Non-Null Count   Dtype   \n",
      "---  ------            --------------   -----   \n",
      " 0   STATEFP           518077 non-null  object  \n",
      " 1   COUNTYFP          518077 non-null  object  \n",
      " 2   TRACTCE           518077 non-null  object  \n",
      " 3   AFFGEOID          518077 non-null  object  \n",
      " 4   FIPS              518077 non-null  int64   \n",
      " 5   NAME              518077 non-null  object  \n",
      " 6   LSAD              518077 non-null  object  \n",
      " 7   ALAND             518077 non-null  int64   \n",
      " 8   AWATER            518077 non-null  int64   \n",
      " 9   geometry          518077 non-null  geometry\n",
      " 10  index_right       518077 non-null  int64   \n",
      " 11  latitude          518077 non-null  float64 \n",
      " 12  longitude         518077 non-null  float64 \n",
      " 13  year              518077 non-null  object  \n",
      " 14  xco2              518077 non-null  float64 \n",
      " 15  xco2_std          518077 non-null  float64 \n",
      " 16  ST                510734 non-null  float64 \n",
      " 17  STATE             510734 non-null  object  \n",
      " 18  ST_ABBR           510734 non-null  object  \n",
      " 19  STCNTY            510734 non-null  float64 \n",
      " 20  COUNTY            510734 non-null  object  \n",
      " 21  LOCATION          510734 non-null  object  \n",
      " 22  total_population  487784 non-null  float64 \n",
      " 23  housing_units     487784 non-null  float64 \n",
      " 24  num_households    487784 non-null  float64 \n",
      " 25  unemployment      487784 non-null  float64 \n",
      " 26  socioeconomic     487784 non-null  float64 \n",
      " 27  household_comp    487784 non-null  float64 \n",
      " 28  minority_status   487784 non-null  float64 \n",
      " 29  housing_type      487784 non-null  float64 \n",
      " 30  overall_svi       487784 non-null  float64 \n",
      "dtypes: float64(15), geometry(1), int64(4), object(11)\n",
      "memory usage: 126.5+ MB\n"
     ]
    }
   ],
   "source": [
    "df_join_tract.info()"
   ],
   "metadata": {
    "collapsed": false,
    "ExecuteTime": {
     "start_time": "2023-07-07T14:41:11.002178Z",
     "end_time": "2023-07-07T14:41:11.427133Z"
    }
   }
  },
  {
   "cell_type": "code",
   "execution_count": 75,
   "outputs": [],
   "source": [
    "#droping nas which are census tracts that did not overlap with the CO2 raster data\n",
    "final_df = df_join_tract.dropna()"
   ],
   "metadata": {
    "collapsed": false,
    "ExecuteTime": {
     "start_time": "2023-07-07T14:41:44.743043Z",
     "end_time": "2023-07-07T14:41:45.881552Z"
    }
   }
  },
  {
   "cell_type": "code",
   "execution_count": 77,
   "outputs": [
    {
     "data": {
      "text/plain": "  STATEFP COUNTYFP TRACTCE              AFFGEOID         FIPS     NAME LSAD  \\\n0      34      005  702808  1400000US34005702808  34005702808  7028.08   CT   \n1      34      005  702808  1400000US34005702808  34005702808  7028.08   CT   \n2      34      005  702808  1400000US34005702808  34005702808  7028.08   CT   \n3      34      005  702808  1400000US34005702808  34005702808  7028.08   CT   \n4      34      005  702808  1400000US34005702808  34005702808  7028.08   CT   \n\n     ALAND  AWATER                                           geometry  ...  \\\n0  1510553       0  POLYGON ((-74.90801 40.03250, -74.90496 40.036...  ...   \n1  1510553       0  POLYGON ((-74.90801 40.03250, -74.90496 40.036...  ...   \n2  1510553       0  POLYGON ((-74.90801 40.03250, -74.90496 40.036...  ...   \n3  1510553       0  POLYGON ((-74.90801 40.03250, -74.90496 40.036...  ...   \n4  1510553       0  POLYGON ((-74.90801 40.03250, -74.90496 40.036...  ...   \n\n                                            LOCATION  total_population  \\\n0  Census Tract 7028.08, Burlington County, New J...            3204.0   \n1  Census Tract 7028.08, Burlington County, New J...            3383.0   \n2  Census Tract 7028.08, Burlington County, New J...            3193.0   \n3  Census Tract 7028.08, Burlington County, New J...            3447.0   \n4  Census Tract 7028.08, Burlington County, New J...            3198.5   \n\n   housing_units num_households  unemployment  socioeconomic  household_comp  \\\n0         1123.0         1041.0         244.0        0.69440         0.72480   \n1         1136.0         1058.0         164.0        0.56530         0.81860   \n2         1103.0         1064.0         226.0        0.64770         0.73430   \n3         1141.0         1053.0          77.0        0.58480         0.68890   \n4         1113.0         1052.5         235.0        0.67105         0.72955   \n\n  minority_status housing_type  overall_svi  \n0         0.79870       0.1516       0.6031  \n1         0.78070       0.0617       0.4835  \n2         0.89440       0.1606       0.6107  \n3         0.92850       0.0703       0.4542  \n4         0.84655       0.1561       0.6069  \n\n[5 rows x 31 columns]",
      "text/html": "<div>\n<style scoped>\n    .dataframe tbody tr th:only-of-type {\n        vertical-align: middle;\n    }\n\n    .dataframe tbody tr th {\n        vertical-align: top;\n    }\n\n    .dataframe thead th {\n        text-align: right;\n    }\n</style>\n<table border=\"1\" class=\"dataframe\">\n  <thead>\n    <tr style=\"text-align: right;\">\n      <th></th>\n      <th>STATEFP</th>\n      <th>COUNTYFP</th>\n      <th>TRACTCE</th>\n      <th>AFFGEOID</th>\n      <th>FIPS</th>\n      <th>NAME</th>\n      <th>LSAD</th>\n      <th>ALAND</th>\n      <th>AWATER</th>\n      <th>geometry</th>\n      <th>...</th>\n      <th>LOCATION</th>\n      <th>total_population</th>\n      <th>housing_units</th>\n      <th>num_households</th>\n      <th>unemployment</th>\n      <th>socioeconomic</th>\n      <th>household_comp</th>\n      <th>minority_status</th>\n      <th>housing_type</th>\n      <th>overall_svi</th>\n    </tr>\n  </thead>\n  <tbody>\n    <tr>\n      <th>0</th>\n      <td>34</td>\n      <td>005</td>\n      <td>702808</td>\n      <td>1400000US34005702808</td>\n      <td>34005702808</td>\n      <td>7028.08</td>\n      <td>CT</td>\n      <td>1510553</td>\n      <td>0</td>\n      <td>POLYGON ((-74.90801 40.03250, -74.90496 40.036...</td>\n      <td>...</td>\n      <td>Census Tract 7028.08, Burlington County, New J...</td>\n      <td>3204.0</td>\n      <td>1123.0</td>\n      <td>1041.0</td>\n      <td>244.0</td>\n      <td>0.69440</td>\n      <td>0.72480</td>\n      <td>0.79870</td>\n      <td>0.1516</td>\n      <td>0.6031</td>\n    </tr>\n    <tr>\n      <th>1</th>\n      <td>34</td>\n      <td>005</td>\n      <td>702808</td>\n      <td>1400000US34005702808</td>\n      <td>34005702808</td>\n      <td>7028.08</td>\n      <td>CT</td>\n      <td>1510553</td>\n      <td>0</td>\n      <td>POLYGON ((-74.90801 40.03250, -74.90496 40.036...</td>\n      <td>...</td>\n      <td>Census Tract 7028.08, Burlington County, New J...</td>\n      <td>3383.0</td>\n      <td>1136.0</td>\n      <td>1058.0</td>\n      <td>164.0</td>\n      <td>0.56530</td>\n      <td>0.81860</td>\n      <td>0.78070</td>\n      <td>0.0617</td>\n      <td>0.4835</td>\n    </tr>\n    <tr>\n      <th>2</th>\n      <td>34</td>\n      <td>005</td>\n      <td>702808</td>\n      <td>1400000US34005702808</td>\n      <td>34005702808</td>\n      <td>7028.08</td>\n      <td>CT</td>\n      <td>1510553</td>\n      <td>0</td>\n      <td>POLYGON ((-74.90801 40.03250, -74.90496 40.036...</td>\n      <td>...</td>\n      <td>Census Tract 7028.08, Burlington County, New J...</td>\n      <td>3193.0</td>\n      <td>1103.0</td>\n      <td>1064.0</td>\n      <td>226.0</td>\n      <td>0.64770</td>\n      <td>0.73430</td>\n      <td>0.89440</td>\n      <td>0.1606</td>\n      <td>0.6107</td>\n    </tr>\n    <tr>\n      <th>3</th>\n      <td>34</td>\n      <td>005</td>\n      <td>702808</td>\n      <td>1400000US34005702808</td>\n      <td>34005702808</td>\n      <td>7028.08</td>\n      <td>CT</td>\n      <td>1510553</td>\n      <td>0</td>\n      <td>POLYGON ((-74.90801 40.03250, -74.90496 40.036...</td>\n      <td>...</td>\n      <td>Census Tract 7028.08, Burlington County, New J...</td>\n      <td>3447.0</td>\n      <td>1141.0</td>\n      <td>1053.0</td>\n      <td>77.0</td>\n      <td>0.58480</td>\n      <td>0.68890</td>\n      <td>0.92850</td>\n      <td>0.0703</td>\n      <td>0.4542</td>\n    </tr>\n    <tr>\n      <th>4</th>\n      <td>34</td>\n      <td>005</td>\n      <td>702808</td>\n      <td>1400000US34005702808</td>\n      <td>34005702808</td>\n      <td>7028.08</td>\n      <td>CT</td>\n      <td>1510553</td>\n      <td>0</td>\n      <td>POLYGON ((-74.90801 40.03250, -74.90496 40.036...</td>\n      <td>...</td>\n      <td>Census Tract 7028.08, Burlington County, New J...</td>\n      <td>3198.5</td>\n      <td>1113.0</td>\n      <td>1052.5</td>\n      <td>235.0</td>\n      <td>0.67105</td>\n      <td>0.72955</td>\n      <td>0.84655</td>\n      <td>0.1561</td>\n      <td>0.6069</td>\n    </tr>\n  </tbody>\n</table>\n<p>5 rows × 31 columns</p>\n</div>"
     },
     "execution_count": 77,
     "metadata": {},
     "output_type": "execute_result"
    }
   ],
   "source": [
    "final_df.head()"
   ],
   "metadata": {
    "collapsed": false,
    "ExecuteTime": {
     "start_time": "2023-07-07T14:41:56.401461Z",
     "end_time": "2023-07-07T14:41:56.415806Z"
    }
   }
  },
  {
   "cell_type": "code",
   "execution_count": 78,
   "outputs": [
    {
     "name": "stdout",
     "output_type": "stream",
     "text": [
      "<class 'pandas.core.frame.DataFrame'>\n",
      "Int64Index: 487736 entries, 0 to 518076\n",
      "Data columns (total 31 columns):\n",
      " #   Column            Non-Null Count   Dtype   \n",
      "---  ------            --------------   -----   \n",
      " 0   STATEFP           487736 non-null  object  \n",
      " 1   COUNTYFP          487736 non-null  object  \n",
      " 2   TRACTCE           487736 non-null  object  \n",
      " 3   AFFGEOID          487736 non-null  object  \n",
      " 4   FIPS              487736 non-null  int64   \n",
      " 5   NAME              487736 non-null  object  \n",
      " 6   LSAD              487736 non-null  object  \n",
      " 7   ALAND             487736 non-null  int64   \n",
      " 8   AWATER            487736 non-null  int64   \n",
      " 9   geometry          487736 non-null  geometry\n",
      " 10  index_right       487736 non-null  int64   \n",
      " 11  latitude          487736 non-null  float64 \n",
      " 12  longitude         487736 non-null  float64 \n",
      " 13  year              487736 non-null  object  \n",
      " 14  xco2              487736 non-null  float64 \n",
      " 15  xco2_std          487736 non-null  float64 \n",
      " 16  ST                487736 non-null  float64 \n",
      " 17  STATE             487736 non-null  object  \n",
      " 18  ST_ABBR           487736 non-null  object  \n",
      " 19  STCNTY            487736 non-null  float64 \n",
      " 20  COUNTY            487736 non-null  object  \n",
      " 21  LOCATION          487736 non-null  object  \n",
      " 22  total_population  487736 non-null  float64 \n",
      " 23  housing_units     487736 non-null  float64 \n",
      " 24  num_households    487736 non-null  float64 \n",
      " 25  unemployment      487736 non-null  float64 \n",
      " 26  socioeconomic     487736 non-null  float64 \n",
      " 27  household_comp    487736 non-null  float64 \n",
      " 28  minority_status   487736 non-null  float64 \n",
      " 29  housing_type      487736 non-null  float64 \n",
      " 30  overall_svi       487736 non-null  float64 \n",
      "dtypes: float64(15), geometry(1), int64(4), object(11)\n",
      "memory usage: 119.1+ MB\n"
     ]
    }
   ],
   "source": [
    "final_df.info()"
   ],
   "metadata": {
    "collapsed": false,
    "ExecuteTime": {
     "start_time": "2023-07-07T14:41:57.339812Z",
     "end_time": "2023-07-07T14:41:58.051095Z"
    }
   }
  },
  {
   "cell_type": "markdown",
   "source": [
    "## Computing additional CO2 features that capture temporal changes"
   ],
   "metadata": {
    "collapsed": false
   }
  },
  {
   "cell_type": "code",
   "execution_count": 79,
   "outputs": [
    {
     "name": "stderr",
     "output_type": "stream",
     "text": [
      "/var/folders/2n/1ydmmpks7h77zv7p1k6l11pc0000gn/T/ipykernel_54541/2138652021.py:2: SettingWithCopyWarning: \n",
      "A value is trying to be set on a copy of a slice from a DataFrame.\n",
      "Try using .loc[row_indexer,col_indexer] = value instead\n",
      "\n",
      "See the caveats in the documentation: https://pandas.pydata.org/pandas-docs/stable/user_guide/indexing.html#returning-a-view-versus-a-copy\n",
      "  final_df['co2_1yr_change'] = final_df.groupby(['FIPS'])['xco2'].diff()\n"
     ]
    }
   ],
   "source": [
    "#change in co2 since previous year for each FIPS\n",
    "final_df['co2_1yr_change'] = final_df.groupby(['FIPS'])['xco2'].diff()"
   ],
   "metadata": {
    "collapsed": false,
    "ExecuteTime": {
     "start_time": "2023-07-07T14:42:16.011937Z",
     "end_time": "2023-07-07T14:42:16.067978Z"
    }
   }
  },
  {
   "cell_type": "code",
   "execution_count": 80,
   "outputs": [
    {
     "name": "stderr",
     "output_type": "stream",
     "text": [
      "/var/folders/2n/1ydmmpks7h77zv7p1k6l11pc0000gn/T/ipykernel_54541/3345302767.py:2: SettingWithCopyWarning: \n",
      "A value is trying to be set on a copy of a slice from a DataFrame.\n",
      "Try using .loc[row_indexer,col_indexer] = value instead\n",
      "\n",
      "See the caveats in the documentation: https://pandas.pydata.org/pandas-docs/stable/user_guide/indexing.html#returning-a-view-versus-a-copy\n",
      "  final_df['co2_6yr_change'] = final_df.groupby(['FIPS'])['xco2'].diff(periods=6)\n"
     ]
    }
   ],
   "source": [
    "#total change since 2014 for each FIPS\n",
    "final_df['co2_6yr_change'] = final_df.groupby(['FIPS'])['xco2'].diff(periods=6)"
   ],
   "metadata": {
    "collapsed": false,
    "ExecuteTime": {
     "start_time": "2023-07-07T14:42:16.978875Z",
     "end_time": "2023-07-07T14:42:17.043257Z"
    }
   }
  },
  {
   "cell_type": "code",
   "execution_count": 81,
   "outputs": [
    {
     "name": "stderr",
     "output_type": "stream",
     "text": [
      "/var/folders/2n/1ydmmpks7h77zv7p1k6l11pc0000gn/T/ipykernel_54541/2150559958.py:2: SettingWithCopyWarning: \n",
      "A value is trying to be set on a copy of a slice from a DataFrame.\n",
      "Try using .loc[row_indexer,col_indexer] = value instead\n",
      "\n",
      "See the caveats in the documentation: https://pandas.pydata.org/pandas-docs/stable/user_guide/indexing.html#returning-a-view-versus-a-copy\n",
      "  final_df['co2_1yr_pct_change'] = final_df.groupby(['FIPS'])['xco2'].pct_change()\n"
     ]
    }
   ],
   "source": [
    "#percent change since previous year for each FIPS\n",
    "final_df['co2_1yr_pct_change'] = final_df.groupby(['FIPS'])['xco2'].pct_change()"
   ],
   "metadata": {
    "collapsed": false,
    "ExecuteTime": {
     "start_time": "2023-07-07T14:42:29.612030Z",
     "end_time": "2023-07-07T14:42:29.769389Z"
    }
   }
  },
  {
   "cell_type": "code",
   "execution_count": 82,
   "outputs": [
    {
     "name": "stderr",
     "output_type": "stream",
     "text": [
      "/var/folders/2n/1ydmmpks7h77zv7p1k6l11pc0000gn/T/ipykernel_54541/3403984040.py:2: SettingWithCopyWarning: \n",
      "A value is trying to be set on a copy of a slice from a DataFrame.\n",
      "Try using .loc[row_indexer,col_indexer] = value instead\n",
      "\n",
      "See the caveats in the documentation: https://pandas.pydata.org/pandas-docs/stable/user_guide/indexing.html#returning-a-view-versus-a-copy\n",
      "  final_df['co2_6yr_pct_change'] = final_df.groupby(['FIPS'])['xco2'].pct_change(periods=6)\n",
      "/var/folders/2n/1ydmmpks7h77zv7p1k6l11pc0000gn/T/ipykernel_54541/3403984040.py:4: SettingWithCopyWarning: \n",
      "A value is trying to be set on a copy of a slice from a DataFrame.\n",
      "Try using .loc[row_indexer,col_indexer] = value instead\n",
      "\n",
      "See the caveats in the documentation: https://pandas.pydata.org/pandas-docs/stable/user_guide/indexing.html#returning-a-view-versus-a-copy\n",
      "  final_df['co2_5yr_pct_change'] = final_df.groupby(['FIPS'])['xco2'].pct_change(periods=5)\n",
      "/var/folders/2n/1ydmmpks7h77zv7p1k6l11pc0000gn/T/ipykernel_54541/3403984040.py:6: SettingWithCopyWarning: \n",
      "A value is trying to be set on a copy of a slice from a DataFrame.\n",
      "Try using .loc[row_indexer,col_indexer] = value instead\n",
      "\n",
      "See the caveats in the documentation: https://pandas.pydata.org/pandas-docs/stable/user_guide/indexing.html#returning-a-view-versus-a-copy\n",
      "  final_df['co2_4yr_pct_change'] = final_df.groupby(['FIPS'])['xco2'].pct_change(periods=4)\n",
      "/var/folders/2n/1ydmmpks7h77zv7p1k6l11pc0000gn/T/ipykernel_54541/3403984040.py:8: SettingWithCopyWarning: \n",
      "A value is trying to be set on a copy of a slice from a DataFrame.\n",
      "Try using .loc[row_indexer,col_indexer] = value instead\n",
      "\n",
      "See the caveats in the documentation: https://pandas.pydata.org/pandas-docs/stable/user_guide/indexing.html#returning-a-view-versus-a-copy\n",
      "  final_df['co2_3yr_pct_change'] = final_df.groupby(['FIPS'])['xco2'].pct_change(periods=3)\n",
      "/var/folders/2n/1ydmmpks7h77zv7p1k6l11pc0000gn/T/ipykernel_54541/3403984040.py:10: SettingWithCopyWarning: \n",
      "A value is trying to be set on a copy of a slice from a DataFrame.\n",
      "Try using .loc[row_indexer,col_indexer] = value instead\n",
      "\n",
      "See the caveats in the documentation: https://pandas.pydata.org/pandas-docs/stable/user_guide/indexing.html#returning-a-view-versus-a-copy\n",
      "  final_df['co2_2yr_pct_change'] = final_df.groupby(['FIPS'])['xco2'].pct_change(periods=2)\n"
     ]
    }
   ],
   "source": [
    "#percent change since 2014 for each FIPS\n",
    "final_df['co2_6yr_pct_change'] = final_df.groupby(['FIPS'])['xco2'].pct_change(periods=6)\n",
    "#5 year average co2 for each FIPS\n",
    "final_df['co2_5yr_pct_change'] = final_df.groupby(['FIPS'])['xco2'].pct_change(periods=5)\n",
    "#4 year average co2 for each FIPS\n",
    "final_df['co2_4yr_pct_change'] = final_df.groupby(['FIPS'])['xco2'].pct_change(periods=4)\n",
    "#3 year average co2 for each FIPS\n",
    "final_df['co2_3yr_pct_change'] = final_df.groupby(['FIPS'])['xco2'].pct_change(periods=3)\n",
    "#2 year average co2 for each FIPS\n",
    "final_df['co2_2yr_pct_change'] = final_df.groupby(['FIPS'])['xco2'].pct_change(periods=2)"
   ],
   "metadata": {
    "collapsed": false,
    "ExecuteTime": {
     "start_time": "2023-07-07T14:42:30.122843Z",
     "end_time": "2023-07-07T14:42:30.827563Z"
    }
   }
  },
  {
   "cell_type": "code",
   "execution_count": 83,
   "outputs": [
    {
     "name": "stderr",
     "output_type": "stream",
     "text": [
      "/var/folders/2n/1ydmmpks7h77zv7p1k6l11pc0000gn/T/ipykernel_54541/3426359000.py:2: SettingWithCopyWarning: \n",
      "A value is trying to be set on a copy of a slice from a DataFrame\n",
      "\n",
      "See the caveats in the documentation: https://pandas.pydata.org/pandas-docs/stable/user_guide/indexing.html#returning-a-view-versus-a-copy\n",
      "  final_df.rename(columns = {\"xco2\" : \"avg_co2\"}, inplace= True)\n"
     ]
    }
   ],
   "source": [
    "#rename xco2 to avg_co2\n",
    "final_df.rename(columns = {\"xco2\" : \"avg_co2\"}, inplace= True)"
   ],
   "metadata": {
    "collapsed": false,
    "ExecuteTime": {
     "start_time": "2023-07-07T14:42:33.027711Z",
     "end_time": "2023-07-07T14:42:33.041028Z"
    }
   }
  },
  {
   "cell_type": "code",
   "execution_count": 53,
   "outputs": [
    {
     "data": {
      "text/plain": "   STATEFP COUNTYFP TRACTCE              AFFGEOID         FIPS     NAME LSAD  \\\n0       34      005  702808  1400000US34005702808  34005702808  7028.08   CT   \n1       34      005  702808  1400000US34005702808  34005702808  7028.08   CT   \n2       34      005  702808  1400000US34005702808  34005702808  7028.08   CT   \n3       34      005  702808  1400000US34005702808  34005702808  7028.08   CT   \n4       34      005  702808  1400000US34005702808  34005702808  7028.08   CT   \n5       34      005  702808  1400000US34005702808  34005702808  7028.08   CT   \n6       34      005  702808  1400000US34005702808  34005702808  7028.08   CT   \n7       39      153  504200  1400000US39153504200  39153504200     5042   CT   \n8       39      153  504200  1400000US39153504200  39153504200     5042   CT   \n9       39      153  504200  1400000US39153504200  39153504200     5042   CT   \n10      39      153  504200  1400000US39153504200  39153504200     5042   CT   \n11      39      153  504200  1400000US39153504200  39153504200     5042   CT   \n12      39      153  504200  1400000US39153504200  39153504200     5042   CT   \n13      39      153  504200  1400000US39153504200  39153504200     5042   CT   \n14      36      071  000502  1400000US36071000502  36071000502     5.02   CT   \n15      36      071  000502  1400000US36071000502  36071000502     5.02   CT   \n16      36      071  000502  1400000US36071000502  36071000502     5.02   CT   \n17      36      071  000502  1400000US36071000502  36071000502     5.02   CT   \n18      36      071  000502  1400000US36071000502  36071000502     5.02   CT   \n19      36      071  000502  1400000US36071000502  36071000502     5.02   CT   \n\n      ALAND  AWATER                                           geometry  ...  \\\n0   1510553       0  POLYGON ((-74.90801 40.03250, -74.90496 40.036...  ...   \n1   1510553       0  POLYGON ((-74.90801 40.03250, -74.90496 40.036...  ...   \n2   1510553       0  POLYGON ((-74.90801 40.03250, -74.90496 40.036...  ...   \n3   1510553       0  POLYGON ((-74.90801 40.03250, -74.90496 40.036...  ...   \n4   1510553       0  POLYGON ((-74.90801 40.03250, -74.90496 40.036...  ...   \n5   1510553       0  POLYGON ((-74.90801 40.03250, -74.90496 40.036...  ...   \n6   1510553       0  POLYGON ((-74.90801 40.03250, -74.90496 40.036...  ...   \n7    808151       0  POLYGON ((-81.51807 41.05957, -81.51805 41.062...  ...   \n8    808151       0  POLYGON ((-81.51807 41.05957, -81.51805 41.062...  ...   \n9    808151       0  POLYGON ((-81.51807 41.05957, -81.51805 41.062...  ...   \n10   808151       0  POLYGON ((-81.51807 41.05957, -81.51805 41.062...  ...   \n11   808151       0  POLYGON ((-81.51807 41.05957, -81.51805 41.062...  ...   \n12   808151       0  POLYGON ((-81.51807 41.05957, -81.51805 41.062...  ...   \n13   808151       0  POLYGON ((-81.51807 41.05957, -81.51805 41.062...  ...   \n14   967431  969216  POLYGON ((-74.02226 41.49281, -74.02180 41.496...  ...   \n15   967431  969216  POLYGON ((-74.02226 41.49281, -74.02180 41.496...  ...   \n16   967431  969216  POLYGON ((-74.02226 41.49281, -74.02180 41.496...  ...   \n17   967431  969216  POLYGON ((-74.02226 41.49281, -74.02180 41.496...  ...   \n18   967431  969216  POLYGON ((-74.02226 41.49281, -74.02180 41.496...  ...   \n19   967431  969216  POLYGON ((-74.02226 41.49281, -74.02180 41.496...  ...   \n\n    housing_type  overall_svi  co2_1yr_change co2_6yr_change  \\\n0        0.15160      0.60310             NaN            NaN   \n1        0.06170      0.48350        4.470362            NaN   \n2        0.16060      0.61070      -10.519547            NaN   \n3        0.07030      0.45420       15.565801            NaN   \n4        0.15610      0.60690      -12.719866            NaN   \n5        0.10665      0.54330        5.451052            NaN   \n6        0.06600      0.46885        4.626818       6.874621   \n7        0.91130      0.96260             NaN            NaN   \n8        0.66785      0.83985      -12.712186            NaN   \n9        0.51770      0.79745        5.694221            NaN   \n10       0.46650      0.81890        1.954981            NaN   \n11       0.56890      0.77600       -4.151306            NaN   \n12       0.76680      0.90370       -6.215963            NaN   \n13       0.68890      0.89075       13.084435      -2.345818   \n14       0.78070      0.96540             NaN            NaN   \n15       0.94235      0.98190        8.212629            NaN   \n16       0.86020      0.97590       -5.668315            NaN   \n17       0.78400      0.92680       12.902702            NaN   \n18       0.86450      0.95210       -2.426966            NaN   \n19       0.94500      0.97740       -2.705935            NaN   \n\n    co2_1yr_pct_change  co2_6yr_pct_change  co2_5yr_pct_change  \\\n0                  NaN                 NaN                 NaN   \n1             0.011071                 NaN                 NaN   \n2            -0.025767                 NaN                 NaN   \n3             0.039137                 NaN                 NaN   \n4            -0.030777                 NaN                 NaN   \n5             0.013608                 NaN            0.005567   \n6             0.011395            0.017026            0.005889   \n7                  NaN                 NaN                 NaN   \n8            -0.030804                 NaN                 NaN   \n9             0.014237                 NaN                 NaN   \n10            0.004819                 NaN                 NaN   \n11           -0.010184                 NaN                 NaN   \n12           -0.015407                 NaN           -0.037391   \n13            0.032938           -0.005684            0.025918   \n14                 NaN                 NaN                 NaN   \n15            0.020655                 NaN                 NaN   \n16           -0.013967                 NaN                 NaN   \n17            0.032244                 NaN                 NaN   \n18           -0.005876                 NaN                 NaN   \n19           -0.006590                 NaN            0.025940   \n\n   co2_4yr_pct_change co2_3yr_pct_change  co2_2yr_pct_change  \n0                 NaN                NaN                 NaN  \n1                 NaN                NaN                 NaN  \n2                 NaN                NaN           -0.014981  \n3                 NaN           0.023569            0.012361  \n4           -0.007933          -0.018796            0.007155  \n5           -0.005444           0.020861           -0.017587  \n6            0.032494          -0.006392            0.025158  \n7                 NaN                NaN                 NaN  \n8                 NaN                NaN                 NaN  \n9                 NaN                NaN           -0.017006  \n10                NaN          -0.012269            0.019125  \n11          -0.022328           0.008746           -0.005414  \n12          -0.006796          -0.020737           -0.025434  \n13           0.011517           0.006666            0.017024  \n14                NaN                NaN                 NaN  \n15                NaN                NaN                 NaN  \n16                NaN                NaN            0.006399  \n17                NaN           0.038850            0.017826  \n18           0.032746           0.011846            0.026179  \n19           0.005178           0.019417           -0.012427  \n\n[20 rows x 39 columns]",
      "text/html": "<div>\n<style scoped>\n    .dataframe tbody tr th:only-of-type {\n        vertical-align: middle;\n    }\n\n    .dataframe tbody tr th {\n        vertical-align: top;\n    }\n\n    .dataframe thead th {\n        text-align: right;\n    }\n</style>\n<table border=\"1\" class=\"dataframe\">\n  <thead>\n    <tr style=\"text-align: right;\">\n      <th></th>\n      <th>STATEFP</th>\n      <th>COUNTYFP</th>\n      <th>TRACTCE</th>\n      <th>AFFGEOID</th>\n      <th>FIPS</th>\n      <th>NAME</th>\n      <th>LSAD</th>\n      <th>ALAND</th>\n      <th>AWATER</th>\n      <th>geometry</th>\n      <th>...</th>\n      <th>housing_type</th>\n      <th>overall_svi</th>\n      <th>co2_1yr_change</th>\n      <th>co2_6yr_change</th>\n      <th>co2_1yr_pct_change</th>\n      <th>co2_6yr_pct_change</th>\n      <th>co2_5yr_pct_change</th>\n      <th>co2_4yr_pct_change</th>\n      <th>co2_3yr_pct_change</th>\n      <th>co2_2yr_pct_change</th>\n    </tr>\n  </thead>\n  <tbody>\n    <tr>\n      <th>0</th>\n      <td>34</td>\n      <td>005</td>\n      <td>702808</td>\n      <td>1400000US34005702808</td>\n      <td>34005702808</td>\n      <td>7028.08</td>\n      <td>CT</td>\n      <td>1510553</td>\n      <td>0</td>\n      <td>POLYGON ((-74.90801 40.03250, -74.90496 40.036...</td>\n      <td>...</td>\n      <td>0.15160</td>\n      <td>0.60310</td>\n      <td>NaN</td>\n      <td>NaN</td>\n      <td>NaN</td>\n      <td>NaN</td>\n      <td>NaN</td>\n      <td>NaN</td>\n      <td>NaN</td>\n      <td>NaN</td>\n    </tr>\n    <tr>\n      <th>1</th>\n      <td>34</td>\n      <td>005</td>\n      <td>702808</td>\n      <td>1400000US34005702808</td>\n      <td>34005702808</td>\n      <td>7028.08</td>\n      <td>CT</td>\n      <td>1510553</td>\n      <td>0</td>\n      <td>POLYGON ((-74.90801 40.03250, -74.90496 40.036...</td>\n      <td>...</td>\n      <td>0.06170</td>\n      <td>0.48350</td>\n      <td>4.470362</td>\n      <td>NaN</td>\n      <td>0.011071</td>\n      <td>NaN</td>\n      <td>NaN</td>\n      <td>NaN</td>\n      <td>NaN</td>\n      <td>NaN</td>\n    </tr>\n    <tr>\n      <th>2</th>\n      <td>34</td>\n      <td>005</td>\n      <td>702808</td>\n      <td>1400000US34005702808</td>\n      <td>34005702808</td>\n      <td>7028.08</td>\n      <td>CT</td>\n      <td>1510553</td>\n      <td>0</td>\n      <td>POLYGON ((-74.90801 40.03250, -74.90496 40.036...</td>\n      <td>...</td>\n      <td>0.16060</td>\n      <td>0.61070</td>\n      <td>-10.519547</td>\n      <td>NaN</td>\n      <td>-0.025767</td>\n      <td>NaN</td>\n      <td>NaN</td>\n      <td>NaN</td>\n      <td>NaN</td>\n      <td>-0.014981</td>\n    </tr>\n    <tr>\n      <th>3</th>\n      <td>34</td>\n      <td>005</td>\n      <td>702808</td>\n      <td>1400000US34005702808</td>\n      <td>34005702808</td>\n      <td>7028.08</td>\n      <td>CT</td>\n      <td>1510553</td>\n      <td>0</td>\n      <td>POLYGON ((-74.90801 40.03250, -74.90496 40.036...</td>\n      <td>...</td>\n      <td>0.07030</td>\n      <td>0.45420</td>\n      <td>15.565801</td>\n      <td>NaN</td>\n      <td>0.039137</td>\n      <td>NaN</td>\n      <td>NaN</td>\n      <td>NaN</td>\n      <td>0.023569</td>\n      <td>0.012361</td>\n    </tr>\n    <tr>\n      <th>4</th>\n      <td>34</td>\n      <td>005</td>\n      <td>702808</td>\n      <td>1400000US34005702808</td>\n      <td>34005702808</td>\n      <td>7028.08</td>\n      <td>CT</td>\n      <td>1510553</td>\n      <td>0</td>\n      <td>POLYGON ((-74.90801 40.03250, -74.90496 40.036...</td>\n      <td>...</td>\n      <td>0.15610</td>\n      <td>0.60690</td>\n      <td>-12.719866</td>\n      <td>NaN</td>\n      <td>-0.030777</td>\n      <td>NaN</td>\n      <td>NaN</td>\n      <td>-0.007933</td>\n      <td>-0.018796</td>\n      <td>0.007155</td>\n    </tr>\n    <tr>\n      <th>5</th>\n      <td>34</td>\n      <td>005</td>\n      <td>702808</td>\n      <td>1400000US34005702808</td>\n      <td>34005702808</td>\n      <td>7028.08</td>\n      <td>CT</td>\n      <td>1510553</td>\n      <td>0</td>\n      <td>POLYGON ((-74.90801 40.03250, -74.90496 40.036...</td>\n      <td>...</td>\n      <td>0.10665</td>\n      <td>0.54330</td>\n      <td>5.451052</td>\n      <td>NaN</td>\n      <td>0.013608</td>\n      <td>NaN</td>\n      <td>0.005567</td>\n      <td>-0.005444</td>\n      <td>0.020861</td>\n      <td>-0.017587</td>\n    </tr>\n    <tr>\n      <th>6</th>\n      <td>34</td>\n      <td>005</td>\n      <td>702808</td>\n      <td>1400000US34005702808</td>\n      <td>34005702808</td>\n      <td>7028.08</td>\n      <td>CT</td>\n      <td>1510553</td>\n      <td>0</td>\n      <td>POLYGON ((-74.90801 40.03250, -74.90496 40.036...</td>\n      <td>...</td>\n      <td>0.06600</td>\n      <td>0.46885</td>\n      <td>4.626818</td>\n      <td>6.874621</td>\n      <td>0.011395</td>\n      <td>0.017026</td>\n      <td>0.005889</td>\n      <td>0.032494</td>\n      <td>-0.006392</td>\n      <td>0.025158</td>\n    </tr>\n    <tr>\n      <th>7</th>\n      <td>39</td>\n      <td>153</td>\n      <td>504200</td>\n      <td>1400000US39153504200</td>\n      <td>39153504200</td>\n      <td>5042</td>\n      <td>CT</td>\n      <td>808151</td>\n      <td>0</td>\n      <td>POLYGON ((-81.51807 41.05957, -81.51805 41.062...</td>\n      <td>...</td>\n      <td>0.91130</td>\n      <td>0.96260</td>\n      <td>NaN</td>\n      <td>NaN</td>\n      <td>NaN</td>\n      <td>NaN</td>\n      <td>NaN</td>\n      <td>NaN</td>\n      <td>NaN</td>\n      <td>NaN</td>\n    </tr>\n    <tr>\n      <th>8</th>\n      <td>39</td>\n      <td>153</td>\n      <td>504200</td>\n      <td>1400000US39153504200</td>\n      <td>39153504200</td>\n      <td>5042</td>\n      <td>CT</td>\n      <td>808151</td>\n      <td>0</td>\n      <td>POLYGON ((-81.51807 41.05957, -81.51805 41.062...</td>\n      <td>...</td>\n      <td>0.66785</td>\n      <td>0.83985</td>\n      <td>-12.712186</td>\n      <td>NaN</td>\n      <td>-0.030804</td>\n      <td>NaN</td>\n      <td>NaN</td>\n      <td>NaN</td>\n      <td>NaN</td>\n      <td>NaN</td>\n    </tr>\n    <tr>\n      <th>9</th>\n      <td>39</td>\n      <td>153</td>\n      <td>504200</td>\n      <td>1400000US39153504200</td>\n      <td>39153504200</td>\n      <td>5042</td>\n      <td>CT</td>\n      <td>808151</td>\n      <td>0</td>\n      <td>POLYGON ((-81.51807 41.05957, -81.51805 41.062...</td>\n      <td>...</td>\n      <td>0.51770</td>\n      <td>0.79745</td>\n      <td>5.694221</td>\n      <td>NaN</td>\n      <td>0.014237</td>\n      <td>NaN</td>\n      <td>NaN</td>\n      <td>NaN</td>\n      <td>NaN</td>\n      <td>-0.017006</td>\n    </tr>\n    <tr>\n      <th>10</th>\n      <td>39</td>\n      <td>153</td>\n      <td>504200</td>\n      <td>1400000US39153504200</td>\n      <td>39153504200</td>\n      <td>5042</td>\n      <td>CT</td>\n      <td>808151</td>\n      <td>0</td>\n      <td>POLYGON ((-81.51807 41.05957, -81.51805 41.062...</td>\n      <td>...</td>\n      <td>0.46650</td>\n      <td>0.81890</td>\n      <td>1.954981</td>\n      <td>NaN</td>\n      <td>0.004819</td>\n      <td>NaN</td>\n      <td>NaN</td>\n      <td>NaN</td>\n      <td>-0.012269</td>\n      <td>0.019125</td>\n    </tr>\n    <tr>\n      <th>11</th>\n      <td>39</td>\n      <td>153</td>\n      <td>504200</td>\n      <td>1400000US39153504200</td>\n      <td>39153504200</td>\n      <td>5042</td>\n      <td>CT</td>\n      <td>808151</td>\n      <td>0</td>\n      <td>POLYGON ((-81.51807 41.05957, -81.51805 41.062...</td>\n      <td>...</td>\n      <td>0.56890</td>\n      <td>0.77600</td>\n      <td>-4.151306</td>\n      <td>NaN</td>\n      <td>-0.010184</td>\n      <td>NaN</td>\n      <td>NaN</td>\n      <td>-0.022328</td>\n      <td>0.008746</td>\n      <td>-0.005414</td>\n    </tr>\n    <tr>\n      <th>12</th>\n      <td>39</td>\n      <td>153</td>\n      <td>504200</td>\n      <td>1400000US39153504200</td>\n      <td>39153504200</td>\n      <td>5042</td>\n      <td>CT</td>\n      <td>808151</td>\n      <td>0</td>\n      <td>POLYGON ((-81.51807 41.05957, -81.51805 41.062...</td>\n      <td>...</td>\n      <td>0.76680</td>\n      <td>0.90370</td>\n      <td>-6.215963</td>\n      <td>NaN</td>\n      <td>-0.015407</td>\n      <td>NaN</td>\n      <td>-0.037391</td>\n      <td>-0.006796</td>\n      <td>-0.020737</td>\n      <td>-0.025434</td>\n    </tr>\n    <tr>\n      <th>13</th>\n      <td>39</td>\n      <td>153</td>\n      <td>504200</td>\n      <td>1400000US39153504200</td>\n      <td>39153504200</td>\n      <td>5042</td>\n      <td>CT</td>\n      <td>808151</td>\n      <td>0</td>\n      <td>POLYGON ((-81.51807 41.05957, -81.51805 41.062...</td>\n      <td>...</td>\n      <td>0.68890</td>\n      <td>0.89075</td>\n      <td>13.084435</td>\n      <td>-2.345818</td>\n      <td>0.032938</td>\n      <td>-0.005684</td>\n      <td>0.025918</td>\n      <td>0.011517</td>\n      <td>0.006666</td>\n      <td>0.017024</td>\n    </tr>\n    <tr>\n      <th>14</th>\n      <td>36</td>\n      <td>071</td>\n      <td>000502</td>\n      <td>1400000US36071000502</td>\n      <td>36071000502</td>\n      <td>5.02</td>\n      <td>CT</td>\n      <td>967431</td>\n      <td>969216</td>\n      <td>POLYGON ((-74.02226 41.49281, -74.02180 41.496...</td>\n      <td>...</td>\n      <td>0.78070</td>\n      <td>0.96540</td>\n      <td>NaN</td>\n      <td>NaN</td>\n      <td>NaN</td>\n      <td>NaN</td>\n      <td>NaN</td>\n      <td>NaN</td>\n      <td>NaN</td>\n      <td>NaN</td>\n    </tr>\n    <tr>\n      <th>15</th>\n      <td>36</td>\n      <td>071</td>\n      <td>000502</td>\n      <td>1400000US36071000502</td>\n      <td>36071000502</td>\n      <td>5.02</td>\n      <td>CT</td>\n      <td>967431</td>\n      <td>969216</td>\n      <td>POLYGON ((-74.02226 41.49281, -74.02180 41.496...</td>\n      <td>...</td>\n      <td>0.94235</td>\n      <td>0.98190</td>\n      <td>8.212629</td>\n      <td>NaN</td>\n      <td>0.020655</td>\n      <td>NaN</td>\n      <td>NaN</td>\n      <td>NaN</td>\n      <td>NaN</td>\n      <td>NaN</td>\n    </tr>\n    <tr>\n      <th>16</th>\n      <td>36</td>\n      <td>071</td>\n      <td>000502</td>\n      <td>1400000US36071000502</td>\n      <td>36071000502</td>\n      <td>5.02</td>\n      <td>CT</td>\n      <td>967431</td>\n      <td>969216</td>\n      <td>POLYGON ((-74.02226 41.49281, -74.02180 41.496...</td>\n      <td>...</td>\n      <td>0.86020</td>\n      <td>0.97590</td>\n      <td>-5.668315</td>\n      <td>NaN</td>\n      <td>-0.013967</td>\n      <td>NaN</td>\n      <td>NaN</td>\n      <td>NaN</td>\n      <td>NaN</td>\n      <td>0.006399</td>\n    </tr>\n    <tr>\n      <th>17</th>\n      <td>36</td>\n      <td>071</td>\n      <td>000502</td>\n      <td>1400000US36071000502</td>\n      <td>36071000502</td>\n      <td>5.02</td>\n      <td>CT</td>\n      <td>967431</td>\n      <td>969216</td>\n      <td>POLYGON ((-74.02226 41.49281, -74.02180 41.496...</td>\n      <td>...</td>\n      <td>0.78400</td>\n      <td>0.92680</td>\n      <td>12.902702</td>\n      <td>NaN</td>\n      <td>0.032244</td>\n      <td>NaN</td>\n      <td>NaN</td>\n      <td>NaN</td>\n      <td>0.038850</td>\n      <td>0.017826</td>\n    </tr>\n    <tr>\n      <th>18</th>\n      <td>36</td>\n      <td>071</td>\n      <td>000502</td>\n      <td>1400000US36071000502</td>\n      <td>36071000502</td>\n      <td>5.02</td>\n      <td>CT</td>\n      <td>967431</td>\n      <td>969216</td>\n      <td>POLYGON ((-74.02226 41.49281, -74.02180 41.496...</td>\n      <td>...</td>\n      <td>0.86450</td>\n      <td>0.95210</td>\n      <td>-2.426966</td>\n      <td>NaN</td>\n      <td>-0.005876</td>\n      <td>NaN</td>\n      <td>NaN</td>\n      <td>0.032746</td>\n      <td>0.011846</td>\n      <td>0.026179</td>\n    </tr>\n    <tr>\n      <th>19</th>\n      <td>36</td>\n      <td>071</td>\n      <td>000502</td>\n      <td>1400000US36071000502</td>\n      <td>36071000502</td>\n      <td>5.02</td>\n      <td>CT</td>\n      <td>967431</td>\n      <td>969216</td>\n      <td>POLYGON ((-74.02226 41.49281, -74.02180 41.496...</td>\n      <td>...</td>\n      <td>0.94500</td>\n      <td>0.97740</td>\n      <td>-2.705935</td>\n      <td>NaN</td>\n      <td>-0.006590</td>\n      <td>NaN</td>\n      <td>0.025940</td>\n      <td>0.005178</td>\n      <td>0.019417</td>\n      <td>-0.012427</td>\n    </tr>\n  </tbody>\n</table>\n<p>20 rows × 39 columns</p>\n</div>"
     },
     "execution_count": 53,
     "metadata": {},
     "output_type": "execute_result"
    }
   ],
   "source": [
    "final_df.head(20)"
   ],
   "metadata": {
    "collapsed": false,
    "ExecuteTime": {
     "start_time": "2023-07-03T09:31:51.554224Z",
     "end_time": "2023-07-03T09:31:51.564831Z"
    }
   }
  },
  {
   "cell_type": "code",
   "execution_count": 85,
   "outputs": [
    {
     "name": "stdout",
     "output_type": "stream",
     "text": [
      "<class 'pandas.core.frame.DataFrame'>\n",
      "Int64Index: 487736 entries, 0 to 518076\n",
      "Data columns (total 39 columns):\n",
      " #   Column              Non-Null Count   Dtype   \n",
      "---  ------              --------------   -----   \n",
      " 0   STATEFP             487736 non-null  object  \n",
      " 1   COUNTYFP            487736 non-null  object  \n",
      " 2   TRACTCE             487736 non-null  object  \n",
      " 3   AFFGEOID            487736 non-null  object  \n",
      " 4   FIPS                487736 non-null  int64   \n",
      " 5   NAME                487736 non-null  object  \n",
      " 6   LSAD                487736 non-null  object  \n",
      " 7   ALAND               487736 non-null  int64   \n",
      " 8   AWATER              487736 non-null  int64   \n",
      " 9   geometry            487736 non-null  geometry\n",
      " 10  index_right         487736 non-null  int64   \n",
      " 11  latitude            487736 non-null  float64 \n",
      " 12  longitude           487736 non-null  float64 \n",
      " 13  year                487736 non-null  object  \n",
      " 14  avg_co2             487736 non-null  float64 \n",
      " 15  xco2_std            487736 non-null  float64 \n",
      " 16  ST                  487736 non-null  float64 \n",
      " 17  STATE               487736 non-null  object  \n",
      " 18  ST_ABBR             487736 non-null  object  \n",
      " 19  STCNTY              487736 non-null  float64 \n",
      " 20  COUNTY              487736 non-null  object  \n",
      " 21  LOCATION            487736 non-null  object  \n",
      " 22  total_population    487736 non-null  float64 \n",
      " 23  housing_units       487736 non-null  float64 \n",
      " 24  num_households      487736 non-null  float64 \n",
      " 25  unemployment        487736 non-null  float64 \n",
      " 26  socioeconomic       487736 non-null  float64 \n",
      " 27  household_comp      487736 non-null  float64 \n",
      " 28  minority_status     487736 non-null  float64 \n",
      " 29  housing_type        487736 non-null  float64 \n",
      " 30  overall_svi         487736 non-null  float64 \n",
      " 31  co2_1yr_change      414911 non-null  float64 \n",
      " 32  co2_6yr_change      62256 non-null   float64 \n",
      " 33  co2_1yr_pct_change  414911 non-null  float64 \n",
      " 34  co2_6yr_pct_change  62256 non-null   float64 \n",
      " 35  co2_5yr_pct_change  123611 non-null  float64 \n",
      " 36  co2_4yr_pct_change  196436 non-null  float64 \n",
      " 37  co2_3yr_pct_change  269261 non-null  float64 \n",
      " 38  co2_2yr_pct_change  342086 non-null  float64 \n",
      "dtypes: float64(23), geometry(1), int64(4), object(11)\n",
      "memory usage: 148.8+ MB\n"
     ]
    }
   ],
   "source": [
    "final_df.info()"
   ],
   "metadata": {
    "collapsed": false,
    "ExecuteTime": {
     "start_time": "2023-07-07T14:44:36.651444Z",
     "end_time": "2023-07-07T14:44:37.480443Z"
    }
   }
  },
  {
   "cell_type": "code",
   "execution_count": null,
   "outputs": [],
   "source": [
    "#export final_df to csv\n",
    "final_df.to_csv(r'/Users/joannarashid/Documents/GitHub/Team-Project-Practicum-6748/final_df.csv', index=False)"
   ],
   "metadata": {
    "collapsed": false
   }
  }
 ],
 "metadata": {
  "kernelspec": {
   "display_name": "Python 3",
   "language": "python",
   "name": "python3"
  },
  "language_info": {
   "codemirror_mode": {
    "name": "ipython",
    "version": 2
   },
   "file_extension": ".py",
   "mimetype": "text/x-python",
   "name": "python",
   "nbconvert_exporter": "python",
   "pygments_lexer": "ipython2",
   "version": "2.7.6"
  }
 },
 "nbformat": 4,
 "nbformat_minor": 0
}
