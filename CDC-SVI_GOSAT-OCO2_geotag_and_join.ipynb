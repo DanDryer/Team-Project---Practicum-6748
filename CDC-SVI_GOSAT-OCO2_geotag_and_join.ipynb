{
 "cells": [
  {
   "cell_type": "markdown",
   "source": [
    "## Social Vulnerability Data from CDC 2014-2018\n",
    "cleaning, merging, and imputing missing values\n",
    "Data source: https://www.atsdr.cdc.gov/placeandhealth/svi/data_documentation_download.html\n",
    "Metadata: https://www.atsdr.cdc.gov/placeandhealth/svi/documentation/pdf/SVI2018Documentation_01192022_1.pdf"
   ],
   "metadata": {
    "collapsed": false
   }
  },
  {
   "cell_type": "code",
   "execution_count": 82,
   "outputs": [],
   "source": [
    "#load packages\n",
    "import pandas as pd\n",
    "import numpy as np"
   ],
   "metadata": {
    "collapsed": false,
    "ExecuteTime": {
     "start_time": "2023-07-02T10:40:46.598490Z",
     "end_time": "2023-07-02T10:40:46.604663Z"
    }
   }
  },
  {
   "cell_type": "code",
   "execution_count": 83,
   "outputs": [],
   "source": [
    "#read in cdc SVI data\n",
    "cdc_svi_2014 = pd.read_csv('CDC_SVI_Data/SVI2014_US.csv')\n",
    "cdc_svi_2016 = pd.read_csv('CDC_SVI_Data/SVI2016_US.csv')\n",
    "cdc_svi_2018 = pd.read_csv('CDC_SVI_Data/SVI2018_US.csv')\n",
    "cdc_svi_2020 = pd.read_csv('CDC_SVI_Data/SVI_2020_US.csv')"
   ],
   "metadata": {
    "collapsed": false,
    "ExecuteTime": {
     "start_time": "2023-07-02T10:40:50.255198Z",
     "end_time": "2023-07-02T10:40:57.073221Z"
    }
   }
  },
  {
   "cell_type": "markdown",
   "source": [
    "### Subsetting variables of interest and joining data\n",
    "\n",
    "Variables and seldcted along with location labels from 2014, with FIPS code only in subsequent years for joining\n"
   ],
   "metadata": {
    "collapsed": false
   }
  },
  {
   "cell_type": "code",
   "execution_count": 84,
   "outputs": [],
   "source": [
    "#select rows of interest 2014\n",
    "cdc_svi_2014 = cdc_svi_2014[['ST', 'STATE', 'ST_ABBR', 'STCNTY', 'COUNTY', 'FIPS', 'LOCATION',\n",
    "                             'E_TOTPOP','E_HU','E_HH', 'E_UNEMP','RPL_THEME1','RPL_THEME2','RPL_THEME3',\n",
    "                             'RPL_THEME4','RPL_THEMES']]\n",
    "\n",
    "#select rows of interest 2016\n",
    "cdc_svi_2016 = cdc_svi_2016[['FIPS','E_TOTPOP','E_HU','E_HH', 'E_UNEMP','RPL_THEME1',\n",
    "                            'RPL_THEME2','RPL_THEME3','RPL_THEME4','RPL_THEMES']]\n",
    "\n",
    "#select rows of interest 2018\n",
    "cdc_svi_2018 = cdc_svi_2018[['FIPS', 'E_TOTPOP','E_HU', 'E_HH', 'E_UNEMP', 'RPL_THEME1',\n",
    "                             'RPL_THEME2','RPL_THEME3','RPL_THEME4','RPL_THEMES']]\n",
    "\n",
    "#select var 2020\n",
    "cdc_svi_2020 = cdc_svi_2020[['FIPS', 'E_TOTPOP','E_HU', 'E_HH', 'E_UNEMP', 'RPL_THEME1',\n",
    "                             'RPL_THEME2','RPL_THEME3','RPL_THEME4','RPL_THEMES']]"
   ],
   "metadata": {
    "collapsed": false,
    "ExecuteTime": {
     "start_time": "2023-07-02T10:40:58.756577Z",
     "end_time": "2023-07-02T10:40:58.764029Z"
    }
   }
  },
  {
   "cell_type": "code",
   "execution_count": 85,
   "outputs": [],
   "source": [
    "#rename columns to add year identifier\n",
    "#add suffix to select rows of interest 2014\n",
    "cdc_svi_2014_renamed = cdc_svi_2014.add_suffix('_2014')\n",
    "cdc_svi_2016_renamed = cdc_svi_2016.add_suffix('_2016')\n",
    "cdc_svi_2018_renamed = cdc_svi_2018.add_suffix('_2018')\n",
    "cdc_svi_2020_renamed = cdc_svi_2020.add_suffix('_2020')\n",
    "\n",
    "#drop _2014 from cdc_svi_2014_renamed\n",
    "cdc_svi_2014_renamed.rename(columns={'ST_2014':'ST', 'STATE_2014':'STATE', 'ST_ABBR_2014':'ST_ABBR',\n",
    "                                                            'STCNTY_2014':'STCNTY', 'COUNTY_2014':'COUNTY', 'FIPS_2014':'FIPS',\n",
    "                                                            'LOCATION_2014':'LOCATION'}, inplace=True)\n",
    "\n",
    "#rename FIPS column 'FIPS'\n",
    "cdc_svi_2016_renamed.rename(columns={'FIPS_2016':'FIPS'}, inplace=True)\n",
    "cdc_svi_2018_renamed.rename(columns={'FIPS_2018':'FIPS'}, inplace=True)\n",
    "cdc_svi_2020_renamed.rename(columns={'FIPS_2020':'FIPS'}, inplace=True)"
   ],
   "metadata": {
    "collapsed": false,
    "ExecuteTime": {
     "start_time": "2023-07-02T10:41:00.153958Z",
     "end_time": "2023-07-02T10:41:00.179154Z"
    }
   }
  },
  {
   "cell_type": "code",
   "execution_count": 86,
   "outputs": [],
   "source": [
    "#join all dfs on FIPS\n",
    "df_join = pd.merge(cdc_svi_2014_renamed, cdc_svi_2016_renamed, on='FIPS', how='outer')\n",
    "df_join = pd.merge(df_join, cdc_svi_2018_renamed, on='FIPS', how='outer')\n",
    "df_join = pd.merge(df_join, cdc_svi_2020_renamed, on='FIPS', how='outer')"
   ],
   "metadata": {
    "collapsed": false,
    "ExecuteTime": {
     "start_time": "2023-07-02T10:41:00.982901Z",
     "end_time": "2023-07-02T10:41:01.180205Z"
    }
   }
  },
  {
   "cell_type": "markdown",
   "source": [
    "### Imputing values for 2015, 2017, and 2019"
   ],
   "metadata": {
    "collapsed": false
   }
  },
  {
   "cell_type": "code",
   "execution_count": 87,
   "outputs": [],
   "source": [
    "# Create a list of years to impute (2015, 2017, and 2019)\n",
    "years_to_impute = [2015, 2017, 2019]\n",
    "\n",
    "# Iterate over the years to impute\n",
    "for year in years_to_impute:\n",
    "    # Iterate over the columns\n",
    "    for column in df_join.columns:\n",
    "        if column.startswith('E_') or column.startswith('RPL_'):\n",
    "            # Extract the column prefix and check if it matches 'E_' or 'RPL_'\n",
    "            column_prefix = column.split('_')[0]\n",
    "            name = column.split('_')[1]\n",
    "            if column_prefix in ['E', 'RPL']:\n",
    "                # Create a new column name for the imputed values\n",
    "                new_column_name = f'{column_prefix}_{name}_{year}'\n",
    "\n",
    "                # Compute the average for the current column\n",
    "                preceding_year_column = f'{column_prefix}_{name}_{year - 1}'\n",
    "                succeeding_year_column = f'{column_prefix}_{name}_{year + 1}'\n",
    "\n",
    "                #impute with mean of subsequent and prior year\n",
    "                imputed_values = (\n",
    "                        (df_join[preceding_year_column] + df_join[succeeding_year_column]) / 2\n",
    "                )\n",
    "\n",
    "                # Add the new column with the imputed values to the data frame\n",
    "                df_join[new_column_name] = imputed_values\n"
   ],
   "metadata": {
    "collapsed": false,
    "ExecuteTime": {
     "start_time": "2023-07-02T10:41:12.376290Z",
     "end_time": "2023-07-02T10:41:12.515489Z"
    }
   }
  },
  {
   "cell_type": "code",
   "execution_count": 88,
   "outputs": [],
   "source": [
    "#convert from wide to long creating new year column\n",
    "df_svi_long = pd.wide_to_long(df_join, stubnames=['E_TOTPOP', 'E_HU', 'E_HH', 'E_UNEMP', 'RPL_THEME1',\n",
    "                                                   'RPL_THEME2', 'RPL_THEME3', 'RPL_THEME4', 'RPL_THEMES'],\n",
    "                               i=['ST', 'STATE', 'ST_ABBR', 'STCNTY', 'COUNTY', 'FIPS', 'LOCATION'],\n",
    "                               j='year', sep='_', suffix='\\w+').reset_index()"
   ],
   "metadata": {
    "collapsed": false,
    "ExecuteTime": {
     "start_time": "2023-07-02T10:41:14.256744Z",
     "end_time": "2023-07-02T10:41:38.817125Z"
    }
   }
  },
  {
   "cell_type": "code",
   "execution_count": 89,
   "outputs": [],
   "source": [
    "#rename columns\n",
    "df_svi_long.rename(columns={'E_TOTPOP':'total_population', 'E_HU':'housing_units',\n",
    "                             'E_HH':'num_households', 'E_UNEMP':'unemployment',\n",
    "                            'RPL_THEME1':'socioeconomic',\n",
    "                             'RPL_THEME2':'household_comp', 'RPL_THEME3':'minority_status', 'RPL_THEME4':'housing_type',\n",
    "                             'RPL_THEMES':'overall_svi'}, inplace=True)"
   ],
   "metadata": {
    "collapsed": false,
    "ExecuteTime": {
     "start_time": "2023-07-02T10:41:38.818005Z",
     "end_time": "2023-07-02T10:41:38.821599Z"
    }
   }
  },
  {
   "cell_type": "code",
   "execution_count": 90,
   "outputs": [
    {
     "data": {
      "text/plain": "     ST      STATE ST_ABBR   STCNTY   COUNTY         FIPS  \\\n0  36.0   New York      NY  36065.0   Oneida  36065023400   \n1  36.0   New York      NY  36065.0   Oneida  36065023400   \n2  36.0   New York      NY  36065.0   Oneida  36065023400   \n3  36.0   New York      NY  36065.0   Oneida  36065023400   \n4  36.0   New York      NY  36065.0   Oneida  36065023400   \n\n                                    LOCATION  year  total_population  \\\n0  Census Tract 234, Oneida County, New York  2014            4432.0   \n1  Census Tract 234, Oneida County, New York  2016            4848.0   \n2  Census Tract 234, Oneida County, New York  2018            4904.0   \n3  Census Tract 234, Oneida County, New York  2020            4617.0   \n4  Census Tract 234, Oneida County, New York  2015            4640.0   \n\n   housing_units  num_households  unemployment  socioeconomic  household_comp  \\\n0         2456.0          2094.0         157.0         0.5811         0.94420   \n1         2459.0          2154.0          90.0         0.3631         0.90810   \n2         2394.0          2225.0          84.0         0.4684         0.70040   \n3         2339.0          2089.0          58.0         0.3147         0.69980   \n4         2457.5          2124.0         123.5         0.4721         0.92615   \n\n   minority_status  housing_type  overall_svi  \n0           0.3143       0.48440       0.6302  \n1           0.0733       0.41610       0.4056  \n2           0.3336       0.47710       0.4893  \n3           0.1768       0.79120       0.5298  \n4           0.1938       0.45025       0.5179  ",
      "text/html": "<div>\n<style scoped>\n    .dataframe tbody tr th:only-of-type {\n        vertical-align: middle;\n    }\n\n    .dataframe tbody tr th {\n        vertical-align: top;\n    }\n\n    .dataframe thead th {\n        text-align: right;\n    }\n</style>\n<table border=\"1\" class=\"dataframe\">\n  <thead>\n    <tr style=\"text-align: right;\">\n      <th></th>\n      <th>ST</th>\n      <th>STATE</th>\n      <th>ST_ABBR</th>\n      <th>STCNTY</th>\n      <th>COUNTY</th>\n      <th>FIPS</th>\n      <th>LOCATION</th>\n      <th>year</th>\n      <th>total_population</th>\n      <th>housing_units</th>\n      <th>num_households</th>\n      <th>unemployment</th>\n      <th>socioeconomic</th>\n      <th>household_comp</th>\n      <th>minority_status</th>\n      <th>housing_type</th>\n      <th>overall_svi</th>\n    </tr>\n  </thead>\n  <tbody>\n    <tr>\n      <th>0</th>\n      <td>36.0</td>\n      <td>New York</td>\n      <td>NY</td>\n      <td>36065.0</td>\n      <td>Oneida</td>\n      <td>36065023400</td>\n      <td>Census Tract 234, Oneida County, New York</td>\n      <td>2014</td>\n      <td>4432.0</td>\n      <td>2456.0</td>\n      <td>2094.0</td>\n      <td>157.0</td>\n      <td>0.5811</td>\n      <td>0.94420</td>\n      <td>0.3143</td>\n      <td>0.48440</td>\n      <td>0.6302</td>\n    </tr>\n    <tr>\n      <th>1</th>\n      <td>36.0</td>\n      <td>New York</td>\n      <td>NY</td>\n      <td>36065.0</td>\n      <td>Oneida</td>\n      <td>36065023400</td>\n      <td>Census Tract 234, Oneida County, New York</td>\n      <td>2016</td>\n      <td>4848.0</td>\n      <td>2459.0</td>\n      <td>2154.0</td>\n      <td>90.0</td>\n      <td>0.3631</td>\n      <td>0.90810</td>\n      <td>0.0733</td>\n      <td>0.41610</td>\n      <td>0.4056</td>\n    </tr>\n    <tr>\n      <th>2</th>\n      <td>36.0</td>\n      <td>New York</td>\n      <td>NY</td>\n      <td>36065.0</td>\n      <td>Oneida</td>\n      <td>36065023400</td>\n      <td>Census Tract 234, Oneida County, New York</td>\n      <td>2018</td>\n      <td>4904.0</td>\n      <td>2394.0</td>\n      <td>2225.0</td>\n      <td>84.0</td>\n      <td>0.4684</td>\n      <td>0.70040</td>\n      <td>0.3336</td>\n      <td>0.47710</td>\n      <td>0.4893</td>\n    </tr>\n    <tr>\n      <th>3</th>\n      <td>36.0</td>\n      <td>New York</td>\n      <td>NY</td>\n      <td>36065.0</td>\n      <td>Oneida</td>\n      <td>36065023400</td>\n      <td>Census Tract 234, Oneida County, New York</td>\n      <td>2020</td>\n      <td>4617.0</td>\n      <td>2339.0</td>\n      <td>2089.0</td>\n      <td>58.0</td>\n      <td>0.3147</td>\n      <td>0.69980</td>\n      <td>0.1768</td>\n      <td>0.79120</td>\n      <td>0.5298</td>\n    </tr>\n    <tr>\n      <th>4</th>\n      <td>36.0</td>\n      <td>New York</td>\n      <td>NY</td>\n      <td>36065.0</td>\n      <td>Oneida</td>\n      <td>36065023400</td>\n      <td>Census Tract 234, Oneida County, New York</td>\n      <td>2015</td>\n      <td>4640.0</td>\n      <td>2457.5</td>\n      <td>2124.0</td>\n      <td>123.5</td>\n      <td>0.4721</td>\n      <td>0.92615</td>\n      <td>0.1938</td>\n      <td>0.45025</td>\n      <td>0.5179</td>\n    </tr>\n  </tbody>\n</table>\n</div>"
     },
     "execution_count": 90,
     "metadata": {},
     "output_type": "execute_result"
    }
   ],
   "source": [
    "df_svi_long.head()"
   ],
   "metadata": {
    "collapsed": false,
    "ExecuteTime": {
     "start_time": "2023-07-02T10:41:38.822851Z",
     "end_time": "2023-07-02T10:41:38.872822Z"
    }
   }
  },
  {
   "cell_type": "code",
   "execution_count": 91,
   "outputs": [
    {
     "data": {
      "text/plain": "   year  row_count\n0  2014      95623\n4  2015      95623\n1  2016      95623\n5  2017      95623\n2  2018      95623\n6  2019      95623\n3  2020      95623",
      "text/html": "<div>\n<style scoped>\n    .dataframe tbody tr th:only-of-type {\n        vertical-align: middle;\n    }\n\n    .dataframe tbody tr th {\n        vertical-align: top;\n    }\n\n    .dataframe thead th {\n        text-align: right;\n    }\n</style>\n<table border=\"1\" class=\"dataframe\">\n  <thead>\n    <tr style=\"text-align: right;\">\n      <th></th>\n      <th>year</th>\n      <th>row_count</th>\n    </tr>\n  </thead>\n  <tbody>\n    <tr>\n      <th>0</th>\n      <td>2014</td>\n      <td>95623</td>\n    </tr>\n    <tr>\n      <th>4</th>\n      <td>2015</td>\n      <td>95623</td>\n    </tr>\n    <tr>\n      <th>1</th>\n      <td>2016</td>\n      <td>95623</td>\n    </tr>\n    <tr>\n      <th>5</th>\n      <td>2017</td>\n      <td>95623</td>\n    </tr>\n    <tr>\n      <th>2</th>\n      <td>2018</td>\n      <td>95623</td>\n    </tr>\n    <tr>\n      <th>6</th>\n      <td>2019</td>\n      <td>95623</td>\n    </tr>\n    <tr>\n      <th>3</th>\n      <td>2020</td>\n      <td>95623</td>\n    </tr>\n  </tbody>\n</table>\n</div>"
     },
     "execution_count": 91,
     "metadata": {},
     "output_type": "execute_result"
    }
   ],
   "source": [
    "#check imputation results\n",
    "result = df_svi_long['year'].value_counts().reset_index()\n",
    "result.columns = ['year', 'row_count']\n",
    "result = result.sort_values('year')\n",
    "result"
   ],
   "metadata": {
    "collapsed": false,
    "ExecuteTime": {
     "start_time": "2023-07-02T10:41:38.859185Z",
     "end_time": "2023-07-02T10:41:38.873959Z"
    }
   }
  },
  {
   "cell_type": "markdown",
   "source": [
    "## Importing atmospheric CO2 data from GOSAT/OCO-2 composite raster data\n",
    "Data Source Methodology: https://www.tandfonline.com/doi/figure/10.1080/20964471.2022.2033149?scroll=top&needAccess=true&role=tab\n",
    "Data Source: https://dataverse.harvard.edu/dataset.xhtml?persistentId=doi:10.7910/DVN/4WDTD8\n",
    "\n",
    "The global 1° land mapping XCO2 dataset (Mapping-XCO2) is derived from satellite XCO2 retrievals of GOSAT and OCO-2 spanning the period of April 2009 to December 2020. The data product is provided in GeoTIFF format and include two temporal resolutions: 3 days and month. The 3-day data files include gridded XCO2 and mapping uncertainty, which are named like “MappingXCO2_Date.nc” and “MappingUncertainty_Date.nc”. The flag “Date” is defined as date ID of 1426 time-units started from 20 April 2009. The monthly data files only include XCO2 data and named like “MappingXCO2_YYYY_MM.tif”. The number of “YYYY” and “MM” represent year and month, respectively. The domain of the dataset covers global land ranging from 56° S to 65° N and 169° W to 180° E. The spatial reference of the dataset is Geographic Lat/Lon. The unit of XCO2 data is ppm while the nodata values were assigned to NaN. (2021-03-26)"
   ],
   "metadata": {
    "collapsed": false
   }
  },
  {
   "cell_type": "markdown",
   "source": [
    "US Bounding Coordinates Used to Trim Data:\n",
    "Longitude:\n",
    "West Bounding Coordinate: -180.000000\n",
    "East Bounding Coordinate: -65.000000\n",
    "\n",
    "Latitude:\n",
    "North Bounding Coordinate: 72.000000\n",
    "South Bounding Coordinate: 17.000000"
   ],
   "metadata": {
    "collapsed": false
   }
  },
  {
   "cell_type": "code",
   "execution_count": 92,
   "outputs": [],
   "source": [
    "from osgeo import gdal\n",
    "import re\n",
    "import glob"
   ],
   "metadata": {
    "collapsed": false,
    "ExecuteTime": {
     "start_time": "2023-07-02T10:41:38.864189Z",
     "end_time": "2023-07-02T10:41:38.874259Z"
    }
   }
  },
  {
   "cell_type": "code",
   "execution_count": 93,
   "outputs": [],
   "source": [
    "def raster_to_df(path):\n",
    "    \"\"\"\n",
    "    :param path: path to geotif file\n",
    "    :return: pandas df\n",
    "    Opens a geotif file and converts to pandas df\n",
    "    Labels year and month based on file name\n",
    "    trims based on coordinates of continental US\n",
    "    \"\"\"\n",
    "    #open tif file\n",
    "    raster = gdal.Open(path)\n",
    "\n",
    "    # Extract the filename from the file path\n",
    "    filename = os.path.basename(path)\n",
    "\n",
    "    # Extract the year and month using regular expressions\n",
    "    match = re.search(r'(\\d{4})(\\d{2})', filename)\n",
    "    year = match.group(1)\n",
    "    month = match.group(2)\n",
    "    new_file_name = f\"MappingXCO2_{year}{month}.xyz\"\n",
    "\n",
    "    #convert raster to xyz file\n",
    "    gdf = gdal.Translate(new_file_name, raster)\n",
    "\n",
    "    #open xyz file as pandas df\n",
    "    df = pd.read_csv(new_file_name, sep = \" \", header=None)\n",
    "\n",
    "    #rename columns\n",
    "    df.columns = [\"longitude\",\"latitude\", f\"xco2_{year}_{month}\"]\n",
    "\n",
    "    #trim df_co2 to bounding coordinates\n",
    "    df = df[(df['longitude'] >= -180.00) & (df['longitude'] <= -65.00)]\n",
    "    df = df[(df['latitude'] >= 17.00) & (df['latitude'] <= 72.00)]\n",
    "\n",
    "    return df"
   ],
   "metadata": {
    "collapsed": false,
    "ExecuteTime": {
     "start_time": "2023-07-02T10:41:54.383949Z",
     "end_time": "2023-07-02T10:41:54.413469Z"
    }
   }
  },
  {
   "cell_type": "code",
   "execution_count": 94,
   "outputs": [],
   "source": [
    "#iterate through monthly co2 files in folder and create dfs\n",
    "co2_files = glob.glob(\"/Users/joannarashid/Documents/GitHub/Team-Project-Practicum-6748/MappingXCO2_month/MappingXCO2_2014-2020/*.tif\")\n",
    "\n",
    "#convert to dfs\n",
    "dfs = []\n",
    "\n",
    "for file in co2_files:\n",
    "    df = raster_to_df(file)\n",
    "    dfs.append(df)\n"
   ],
   "metadata": {
    "collapsed": false,
    "ExecuteTime": {
     "start_time": "2023-07-02T10:41:55.909649Z",
     "end_time": "2023-07-02T10:42:05.115518Z"
    }
   }
  },
  {
   "cell_type": "code",
   "execution_count": 95,
   "outputs": [],
   "source": [
    "# join dfs together on latitude, longitude\n",
    "df_co2 = dfs[0]\n",
    "for df in dfs[1:]:\n",
    "    df_co2 = df_co2.merge(df, how='outer', on=['latitude', 'longitude'])"
   ],
   "metadata": {
    "collapsed": false,
    "ExecuteTime": {
     "start_time": "2023-07-02T10:42:05.119973Z",
     "end_time": "2023-07-02T10:42:06.097316Z"
    }
   }
  },
  {
   "cell_type": "code",
   "execution_count": 96,
   "outputs": [
    {
     "name": "stdout",
     "output_type": "stream",
     "text": [
      "<class 'pandas.core.frame.DataFrame'>\n",
      "RangeIndex: 44275 entries, 0 to 44274\n",
      "Data columns (total 4 columns):\n",
      " #   Column     Non-Null Count  Dtype  \n",
      "---  ------     --------------  -----  \n",
      " 0   latitude   44275 non-null  float64\n",
      " 1   longitude  44275 non-null  float64\n",
      " 2   year       44275 non-null  object \n",
      " 3   xco2_std   17486 non-null  float64\n",
      "dtypes: float64(3), object(1)\n",
      "memory usage: 1.4+ MB\n"
     ]
    }
   ],
   "source": [
    "#2014 standard deviation\n",
    "df_std = df_co2.copy()\n",
    "\n",
    "df_std[2014] = df_std[['xco2_2014_01', 'xco2_2014_02', 'xco2_2014_03', 'xco2_2014_04', 'xco2_2014_05',\n",
    "                         'xco2_2014_06', 'xco2_2014_07', 'xco2_2014_08', 'xco2_2014_09', 'xco2_2014_10',\n",
    "                         'xco2_2014_11', 'xco2_2014_12']].std(axis=1)\n",
    "\n",
    "#2015 standard deviation\n",
    "df_std[2015] = df_std[['xco2_2015_01', 'xco2_2015_02', 'xco2_2015_03', 'xco2_2015_04', 'xco2_2015_05',\n",
    "                         'xco2_2015_06', 'xco2_2015_07', 'xco2_2015_08', 'xco2_2015_09', 'xco2_2015_10',\n",
    "                         'xco2_2015_11', 'xco2_2015_12']].std(axis=1)\n",
    "\n",
    "#2016 standard deviation\n",
    "df_std[2016] = df_std[['xco2_2016_01', 'xco2_2016_02', 'xco2_2016_03', 'xco2_2016_04', 'xco2_2016_05',\n",
    "                         'xco2_2016_06', 'xco2_2016_07', 'xco2_2016_08', 'xco2_2016_09', 'xco2_2016_10',\n",
    "                         'xco2_2016_11', 'xco2_2016_12']].std(axis=1)\n",
    "\n",
    "#2017 standard deviation\n",
    "df_std[2017] = df_std[['xco2_2017_01', 'xco2_2017_02', 'xco2_2017_03', 'xco2_2017_04', 'xco2_2017_05',\n",
    "                         'xco2_2017_06', 'xco2_2017_07', 'xco2_2017_08', 'xco2_2017_09', 'xco2_2017_10',\n",
    "                         'xco2_2017_11', 'xco2_2017_12']].std(axis=1)\n",
    "\n",
    "#2018 standard deviation\n",
    "df_std[2018] = df_std[['xco2_2018_01', 'xco2_2018_02', 'xco2_2018_03', 'xco2_2018_04', 'xco2_2018_05',\n",
    "                         'xco2_2018_06', 'xco2_2018_07', 'xco2_2018_08', 'xco2_2018_09', 'xco2_2018_10',\n",
    "                         'xco2_2018_11', 'xco2_2018_12']].std(axis=1)\n",
    "\n",
    "#2019 standard deviation\n",
    "df_std[2019] = df_std[['xco2_2019_01', 'xco2_2019_02', 'xco2_2019_03', 'xco2_2019_04', 'xco2_2019_05',\n",
    "                         'xco2_2019_06', 'xco2_2019_07', 'xco2_2019_08', 'xco2_2019_09', 'xco2_2019_10',\n",
    "                         'xco2_2019_11', 'xco2_2019_12']].std(axis=1)\n",
    "\n",
    "#2020 standard deviation\n",
    "df_std[2020] = df_std[['xco2_2020_01', 'xco2_2020_02', 'xco2_2020_03', 'xco2_2020_04', 'xco2_2020_05',\n",
    "                         'xco2_2020_06', 'xco2_2020_07', 'xco2_2020_08', 'xco2_2020_09', 'xco2_2020_10',\n",
    "                         'xco2_2020_11', 'xco2_2020_12']].std(axis=1)\n",
    "\n",
    "# annual columns only\n",
    "df_std = df_std[['latitude', 'longitude', 2014, 2015, 2016, 2017, 2018, 2019, 2020]]\n",
    "\n",
    "#convert from wide to long with year as column\n",
    "df_std = df_std.melt(id_vars=['latitude', 'longitude'], var_name='year', value_name='xco2_std')\n",
    "\n",
    "df_std.info()"
   ],
   "metadata": {
    "collapsed": false,
    "ExecuteTime": {
     "start_time": "2023-07-02T10:42:06.106417Z",
     "end_time": "2023-07-02T10:42:06.218339Z"
    }
   }
  },
  {
   "cell_type": "code",
   "execution_count": 97,
   "outputs": [
    {
     "name": "stdout",
     "output_type": "stream",
     "text": [
      "<class 'pandas.core.frame.DataFrame'>\n",
      "RangeIndex: 44275 entries, 0 to 44274\n",
      "Data columns (total 4 columns):\n",
      " #   Column     Non-Null Count  Dtype  \n",
      "---  ------     --------------  -----  \n",
      " 0   latitude   44275 non-null  float64\n",
      " 1   longitude  44275 non-null  float64\n",
      " 2   year       44275 non-null  object \n",
      " 3   xco2       17486 non-null  float64\n",
      "dtypes: float64(3), object(1)\n",
      "memory usage: 1.4+ MB\n"
     ]
    }
   ],
   "source": [
    "# create annual averages\n",
    "df_co2[2014] = df_co2[['xco2_2014_01', 'xco2_2014_02', 'xco2_2014_03', 'xco2_2014_04', 'xco2_2014_05',\n",
    "                              'xco2_2014_06', 'xco2_2014_07', 'xco2_2014_08', 'xco2_2014_09', 'xco2_2014_10',\n",
    "                              'xco2_2014_11', 'xco2_2014_12']].mean(axis=1)\n",
    "\n",
    "df_co2[2015] = df_co2[['xco2_2015_01', 'xco2_2015_02', 'xco2_2015_03', 'xco2_2015_04', 'xco2_2015_05',\n",
    "                                'xco2_2015_06', 'xco2_2015_07', 'xco2_2015_08', 'xco2_2015_09', 'xco2_2015_10',\n",
    "                                'xco2_2015_11', 'xco2_2015_12']].mean(axis=1)\n",
    "\n",
    "df_co2[2016] = df_co2[['xco2_2016_01', 'xco2_2016_02', 'xco2_2016_03', 'xco2_2016_04', 'xco2_2016_05',\n",
    "                                'xco2_2016_06', 'xco2_2016_07', 'xco2_2016_08', 'xco2_2016_09', 'xco2_2016_10',\n",
    "                                'xco2_2016_11', 'xco2_2016_12']].mean(axis=1)\n",
    "\n",
    "df_co2[2017] = df_co2[['xco2_2017_01', 'xco2_2017_02', 'xco2_2017_03', 'xco2_2017_04', 'xco2_2017_05',\n",
    "                                'xco2_2017_06', 'xco2_2017_07', 'xco2_2017_08', 'xco2_2017_09', 'xco2_2017_10',\n",
    "                                'xco2_2017_11', 'xco2_2017_12']].mean(axis=1)\n",
    "\n",
    "df_co2[2018] = df_co2[['xco2_2018_01', 'xco2_2018_02', 'xco2_2018_03', 'xco2_2018_04', 'xco2_2018_05',\n",
    "                                'xco2_2018_06', 'xco2_2018_07', 'xco2_2018_08', 'xco2_2018_09', 'xco2_2018_10',\n",
    "                                'xco2_2018_11', 'xco2_2018_12']].mean(axis=1)\n",
    "\n",
    "df_co2[2019] = df_co2[['xco2_2019_01', 'xco2_2019_02', 'xco2_2019_03', 'xco2_2019_04', 'xco2_2019_05',\n",
    "                                'xco2_2019_06', 'xco2_2019_07', 'xco2_2019_08', 'xco2_2019_09', 'xco2_2019_10',\n",
    "                                'xco2_2019_11', 'xco2_2019_12']].mean(axis=1)\n",
    "\n",
    "df_co2[2020] = df_co2[['xco2_2020_01', 'xco2_2020_02', 'xco2_2020_03', 'xco2_2020_04', 'xco2_2020_05',\n",
    "                                'xco2_2020_06', 'xco2_2020_07', 'xco2_2020_08', 'xco2_2020_09', 'xco2_2020_10',\n",
    "                                'xco2_2020_11', 'xco2_2020_12']].mean(axis=1)\n",
    "# annual columns only\n",
    "df_co2 = df_co2[['latitude', 'longitude', 2014, 2015, 2016, 2017, 2018, 2019, 2020]]\n",
    "\n",
    "#convert from wide to long with year as column\n",
    "df_co2 = df_co2.melt(id_vars=['latitude', 'longitude'], var_name='year', value_name='xco2')\n",
    "\n",
    "df_co2.info()"
   ],
   "metadata": {
    "collapsed": false,
    "ExecuteTime": {
     "start_time": "2023-07-02T10:42:19.082089Z",
     "end_time": "2023-07-02T10:42:19.172655Z"
    }
   }
  },
  {
   "cell_type": "code",
   "execution_count": 98,
   "outputs": [],
   "source": [
    "#join df_std and df_co2\n",
    "df_co2 = df_co2.merge(df_std, on=['latitude', 'longitude', 'year'], how='left')"
   ],
   "metadata": {
    "collapsed": false,
    "ExecuteTime": {
     "start_time": "2023-07-02T10:42:20.737282Z",
     "end_time": "2023-07-02T10:42:20.799091Z"
    }
   }
  },
  {
   "cell_type": "code",
   "execution_count": 99,
   "outputs": [
    {
     "data": {
      "text/plain": "latitude         0\nlongitude        0\nyear             0\nxco2         26789\nxco2_std     26789\ndtype: int64"
     },
     "execution_count": 99,
     "metadata": {},
     "output_type": "execute_result"
    }
   ],
   "source": [
    "df_co2.isna().sum()"
   ],
   "metadata": {
    "collapsed": false,
    "ExecuteTime": {
     "start_time": "2023-07-02T10:42:22.001156Z",
     "end_time": "2023-07-02T10:42:22.011860Z"
    }
   }
  },
  {
   "cell_type": "code",
   "execution_count": 101,
   "outputs": [],
   "source": [
    "#drop rows with missing values\n",
    "df_co2 = df_co2.dropna()"
   ],
   "metadata": {
    "collapsed": false,
    "ExecuteTime": {
     "start_time": "2023-07-02T10:42:53.215552Z",
     "end_time": "2023-07-02T10:42:53.226202Z"
    }
   }
  },
  {
   "cell_type": "markdown",
   "source": [
    "## Importing 2019 census tract data and joining with CO2 data\n",
    "Data Source: https://catalog.data.gov/dataset/2019-cartographic-boundary-shapefile-current-census-tract-for-united-states-1-500000\n",
    "Metadata: https://www.atsdr.cdc.gov/placeandhealth/svi/documentation/pdf/SVI2018Documentation_01192022_1.pdf\n",
    "\n",
    "Census tracts are polygons and CO2 values are assigned to coordinates that are at the center of one degree pixels from the raster data. The CO2 values are left joined to the census tract data, so that each census tract will receive a CO2 value for the one degree pixel, that tract most overlaps."
   ],
   "metadata": {
    "collapsed": false
   }
  },
  {
   "cell_type": "code",
   "execution_count": 102,
   "outputs": [],
   "source": [
    "import pandas as pd\n",
    "import geopandas as gpd\n",
    "from shapely.geometry import Point\n",
    "from osgeo import ogr\n",
    "import os"
   ],
   "metadata": {
    "collapsed": false,
    "ExecuteTime": {
     "start_time": "2023-07-02T10:42:59.372552Z",
     "end_time": "2023-07-02T10:42:59.379561Z"
    }
   }
  },
  {
   "cell_type": "code",
   "execution_count": 103,
   "outputs": [
    {
     "ename": "AttributeError",
     "evalue": "'NoneType' object has no attribute 'GetLayer'",
     "output_type": "error",
     "traceback": [
      "\u001B[0;31m---------------------------------------------------------------------------\u001B[0m",
      "\u001B[0;31mAttributeError\u001B[0m                            Traceback (most recent call last)",
      "Cell \u001B[0;32mIn[103], line 6\u001B[0m\n\u001B[1;32m      4\u001B[0m driver \u001B[38;5;241m=\u001B[39m ogr\u001B[38;5;241m.\u001B[39mGetDriverByName(\u001B[38;5;124m\"\u001B[39m\u001B[38;5;124mESRI Shapefile\u001B[39m\u001B[38;5;124m\"\u001B[39m)\n\u001B[1;32m      5\u001B[0m dataSource \u001B[38;5;241m=\u001B[39m driver\u001B[38;5;241m.\u001B[39mOpen(shapefile_name, \u001B[38;5;241m0\u001B[39m)\n\u001B[0;32m----> 6\u001B[0m layer \u001B[38;5;241m=\u001B[39m \u001B[43mdataSource\u001B[49m\u001B[38;5;241;43m.\u001B[39;49m\u001B[43mGetLayer\u001B[49m()\n\u001B[1;32m      7\u001B[0m layerDefinition \u001B[38;5;241m=\u001B[39m layer\u001B[38;5;241m.\u001B[39mGetLayerDefn()\n\u001B[1;32m      9\u001B[0m \u001B[38;5;28;01mfor\u001B[39;00m i \u001B[38;5;129;01min\u001B[39;00m \u001B[38;5;28mrange\u001B[39m(layerDefinition\u001B[38;5;241m.\u001B[39mGetFieldCount()):\n",
      "\u001B[0;31mAttributeError\u001B[0m: 'NoneType' object has no attribute 'GetLayer'"
     ]
    }
   ],
   "source": [
    "#show fields in shapefile\n",
    "shapefile_name = \"/Users/joannarashid/Documents/Documents - Joanna’s MacBook Pro/School/Vernova/cb_2019_us_tract_500k/cb_2019_us_tract_500k.shp\"\n",
    "\n",
    "driver = ogr.GetDriverByName(\"ESRI Shapefile\")\n",
    "dataSource = driver.Open(shapefile_name, 0)\n",
    "layer = dataSource.GetLayer()\n",
    "layerDefinition = layer.GetLayerDefn()\n",
    "\n",
    "for i in range(layerDefinition.GetFieldCount()):\n",
    "    print(layerDefinition.GetFieldDefn(i).GetName())"
   ],
   "metadata": {
    "collapsed": false,
    "ExecuteTime": {
     "start_time": "2023-06-30T13:41:04.871828Z",
     "end_time": "2023-06-30T13:41:04.887054Z"
    }
   }
  },
  {
   "cell_type": "code",
   "execution_count": 104,
   "outputs": [
    {
     "name": "stderr",
     "output_type": "stream",
     "text": [
      "/Users/joannarashid/anaconda3/lib/python3.10/site-packages/geopandas/array.py:364: UserWarning: Geometry is in a geographic CRS. Results from 'sjoin_nearest' are likely incorrect. Use 'GeoSeries.to_crs()' to re-project geometries to a projected CRS before this operation.\n",
      "\n",
      "  warnings.warn(\n"
     ]
    }
   ],
   "source": [
    "#import census tract level shape file\n",
    "tract = gpd.read_file(r'/Users/joannarashid/Documents/GitHub/Team-Project-Practicum-6748/cb_2019_us_tract_500k/cb_2019_us_tract_500k.shp')\n",
    "\n",
    "#establish coordinate points which are the center point of each 1degree pixel of the CO2 raster data\n",
    "df_co2['coords'] = list(zip(df_co2['longitude'],df_co2['latitude']))\n",
    "df_co2['coords'] = df_co2['coords'].apply(Point)\n",
    "\n",
    "#convert points to geodataframe\n",
    "points = gpd.GeoDataFrame(df_co2, geometry='coords', crs=tract.crs)\n",
    "\n",
    "# join census tract with points\n",
    "# s_nearest is used to left join co2 data to census tract data\n",
    "# each census tract polygon will be assigned the raster value of the closest C02 point\n",
    "# which represents the 1 degree pixel that the census tract most overlaps\n",
    "df_join_tract = gpd.sjoin_nearest(tract, points, how='left')"
   ],
   "metadata": {
    "collapsed": false,
    "ExecuteTime": {
     "start_time": "2023-07-02T10:43:01.828354Z",
     "end_time": "2023-07-02T10:43:32.900680Z"
    }
   }
  },
  {
   "cell_type": "code",
   "execution_count": 105,
   "outputs": [
    {
     "name": "stdout",
     "output_type": "stream",
     "text": [
      "<class 'geopandas.geodataframe.GeoDataFrame'>\n",
      "Int64Index: 518077 entries, 0 to 73867\n",
      "Data columns (total 16 columns):\n",
      " #   Column       Non-Null Count   Dtype   \n",
      "---  ------       --------------   -----   \n",
      " 0   STATEFP      518077 non-null  object  \n",
      " 1   COUNTYFP     518077 non-null  object  \n",
      " 2   TRACTCE      518077 non-null  object  \n",
      " 3   AFFGEOID     518077 non-null  object  \n",
      " 4   GEOID        518077 non-null  object  \n",
      " 5   NAME         518077 non-null  object  \n",
      " 6   LSAD         518077 non-null  object  \n",
      " 7   ALAND        518077 non-null  int64   \n",
      " 8   AWATER       518077 non-null  int64   \n",
      " 9   geometry     518077 non-null  geometry\n",
      " 10  index_right  518077 non-null  int64   \n",
      " 11  latitude     518077 non-null  float64 \n",
      " 12  longitude    518077 non-null  float64 \n",
      " 13  year         518077 non-null  object  \n",
      " 14  xco2         518077 non-null  float64 \n",
      " 15  xco2_std     518077 non-null  float64 \n",
      "dtypes: float64(4), geometry(1), int64(3), object(8)\n",
      "memory usage: 67.2+ MB\n"
     ]
    }
   ],
   "source": [
    "df_join_tract.info()"
   ],
   "metadata": {
    "collapsed": false,
    "ExecuteTime": {
     "start_time": "2023-07-02T10:43:33.420051Z",
     "end_time": "2023-07-02T10:43:33.520998Z"
    }
   }
  },
  {
   "cell_type": "markdown",
   "source": [
    "## Join CO2 data with SVI data"
   ],
   "metadata": {
    "collapsed": false
   }
  },
  {
   "cell_type": "code",
   "execution_count": 106,
   "outputs": [],
   "source": [
    "#convert to pandas dataframe\n",
    "df_join_tract = pd.DataFrame(df_join_tract)"
   ],
   "metadata": {
    "collapsed": false,
    "ExecuteTime": {
     "start_time": "2023-07-02T10:43:35.790329Z",
     "end_time": "2023-07-02T10:43:35.806402Z"
    }
   }
  },
  {
   "cell_type": "code",
   "execution_count": 107,
   "outputs": [
    {
     "name": "stdout",
     "output_type": "stream",
     "text": [
      "<class 'pandas.core.frame.DataFrame'>\n",
      "Int64Index: 518077 entries, 0 to 73867\n",
      "Data columns (total 16 columns):\n",
      " #   Column       Non-Null Count   Dtype   \n",
      "---  ------       --------------   -----   \n",
      " 0   STATEFP      518077 non-null  object  \n",
      " 1   COUNTYFP     518077 non-null  object  \n",
      " 2   TRACTCE      518077 non-null  object  \n",
      " 3   AFFGEOID     518077 non-null  object  \n",
      " 4   GEOID        518077 non-null  object  \n",
      " 5   NAME         518077 non-null  object  \n",
      " 6   LSAD         518077 non-null  object  \n",
      " 7   ALAND        518077 non-null  int64   \n",
      " 8   AWATER       518077 non-null  int64   \n",
      " 9   geometry     518077 non-null  geometry\n",
      " 10  index_right  518077 non-null  int64   \n",
      " 11  latitude     518077 non-null  float64 \n",
      " 12  longitude    518077 non-null  float64 \n",
      " 13  year         518077 non-null  object  \n",
      " 14  xco2         518077 non-null  float64 \n",
      " 15  xco2_std     518077 non-null  float64 \n",
      "dtypes: float64(4), geometry(1), int64(3), object(8)\n",
      "memory usage: 67.2+ MB\n"
     ]
    }
   ],
   "source": [
    "df_join_tract.info()"
   ],
   "metadata": {
    "collapsed": false,
    "ExecuteTime": {
     "start_time": "2023-07-02T10:43:37.595421Z",
     "end_time": "2023-07-02T10:43:38.366680Z"
    }
   }
  },
  {
   "cell_type": "code",
   "execution_count": 109,
   "outputs": [],
   "source": [
    "#rename df_co2_01_2018 GEOID to FIPS\n",
    "df_join_tract.rename(columns = {\"GEOID\" : \"FIPS\"}, inplace= True)\n",
    "\n",
    "#converting all FIPS to int\n",
    "df_join_tract['FIPS'] = df_join_tract['FIPS'].astype(int)\n",
    "\n",
    "df_svi_long['FIPS'] = df_svi_long['FIPS'].astype(int)"
   ],
   "metadata": {
    "collapsed": false,
    "ExecuteTime": {
     "start_time": "2023-07-02T10:44:28.182613Z",
     "end_time": "2023-07-02T10:44:28.196247Z"
    }
   }
  },
  {
   "cell_type": "code",
   "execution_count": 122,
   "outputs": [],
   "source": [
    "# Specify the desired columns\n",
    "co2_columns = ['longitude', 'latitude','xco2', 'xco2_std', 'year']\n",
    "\n",
    "#left join df_svi_long with df_co2 on FIPS and year\n",
    "final_df = df_join_tract.merge(df_svi_long, on=['FIPS', 'year'], how='left')[co2_columns + list(df_svi_long.columns)]"
   ],
   "metadata": {
    "collapsed": false,
    "ExecuteTime": {
     "start_time": "2023-07-02T10:48:21.965380Z",
     "end_time": "2023-07-02T10:48:23.578759Z"
    }
   }
  },
  {
   "cell_type": "code",
   "execution_count": 123,
   "outputs": [
    {
     "name": "stdout",
     "output_type": "stream",
     "text": [
      "<class 'pandas.core.frame.DataFrame'>\n",
      "Int64Index: 518077 entries, 0 to 518076\n",
      "Data columns (total 22 columns):\n",
      " #   Column            Non-Null Count   Dtype  \n",
      "---  ------            --------------   -----  \n",
      " 0   longitude         518077 non-null  float64\n",
      " 1   latitude          518077 non-null  float64\n",
      " 2   xco2              518077 non-null  float64\n",
      " 3   xco2_std          518077 non-null  float64\n",
      " 4   year              518077 non-null  object \n",
      " 5   ST                510734 non-null  float64\n",
      " 6   STATE             510734 non-null  object \n",
      " 7   ST_ABBR           510734 non-null  object \n",
      " 8   STCNTY            510734 non-null  float64\n",
      " 9   COUNTY            510734 non-null  object \n",
      " 10  FIPS              518077 non-null  int64  \n",
      " 11  LOCATION          510734 non-null  object \n",
      " 12  year              518077 non-null  object \n",
      " 13  total_population  487784 non-null  float64\n",
      " 14  housing_units     487784 non-null  float64\n",
      " 15  num_households    487784 non-null  float64\n",
      " 16  unemployment      487784 non-null  float64\n",
      " 17  socioeconomic     487784 non-null  float64\n",
      " 18  household_comp    487784 non-null  float64\n",
      " 19  minority_status   487784 non-null  float64\n",
      " 20  housing_type      487784 non-null  float64\n",
      " 21  overall_svi       487784 non-null  float64\n",
      "dtypes: float64(15), int64(1), object(6)\n",
      "memory usage: 90.9+ MB\n"
     ]
    }
   ],
   "source": [
    "final_df.info()"
   ],
   "metadata": {
    "collapsed": false,
    "ExecuteTime": {
     "start_time": "2023-07-02T10:48:24.373688Z",
     "end_time": "2023-07-02T10:48:24.957523Z"
    }
   }
  },
  {
   "cell_type": "code",
   "execution_count": 124,
   "outputs": [],
   "source": [
    "#droping nas which are census tracts that did not overlap with the CO2 raster data\n",
    "final_df.dropna(inplace = True)"
   ],
   "metadata": {
    "collapsed": false,
    "ExecuteTime": {
     "start_time": "2023-07-02T10:48:32.200975Z",
     "end_time": "2023-07-02T10:48:32.802430Z"
    }
   }
  },
  {
   "cell_type": "code",
   "execution_count": 125,
   "outputs": [
    {
     "name": "stdout",
     "output_type": "stream",
     "text": [
      "<class 'pandas.core.frame.DataFrame'>\n",
      "Int64Index: 487736 entries, 0 to 518076\n",
      "Data columns (total 22 columns):\n",
      " #   Column            Non-Null Count   Dtype  \n",
      "---  ------            --------------   -----  \n",
      " 0   longitude         487736 non-null  float64\n",
      " 1   latitude          487736 non-null  float64\n",
      " 2   xco2              487736 non-null  float64\n",
      " 3   xco2_std          487736 non-null  float64\n",
      " 4   year              487736 non-null  object \n",
      " 5   ST                487736 non-null  float64\n",
      " 6   STATE             487736 non-null  object \n",
      " 7   ST_ABBR           487736 non-null  object \n",
      " 8   STCNTY            487736 non-null  float64\n",
      " 9   COUNTY            487736 non-null  object \n",
      " 10  FIPS              487736 non-null  int64  \n",
      " 11  LOCATION          487736 non-null  object \n",
      " 12  year              487736 non-null  object \n",
      " 13  total_population  487736 non-null  float64\n",
      " 14  housing_units     487736 non-null  float64\n",
      " 15  num_households    487736 non-null  float64\n",
      " 16  unemployment      487736 non-null  float64\n",
      " 17  socioeconomic     487736 non-null  float64\n",
      " 18  household_comp    487736 non-null  float64\n",
      " 19  minority_status   487736 non-null  float64\n",
      " 20  housing_type      487736 non-null  float64\n",
      " 21  overall_svi       487736 non-null  float64\n",
      "dtypes: float64(15), int64(1), object(6)\n",
      "memory usage: 85.6+ MB\n"
     ]
    }
   ],
   "source": [
    "final_df.info()"
   ],
   "metadata": {
    "collapsed": false,
    "ExecuteTime": {
     "start_time": "2023-07-02T10:48:33.508250Z",
     "end_time": "2023-07-02T10:48:34.016671Z"
    }
   }
  },
  {
   "cell_type": "code",
   "execution_count": 121,
   "outputs": [
    {
     "data": {
      "text/plain": "   longitude  latitude        xco2  year    ST        STATE ST_ABBR   STCNTY  \\\n0      -74.5      40.5  403.779935  2016  34.0   New Jersey      NJ  34005.0   \n1      -74.5      40.5  408.250298  2018  34.0   New Jersey      NJ  34005.0   \n2      -74.5      40.5  397.730751  2014  34.0   New Jersey      NJ  34005.0   \n3      -74.5      40.5  413.296552  2020  34.0   New Jersey      NJ  34005.0   \n4      -74.5      40.5  400.576686  2015  34.0   New Jersey      NJ  34005.0   \n\n        COUNTY         FIPS  ...  year total_population  housing_units  \\\n0   Burlington  34005702808  ...  2016           3204.0         1123.0   \n1   Burlington  34005702808  ...  2018           3383.0         1136.0   \n2   Burlington  34005702808  ...  2014           3193.0         1103.0   \n3   Burlington  34005702808  ...  2020           3447.0         1141.0   \n4   Burlington  34005702808  ...  2015           3198.5         1113.0   \n\n   num_households  unemployment  socioeconomic  household_comp  \\\n0          1041.0         244.0        0.69440         0.72480   \n1          1058.0         164.0        0.56530         0.81860   \n2          1064.0         226.0        0.64770         0.73430   \n3          1053.0          77.0        0.58480         0.68890   \n4          1052.5         235.0        0.67105         0.72955   \n\n   minority_status  housing_type  overall_svi  \n0          0.79870        0.1516       0.6031  \n1          0.78070        0.0617       0.4835  \n2          0.89440        0.1606       0.6107  \n3          0.92850        0.0703       0.4542  \n4          0.84655        0.1561       0.6069  \n\n[5 rows x 21 columns]",
      "text/html": "<div>\n<style scoped>\n    .dataframe tbody tr th:only-of-type {\n        vertical-align: middle;\n    }\n\n    .dataframe tbody tr th {\n        vertical-align: top;\n    }\n\n    .dataframe thead th {\n        text-align: right;\n    }\n</style>\n<table border=\"1\" class=\"dataframe\">\n  <thead>\n    <tr style=\"text-align: right;\">\n      <th></th>\n      <th>longitude</th>\n      <th>latitude</th>\n      <th>xco2</th>\n      <th>year</th>\n      <th>ST</th>\n      <th>STATE</th>\n      <th>ST_ABBR</th>\n      <th>STCNTY</th>\n      <th>COUNTY</th>\n      <th>FIPS</th>\n      <th>...</th>\n      <th>year</th>\n      <th>total_population</th>\n      <th>housing_units</th>\n      <th>num_households</th>\n      <th>unemployment</th>\n      <th>socioeconomic</th>\n      <th>household_comp</th>\n      <th>minority_status</th>\n      <th>housing_type</th>\n      <th>overall_svi</th>\n    </tr>\n  </thead>\n  <tbody>\n    <tr>\n      <th>0</th>\n      <td>-74.5</td>\n      <td>40.5</td>\n      <td>403.779935</td>\n      <td>2016</td>\n      <td>34.0</td>\n      <td>New Jersey</td>\n      <td>NJ</td>\n      <td>34005.0</td>\n      <td>Burlington</td>\n      <td>34005702808</td>\n      <td>...</td>\n      <td>2016</td>\n      <td>3204.0</td>\n      <td>1123.0</td>\n      <td>1041.0</td>\n      <td>244.0</td>\n      <td>0.69440</td>\n      <td>0.72480</td>\n      <td>0.79870</td>\n      <td>0.1516</td>\n      <td>0.6031</td>\n    </tr>\n    <tr>\n      <th>1</th>\n      <td>-74.5</td>\n      <td>40.5</td>\n      <td>408.250298</td>\n      <td>2018</td>\n      <td>34.0</td>\n      <td>New Jersey</td>\n      <td>NJ</td>\n      <td>34005.0</td>\n      <td>Burlington</td>\n      <td>34005702808</td>\n      <td>...</td>\n      <td>2018</td>\n      <td>3383.0</td>\n      <td>1136.0</td>\n      <td>1058.0</td>\n      <td>164.0</td>\n      <td>0.56530</td>\n      <td>0.81860</td>\n      <td>0.78070</td>\n      <td>0.0617</td>\n      <td>0.4835</td>\n    </tr>\n    <tr>\n      <th>2</th>\n      <td>-74.5</td>\n      <td>40.5</td>\n      <td>397.730751</td>\n      <td>2014</td>\n      <td>34.0</td>\n      <td>New Jersey</td>\n      <td>NJ</td>\n      <td>34005.0</td>\n      <td>Burlington</td>\n      <td>34005702808</td>\n      <td>...</td>\n      <td>2014</td>\n      <td>3193.0</td>\n      <td>1103.0</td>\n      <td>1064.0</td>\n      <td>226.0</td>\n      <td>0.64770</td>\n      <td>0.73430</td>\n      <td>0.89440</td>\n      <td>0.1606</td>\n      <td>0.6107</td>\n    </tr>\n    <tr>\n      <th>3</th>\n      <td>-74.5</td>\n      <td>40.5</td>\n      <td>413.296552</td>\n      <td>2020</td>\n      <td>34.0</td>\n      <td>New Jersey</td>\n      <td>NJ</td>\n      <td>34005.0</td>\n      <td>Burlington</td>\n      <td>34005702808</td>\n      <td>...</td>\n      <td>2020</td>\n      <td>3447.0</td>\n      <td>1141.0</td>\n      <td>1053.0</td>\n      <td>77.0</td>\n      <td>0.58480</td>\n      <td>0.68890</td>\n      <td>0.92850</td>\n      <td>0.0703</td>\n      <td>0.4542</td>\n    </tr>\n    <tr>\n      <th>4</th>\n      <td>-74.5</td>\n      <td>40.5</td>\n      <td>400.576686</td>\n      <td>2015</td>\n      <td>34.0</td>\n      <td>New Jersey</td>\n      <td>NJ</td>\n      <td>34005.0</td>\n      <td>Burlington</td>\n      <td>34005702808</td>\n      <td>...</td>\n      <td>2015</td>\n      <td>3198.5</td>\n      <td>1113.0</td>\n      <td>1052.5</td>\n      <td>235.0</td>\n      <td>0.67105</td>\n      <td>0.72955</td>\n      <td>0.84655</td>\n      <td>0.1561</td>\n      <td>0.6069</td>\n    </tr>\n  </tbody>\n</table>\n<p>5 rows × 21 columns</p>\n</div>"
     },
     "execution_count": 121,
     "metadata": {},
     "output_type": "execute_result"
    }
   ],
   "source": [
    "final_df.head()"
   ],
   "metadata": {
    "collapsed": false,
    "ExecuteTime": {
     "start_time": "2023-07-02T10:46:37.626749Z",
     "end_time": "2023-07-02T10:46:37.651374Z"
    }
   }
  },
  {
   "cell_type": "markdown",
   "source": [
    "## Computing additional CO2 features that capture temporal changes"
   ],
   "metadata": {
    "collapsed": false
   }
  },
  {
   "cell_type": "code",
   "execution_count": 126,
   "outputs": [],
   "source": [
    "#change in co2 since previous year for each FIPS\n",
    "final_df['co2_1yr_change'] = final_df.groupby(['FIPS'])['xco2'].diff()"
   ],
   "metadata": {
    "collapsed": false,
    "ExecuteTime": {
     "start_time": "2023-07-02T10:48:40.990680Z",
     "end_time": "2023-07-02T10:48:41.078827Z"
    }
   }
  },
  {
   "cell_type": "code",
   "execution_count": 127,
   "outputs": [],
   "source": [
    "#total change since 2014 for each FIPS\n",
    "final_df['co2_6yr_change'] = final_df.groupby(['FIPS'])['xco2'].diff(periods=6)"
   ],
   "metadata": {
    "collapsed": false,
    "ExecuteTime": {
     "start_time": "2023-07-02T10:48:42.146193Z",
     "end_time": "2023-07-02T10:48:42.202394Z"
    }
   }
  },
  {
   "cell_type": "code",
   "execution_count": 128,
   "outputs": [],
   "source": [
    "#percent change since previous year for each FIPS\n",
    "final_df['co2_1yr_pct_change'] = final_df.groupby(['FIPS'])['xco2'].pct_change()"
   ],
   "metadata": {
    "collapsed": false,
    "ExecuteTime": {
     "start_time": "2023-07-02T10:48:42.973143Z",
     "end_time": "2023-07-02T10:48:43.084262Z"
    }
   }
  },
  {
   "cell_type": "code",
   "execution_count": 129,
   "outputs": [],
   "source": [
    "#percent change since 2014 for each FIPS\n",
    "final_df['co2_6yr_pct_change'] = final_df.groupby(['FIPS'])['xco2'].pct_change(periods=6)\n",
    "#5 year average co2 for each FIPS\n",
    "final_df['co2_5yr_pct_change'] = final_df.groupby(['FIPS'])['xco2'].pct_change(periods=5)\n",
    "#4 year average co2 for each FIPS\n",
    "final_df['co2_4yr_pct_change'] = final_df.groupby(['FIPS'])['xco2'].pct_change(periods=4)\n",
    "#3 year average co2 for each FIPS\n",
    "final_df['co2_3yr_pct_change'] = final_df.groupby(['FIPS'])['xco2'].pct_change(periods=3)\n",
    "#2 year average co2 for each FIPS\n",
    "final_df['co2_2yr_pct_change'] = final_df.groupby(['FIPS'])['xco2'].pct_change(periods=2)"
   ],
   "metadata": {
    "collapsed": false,
    "ExecuteTime": {
     "start_time": "2023-07-02T10:48:43.866078Z",
     "end_time": "2023-07-02T10:48:44.485747Z"
    }
   }
  },
  {
   "cell_type": "code",
   "execution_count": 130,
   "outputs": [],
   "source": [
    "#rename xco2 to avg_co2\n",
    "final_df.rename(columns = {\"xco2\" : \"avg_co2\"}, inplace= True)"
   ],
   "metadata": {
    "collapsed": false,
    "ExecuteTime": {
     "start_time": "2023-07-02T10:48:48.239412Z",
     "end_time": "2023-07-02T10:48:48.256255Z"
    }
   }
  },
  {
   "cell_type": "code",
   "execution_count": 131,
   "outputs": [
    {
     "data": {
      "text/plain": "    longitude  latitude     avg_co2  xco2_std  year    ST        STATE  \\\n0       -74.5      40.5  403.779935  2.676985  2016  34.0   New Jersey   \n1       -74.5      40.5  408.250298  2.722180  2018  34.0   New Jersey   \n2       -74.5      40.5  397.730751  3.297426  2014  34.0   New Jersey   \n3       -74.5      40.5  413.296552  2.789300  2020  34.0   New Jersey   \n4       -74.5      40.5  400.576686  2.817643  2015  34.0   New Jersey   \n5       -74.5      40.5  406.027738  2.733697  2017  34.0   New Jersey   \n6       -74.5      40.5  410.654556  2.893552  2019  34.0   New Jersey   \n7       -81.5      41.5  412.676758  2.713684  2020  39.0         Ohio   \n8       -81.5      41.5  399.964572  2.747933  2015  39.0         Ohio   \n9       -81.5      41.5  405.658793  2.820804  2017  39.0         Ohio   \n10      -81.5      41.5  407.613775  3.198364  2018  39.0         Ohio   \n11      -81.5      41.5  403.462468  2.480557  2016  39.0         Ohio   \n12      -81.5      41.5  397.246506  3.067537  2014  39.0         Ohio   \n13      -81.5      41.5  410.330940  2.504242  2019  39.0         Ohio   \n14      -74.5      41.5  397.610586  3.159408  2014  36.0     New York   \n15      -74.5      41.5  405.823214  2.585364  2017  36.0     New York   \n16      -74.5      41.5  400.154900  3.004517  2015  36.0     New York   \n17      -74.5      41.5  413.057602  2.997997  2020  36.0     New York   \n18      -74.5      41.5  410.630636  2.859533  2019  36.0     New York   \n19      -74.5      41.5  407.924700  2.588741  2018  36.0     New York   \n\n   ST_ABBR   STCNTY       COUNTY  ...  housing_type overall_svi  \\\n0       NJ  34005.0   Burlington  ...       0.15160     0.60310   \n1       NJ  34005.0   Burlington  ...       0.06170     0.48350   \n2       NJ  34005.0   Burlington  ...       0.16060     0.61070   \n3       NJ  34005.0   Burlington  ...       0.07030     0.45420   \n4       NJ  34005.0   Burlington  ...       0.15610     0.60690   \n5       NJ  34005.0   Burlington  ...       0.10665     0.54330   \n6       NJ  34005.0   Burlington  ...       0.06600     0.46885   \n7       OH  39153.0       Summit  ...       0.91130     0.96260   \n8       OH  39153.0       Summit  ...       0.66785     0.83985   \n9       OH  39153.0       Summit  ...       0.51770     0.79745   \n10      OH  39153.0       Summit  ...       0.46650     0.81890   \n11      OH  39153.0       Summit  ...       0.56890     0.77600   \n12      OH  39153.0       Summit  ...       0.76680     0.90370   \n13      OH  39153.0       Summit  ...       0.68890     0.89075   \n14      NY  36071.0       Orange  ...       0.78070     0.96540   \n15      NY  36071.0       Orange  ...       0.94235     0.98190   \n16      NY  36071.0       Orange  ...       0.86020     0.97590   \n17      NY  36071.0       Orange  ...       0.78400     0.92680   \n18      NY  36071.0       Orange  ...       0.86450     0.95210   \n19      NY  36071.0       Orange  ...       0.94500     0.97740   \n\n   co2_1yr_change  co2_6yr_change  co2_1yr_pct_change  co2_6yr_pct_change  \\\n0             NaN             NaN                 NaN                 NaN   \n1        4.470362             NaN            0.011071                 NaN   \n2      -10.519547             NaN           -0.025767                 NaN   \n3       15.565801             NaN            0.039137                 NaN   \n4      -12.719866             NaN           -0.030777                 NaN   \n5        5.451052             NaN            0.013608                 NaN   \n6        4.626818        6.874621            0.011395            0.017026   \n7             NaN             NaN                 NaN                 NaN   \n8      -12.712186             NaN           -0.030804                 NaN   \n9        5.694221             NaN            0.014237                 NaN   \n10       1.954981             NaN            0.004819                 NaN   \n11      -4.151306             NaN           -0.010184                 NaN   \n12      -6.215963             NaN           -0.015407                 NaN   \n13      13.084435       -2.345818            0.032938           -0.005684   \n14            NaN             NaN                 NaN                 NaN   \n15       8.212629             NaN            0.020655                 NaN   \n16      -5.668315             NaN           -0.013967                 NaN   \n17      12.902702             NaN            0.032244                 NaN   \n18      -2.426966             NaN           -0.005876                 NaN   \n19      -2.705935             NaN           -0.006590                 NaN   \n\n    co2_5yr_pct_change  co2_4yr_pct_change  co2_3yr_pct_change  \\\n0                  NaN                 NaN                 NaN   \n1                  NaN                 NaN                 NaN   \n2                  NaN                 NaN                 NaN   \n3                  NaN                 NaN            0.023569   \n4                  NaN           -0.007933           -0.018796   \n5             0.005567           -0.005444            0.020861   \n6             0.005889            0.032494           -0.006392   \n7                  NaN                 NaN                 NaN   \n8                  NaN                 NaN                 NaN   \n9                  NaN                 NaN                 NaN   \n10                 NaN                 NaN           -0.012269   \n11                 NaN           -0.022328            0.008746   \n12           -0.037391           -0.006796           -0.020737   \n13            0.025918            0.011517            0.006666   \n14                 NaN                 NaN                 NaN   \n15                 NaN                 NaN                 NaN   \n16                 NaN                 NaN                 NaN   \n17                 NaN                 NaN            0.038850   \n18                 NaN            0.032746            0.011846   \n19            0.025940            0.005178            0.019417   \n\n    co2_2yr_pct_change  \n0                  NaN  \n1                  NaN  \n2            -0.014981  \n3             0.012361  \n4             0.007155  \n5            -0.017587  \n6             0.025158  \n7                  NaN  \n8                  NaN  \n9            -0.017006  \n10            0.019125  \n11           -0.005414  \n12           -0.025434  \n13            0.017024  \n14                 NaN  \n15                 NaN  \n16            0.006399  \n17            0.017826  \n18            0.026179  \n19           -0.012427  \n\n[20 rows x 30 columns]",
      "text/html": "<div>\n<style scoped>\n    .dataframe tbody tr th:only-of-type {\n        vertical-align: middle;\n    }\n\n    .dataframe tbody tr th {\n        vertical-align: top;\n    }\n\n    .dataframe thead th {\n        text-align: right;\n    }\n</style>\n<table border=\"1\" class=\"dataframe\">\n  <thead>\n    <tr style=\"text-align: right;\">\n      <th></th>\n      <th>longitude</th>\n      <th>latitude</th>\n      <th>avg_co2</th>\n      <th>xco2_std</th>\n      <th>year</th>\n      <th>ST</th>\n      <th>STATE</th>\n      <th>ST_ABBR</th>\n      <th>STCNTY</th>\n      <th>COUNTY</th>\n      <th>...</th>\n      <th>housing_type</th>\n      <th>overall_svi</th>\n      <th>co2_1yr_change</th>\n      <th>co2_6yr_change</th>\n      <th>co2_1yr_pct_change</th>\n      <th>co2_6yr_pct_change</th>\n      <th>co2_5yr_pct_change</th>\n      <th>co2_4yr_pct_change</th>\n      <th>co2_3yr_pct_change</th>\n      <th>co2_2yr_pct_change</th>\n    </tr>\n  </thead>\n  <tbody>\n    <tr>\n      <th>0</th>\n      <td>-74.5</td>\n      <td>40.5</td>\n      <td>403.779935</td>\n      <td>2.676985</td>\n      <td>2016</td>\n      <td>34.0</td>\n      <td>New Jersey</td>\n      <td>NJ</td>\n      <td>34005.0</td>\n      <td>Burlington</td>\n      <td>...</td>\n      <td>0.15160</td>\n      <td>0.60310</td>\n      <td>NaN</td>\n      <td>NaN</td>\n      <td>NaN</td>\n      <td>NaN</td>\n      <td>NaN</td>\n      <td>NaN</td>\n      <td>NaN</td>\n      <td>NaN</td>\n    </tr>\n    <tr>\n      <th>1</th>\n      <td>-74.5</td>\n      <td>40.5</td>\n      <td>408.250298</td>\n      <td>2.722180</td>\n      <td>2018</td>\n      <td>34.0</td>\n      <td>New Jersey</td>\n      <td>NJ</td>\n      <td>34005.0</td>\n      <td>Burlington</td>\n      <td>...</td>\n      <td>0.06170</td>\n      <td>0.48350</td>\n      <td>4.470362</td>\n      <td>NaN</td>\n      <td>0.011071</td>\n      <td>NaN</td>\n      <td>NaN</td>\n      <td>NaN</td>\n      <td>NaN</td>\n      <td>NaN</td>\n    </tr>\n    <tr>\n      <th>2</th>\n      <td>-74.5</td>\n      <td>40.5</td>\n      <td>397.730751</td>\n      <td>3.297426</td>\n      <td>2014</td>\n      <td>34.0</td>\n      <td>New Jersey</td>\n      <td>NJ</td>\n      <td>34005.0</td>\n      <td>Burlington</td>\n      <td>...</td>\n      <td>0.16060</td>\n      <td>0.61070</td>\n      <td>-10.519547</td>\n      <td>NaN</td>\n      <td>-0.025767</td>\n      <td>NaN</td>\n      <td>NaN</td>\n      <td>NaN</td>\n      <td>NaN</td>\n      <td>-0.014981</td>\n    </tr>\n    <tr>\n      <th>3</th>\n      <td>-74.5</td>\n      <td>40.5</td>\n      <td>413.296552</td>\n      <td>2.789300</td>\n      <td>2020</td>\n      <td>34.0</td>\n      <td>New Jersey</td>\n      <td>NJ</td>\n      <td>34005.0</td>\n      <td>Burlington</td>\n      <td>...</td>\n      <td>0.07030</td>\n      <td>0.45420</td>\n      <td>15.565801</td>\n      <td>NaN</td>\n      <td>0.039137</td>\n      <td>NaN</td>\n      <td>NaN</td>\n      <td>NaN</td>\n      <td>0.023569</td>\n      <td>0.012361</td>\n    </tr>\n    <tr>\n      <th>4</th>\n      <td>-74.5</td>\n      <td>40.5</td>\n      <td>400.576686</td>\n      <td>2.817643</td>\n      <td>2015</td>\n      <td>34.0</td>\n      <td>New Jersey</td>\n      <td>NJ</td>\n      <td>34005.0</td>\n      <td>Burlington</td>\n      <td>...</td>\n      <td>0.15610</td>\n      <td>0.60690</td>\n      <td>-12.719866</td>\n      <td>NaN</td>\n      <td>-0.030777</td>\n      <td>NaN</td>\n      <td>NaN</td>\n      <td>-0.007933</td>\n      <td>-0.018796</td>\n      <td>0.007155</td>\n    </tr>\n    <tr>\n      <th>5</th>\n      <td>-74.5</td>\n      <td>40.5</td>\n      <td>406.027738</td>\n      <td>2.733697</td>\n      <td>2017</td>\n      <td>34.0</td>\n      <td>New Jersey</td>\n      <td>NJ</td>\n      <td>34005.0</td>\n      <td>Burlington</td>\n      <td>...</td>\n      <td>0.10665</td>\n      <td>0.54330</td>\n      <td>5.451052</td>\n      <td>NaN</td>\n      <td>0.013608</td>\n      <td>NaN</td>\n      <td>0.005567</td>\n      <td>-0.005444</td>\n      <td>0.020861</td>\n      <td>-0.017587</td>\n    </tr>\n    <tr>\n      <th>6</th>\n      <td>-74.5</td>\n      <td>40.5</td>\n      <td>410.654556</td>\n      <td>2.893552</td>\n      <td>2019</td>\n      <td>34.0</td>\n      <td>New Jersey</td>\n      <td>NJ</td>\n      <td>34005.0</td>\n      <td>Burlington</td>\n      <td>...</td>\n      <td>0.06600</td>\n      <td>0.46885</td>\n      <td>4.626818</td>\n      <td>6.874621</td>\n      <td>0.011395</td>\n      <td>0.017026</td>\n      <td>0.005889</td>\n      <td>0.032494</td>\n      <td>-0.006392</td>\n      <td>0.025158</td>\n    </tr>\n    <tr>\n      <th>7</th>\n      <td>-81.5</td>\n      <td>41.5</td>\n      <td>412.676758</td>\n      <td>2.713684</td>\n      <td>2020</td>\n      <td>39.0</td>\n      <td>Ohio</td>\n      <td>OH</td>\n      <td>39153.0</td>\n      <td>Summit</td>\n      <td>...</td>\n      <td>0.91130</td>\n      <td>0.96260</td>\n      <td>NaN</td>\n      <td>NaN</td>\n      <td>NaN</td>\n      <td>NaN</td>\n      <td>NaN</td>\n      <td>NaN</td>\n      <td>NaN</td>\n      <td>NaN</td>\n    </tr>\n    <tr>\n      <th>8</th>\n      <td>-81.5</td>\n      <td>41.5</td>\n      <td>399.964572</td>\n      <td>2.747933</td>\n      <td>2015</td>\n      <td>39.0</td>\n      <td>Ohio</td>\n      <td>OH</td>\n      <td>39153.0</td>\n      <td>Summit</td>\n      <td>...</td>\n      <td>0.66785</td>\n      <td>0.83985</td>\n      <td>-12.712186</td>\n      <td>NaN</td>\n      <td>-0.030804</td>\n      <td>NaN</td>\n      <td>NaN</td>\n      <td>NaN</td>\n      <td>NaN</td>\n      <td>NaN</td>\n    </tr>\n    <tr>\n      <th>9</th>\n      <td>-81.5</td>\n      <td>41.5</td>\n      <td>405.658793</td>\n      <td>2.820804</td>\n      <td>2017</td>\n      <td>39.0</td>\n      <td>Ohio</td>\n      <td>OH</td>\n      <td>39153.0</td>\n      <td>Summit</td>\n      <td>...</td>\n      <td>0.51770</td>\n      <td>0.79745</td>\n      <td>5.694221</td>\n      <td>NaN</td>\n      <td>0.014237</td>\n      <td>NaN</td>\n      <td>NaN</td>\n      <td>NaN</td>\n      <td>NaN</td>\n      <td>-0.017006</td>\n    </tr>\n    <tr>\n      <th>10</th>\n      <td>-81.5</td>\n      <td>41.5</td>\n      <td>407.613775</td>\n      <td>3.198364</td>\n      <td>2018</td>\n      <td>39.0</td>\n      <td>Ohio</td>\n      <td>OH</td>\n      <td>39153.0</td>\n      <td>Summit</td>\n      <td>...</td>\n      <td>0.46650</td>\n      <td>0.81890</td>\n      <td>1.954981</td>\n      <td>NaN</td>\n      <td>0.004819</td>\n      <td>NaN</td>\n      <td>NaN</td>\n      <td>NaN</td>\n      <td>-0.012269</td>\n      <td>0.019125</td>\n    </tr>\n    <tr>\n      <th>11</th>\n      <td>-81.5</td>\n      <td>41.5</td>\n      <td>403.462468</td>\n      <td>2.480557</td>\n      <td>2016</td>\n      <td>39.0</td>\n      <td>Ohio</td>\n      <td>OH</td>\n      <td>39153.0</td>\n      <td>Summit</td>\n      <td>...</td>\n      <td>0.56890</td>\n      <td>0.77600</td>\n      <td>-4.151306</td>\n      <td>NaN</td>\n      <td>-0.010184</td>\n      <td>NaN</td>\n      <td>NaN</td>\n      <td>-0.022328</td>\n      <td>0.008746</td>\n      <td>-0.005414</td>\n    </tr>\n    <tr>\n      <th>12</th>\n      <td>-81.5</td>\n      <td>41.5</td>\n      <td>397.246506</td>\n      <td>3.067537</td>\n      <td>2014</td>\n      <td>39.0</td>\n      <td>Ohio</td>\n      <td>OH</td>\n      <td>39153.0</td>\n      <td>Summit</td>\n      <td>...</td>\n      <td>0.76680</td>\n      <td>0.90370</td>\n      <td>-6.215963</td>\n      <td>NaN</td>\n      <td>-0.015407</td>\n      <td>NaN</td>\n      <td>-0.037391</td>\n      <td>-0.006796</td>\n      <td>-0.020737</td>\n      <td>-0.025434</td>\n    </tr>\n    <tr>\n      <th>13</th>\n      <td>-81.5</td>\n      <td>41.5</td>\n      <td>410.330940</td>\n      <td>2.504242</td>\n      <td>2019</td>\n      <td>39.0</td>\n      <td>Ohio</td>\n      <td>OH</td>\n      <td>39153.0</td>\n      <td>Summit</td>\n      <td>...</td>\n      <td>0.68890</td>\n      <td>0.89075</td>\n      <td>13.084435</td>\n      <td>-2.345818</td>\n      <td>0.032938</td>\n      <td>-0.005684</td>\n      <td>0.025918</td>\n      <td>0.011517</td>\n      <td>0.006666</td>\n      <td>0.017024</td>\n    </tr>\n    <tr>\n      <th>14</th>\n      <td>-74.5</td>\n      <td>41.5</td>\n      <td>397.610586</td>\n      <td>3.159408</td>\n      <td>2014</td>\n      <td>36.0</td>\n      <td>New York</td>\n      <td>NY</td>\n      <td>36071.0</td>\n      <td>Orange</td>\n      <td>...</td>\n      <td>0.78070</td>\n      <td>0.96540</td>\n      <td>NaN</td>\n      <td>NaN</td>\n      <td>NaN</td>\n      <td>NaN</td>\n      <td>NaN</td>\n      <td>NaN</td>\n      <td>NaN</td>\n      <td>NaN</td>\n    </tr>\n    <tr>\n      <th>15</th>\n      <td>-74.5</td>\n      <td>41.5</td>\n      <td>405.823214</td>\n      <td>2.585364</td>\n      <td>2017</td>\n      <td>36.0</td>\n      <td>New York</td>\n      <td>NY</td>\n      <td>36071.0</td>\n      <td>Orange</td>\n      <td>...</td>\n      <td>0.94235</td>\n      <td>0.98190</td>\n      <td>8.212629</td>\n      <td>NaN</td>\n      <td>0.020655</td>\n      <td>NaN</td>\n      <td>NaN</td>\n      <td>NaN</td>\n      <td>NaN</td>\n      <td>NaN</td>\n    </tr>\n    <tr>\n      <th>16</th>\n      <td>-74.5</td>\n      <td>41.5</td>\n      <td>400.154900</td>\n      <td>3.004517</td>\n      <td>2015</td>\n      <td>36.0</td>\n      <td>New York</td>\n      <td>NY</td>\n      <td>36071.0</td>\n      <td>Orange</td>\n      <td>...</td>\n      <td>0.86020</td>\n      <td>0.97590</td>\n      <td>-5.668315</td>\n      <td>NaN</td>\n      <td>-0.013967</td>\n      <td>NaN</td>\n      <td>NaN</td>\n      <td>NaN</td>\n      <td>NaN</td>\n      <td>0.006399</td>\n    </tr>\n    <tr>\n      <th>17</th>\n      <td>-74.5</td>\n      <td>41.5</td>\n      <td>413.057602</td>\n      <td>2.997997</td>\n      <td>2020</td>\n      <td>36.0</td>\n      <td>New York</td>\n      <td>NY</td>\n      <td>36071.0</td>\n      <td>Orange</td>\n      <td>...</td>\n      <td>0.78400</td>\n      <td>0.92680</td>\n      <td>12.902702</td>\n      <td>NaN</td>\n      <td>0.032244</td>\n      <td>NaN</td>\n      <td>NaN</td>\n      <td>NaN</td>\n      <td>0.038850</td>\n      <td>0.017826</td>\n    </tr>\n    <tr>\n      <th>18</th>\n      <td>-74.5</td>\n      <td>41.5</td>\n      <td>410.630636</td>\n      <td>2.859533</td>\n      <td>2019</td>\n      <td>36.0</td>\n      <td>New York</td>\n      <td>NY</td>\n      <td>36071.0</td>\n      <td>Orange</td>\n      <td>...</td>\n      <td>0.86450</td>\n      <td>0.95210</td>\n      <td>-2.426966</td>\n      <td>NaN</td>\n      <td>-0.005876</td>\n      <td>NaN</td>\n      <td>NaN</td>\n      <td>0.032746</td>\n      <td>0.011846</td>\n      <td>0.026179</td>\n    </tr>\n    <tr>\n      <th>19</th>\n      <td>-74.5</td>\n      <td>41.5</td>\n      <td>407.924700</td>\n      <td>2.588741</td>\n      <td>2018</td>\n      <td>36.0</td>\n      <td>New York</td>\n      <td>NY</td>\n      <td>36071.0</td>\n      <td>Orange</td>\n      <td>...</td>\n      <td>0.94500</td>\n      <td>0.97740</td>\n      <td>-2.705935</td>\n      <td>NaN</td>\n      <td>-0.006590</td>\n      <td>NaN</td>\n      <td>0.025940</td>\n      <td>0.005178</td>\n      <td>0.019417</td>\n      <td>-0.012427</td>\n    </tr>\n  </tbody>\n</table>\n<p>20 rows × 30 columns</p>\n</div>"
     },
     "execution_count": 131,
     "metadata": {},
     "output_type": "execute_result"
    }
   ],
   "source": [
    "final_df.head(20)"
   ],
   "metadata": {
    "collapsed": false,
    "ExecuteTime": {
     "start_time": "2023-07-02T10:48:49.679260Z",
     "end_time": "2023-07-02T10:48:49.697808Z"
    }
   }
  },
  {
   "cell_type": "code",
   "execution_count": 72,
   "outputs": [],
   "source": [
    "#export to csv\n",
    "final_df.to_csv(r'/Users/joannarashid/Documents/GitHub/Team-Project-Practicum-6748/2014_2020_all_tract.csv', index = False)"
   ],
   "metadata": {
    "collapsed": false,
    "ExecuteTime": {
     "start_time": "2023-06-30T16:33:01.745965Z",
     "end_time": "2023-06-30T16:33:16.528434Z"
    }
   }
  }
 ],
 "metadata": {
  "kernelspec": {
   "display_name": "Python 3",
   "language": "python",
   "name": "python3"
  },
  "language_info": {
   "codemirror_mode": {
    "name": "ipython",
    "version": 2
   },
   "file_extension": ".py",
   "mimetype": "text/x-python",
   "name": "python",
   "nbconvert_exporter": "python",
   "pygments_lexer": "ipython2",
   "version": "2.7.6"
  }
 },
 "nbformat": 4,
 "nbformat_minor": 0
}
