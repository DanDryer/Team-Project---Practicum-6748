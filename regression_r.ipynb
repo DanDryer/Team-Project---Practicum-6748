{
 "cells": [
  {
   "attachments": {},
   "cell_type": "markdown",
   "metadata": {},
   "source": [
    "## Setup"
   ]
  },
  {
   "cell_type": "code",
   "execution_count": 25,
   "metadata": {
    "vscode": {
     "languageId": "r"
    }
   },
   "outputs": [
    {
     "name": "stderr",
     "output_type": "stream",
     "text": [
      "randomForest 4.7-1.1\n",
      "\n",
      "Type rfNews() to see new features/changes/bug fixes.\n",
      "\n",
      "\n",
      "Attaching package: 'randomForest'\n",
      "\n",
      "\n",
      "The following object is masked from 'package:ggplot2':\n",
      "\n",
      "    margin\n",
      "\n",
      "\n",
      "The following object is masked from 'package:dplyr':\n",
      "\n",
      "    combine\n",
      "\n",
      "\n"
     ]
    }
   ],
   "source": [
    "library(car)\n",
    "library(MASS)\n",
    "library(dplyr)\n",
    "library(corrplot)\n",
    "library(ggplot2)\n",
    "library(Hmisc)\n",
    "library(glmnet)\n",
    "library(randomForest)"
   ]
  },
  {
   "cell_type": "code",
   "execution_count": 3,
   "metadata": {
    "vscode": {
     "languageId": "r"
    }
   },
   "outputs": [
    {
     "data": {
      "text/html": [
       "<style>\n",
       ".list-inline {list-style: none; margin:0; padding: 0}\n",
       ".list-inline>li {display: inline-block}\n",
       ".list-inline>li:not(:last-child)::after {content: \"\\00b7\"; padding: 0 .5ex}\n",
       "</style>\n",
       "<ol class=list-inline><li>'longitude'</li><li>'latitude'</li><li>'FIPS'</li><li>'avg_co2'</li><li>'year'</li><li>'ST'</li><li>'STATE'</li><li>'ST_ABBR'</li><li>'STCNTY'</li><li>'COUNTY'</li><li>'FIPS.1'</li><li>'LOCATION'</li><li>'year.1'</li><li>'total_population'</li><li>'housing_units'</li><li>'num_households'</li><li>'unemployment'</li><li>'socioeconomic'</li><li>'household_comp'</li><li>'minority_status'</li><li>'housing_type'</li><li>'overall_svi'</li><li>'xco2_std'</li><li>'co2_1yr_change'</li><li>'co2_6yr_change'</li><li>'co2_1yr_pct_change'</li><li>'co2_6yr_pct_change'</li><li>'co2_5yr_pct_change'</li><li>'co2_4yr_pct_change'</li><li>'co2_3yr_pct_change'</li><li>'co2_2yr_pct_change'</li></ol>\n"
      ],
      "text/latex": [
       "\\begin{enumerate*}\n",
       "\\item 'longitude'\n",
       "\\item 'latitude'\n",
       "\\item 'FIPS'\n",
       "\\item 'avg\\_co2'\n",
       "\\item 'year'\n",
       "\\item 'ST'\n",
       "\\item 'STATE'\n",
       "\\item 'ST\\_ABBR'\n",
       "\\item 'STCNTY'\n",
       "\\item 'COUNTY'\n",
       "\\item 'FIPS.1'\n",
       "\\item 'LOCATION'\n",
       "\\item 'year.1'\n",
       "\\item 'total\\_population'\n",
       "\\item 'housing\\_units'\n",
       "\\item 'num\\_households'\n",
       "\\item 'unemployment'\n",
       "\\item 'socioeconomic'\n",
       "\\item 'household\\_comp'\n",
       "\\item 'minority\\_status'\n",
       "\\item 'housing\\_type'\n",
       "\\item 'overall\\_svi'\n",
       "\\item 'xco2\\_std'\n",
       "\\item 'co2\\_1yr\\_change'\n",
       "\\item 'co2\\_6yr\\_change'\n",
       "\\item 'co2\\_1yr\\_pct\\_change'\n",
       "\\item 'co2\\_6yr\\_pct\\_change'\n",
       "\\item 'co2\\_5yr\\_pct\\_change'\n",
       "\\item 'co2\\_4yr\\_pct\\_change'\n",
       "\\item 'co2\\_3yr\\_pct\\_change'\n",
       "\\item 'co2\\_2yr\\_pct\\_change'\n",
       "\\end{enumerate*}\n"
      ],
      "text/markdown": [
       "1. 'longitude'\n",
       "2. 'latitude'\n",
       "3. 'FIPS'\n",
       "4. 'avg_co2'\n",
       "5. 'year'\n",
       "6. 'ST'\n",
       "7. 'STATE'\n",
       "8. 'ST_ABBR'\n",
       "9. 'STCNTY'\n",
       "10. 'COUNTY'\n",
       "11. 'FIPS.1'\n",
       "12. 'LOCATION'\n",
       "13. 'year.1'\n",
       "14. 'total_population'\n",
       "15. 'housing_units'\n",
       "16. 'num_households'\n",
       "17. 'unemployment'\n",
       "18. 'socioeconomic'\n",
       "19. 'household_comp'\n",
       "20. 'minority_status'\n",
       "21. 'housing_type'\n",
       "22. 'overall_svi'\n",
       "23. 'xco2_std'\n",
       "24. 'co2_1yr_change'\n",
       "25. 'co2_6yr_change'\n",
       "26. 'co2_1yr_pct_change'\n",
       "27. 'co2_6yr_pct_change'\n",
       "28. 'co2_5yr_pct_change'\n",
       "29. 'co2_4yr_pct_change'\n",
       "30. 'co2_3yr_pct_change'\n",
       "31. 'co2_2yr_pct_change'\n",
       "\n",
       "\n"
      ],
      "text/plain": [
       " [1] \"longitude\"          \"latitude\"           \"FIPS\"              \n",
       " [4] \"avg_co2\"            \"year\"               \"ST\"                \n",
       " [7] \"STATE\"              \"ST_ABBR\"            \"STCNTY\"            \n",
       "[10] \"COUNTY\"             \"FIPS.1\"             \"LOCATION\"          \n",
       "[13] \"year.1\"             \"total_population\"   \"housing_units\"     \n",
       "[16] \"num_households\"     \"unemployment\"       \"socioeconomic\"     \n",
       "[19] \"household_comp\"     \"minority_status\"    \"housing_type\"      \n",
       "[22] \"overall_svi\"        \"xco2_std\"           \"co2_1yr_change\"    \n",
       "[25] \"co2_6yr_change\"     \"co2_1yr_pct_change\" \"co2_6yr_pct_change\"\n",
       "[28] \"co2_5yr_pct_change\" \"co2_4yr_pct_change\" \"co2_3yr_pct_change\"\n",
       "[31] \"co2_2yr_pct_change\""
      ]
     },
     "metadata": {},
     "output_type": "display_data"
    },
    {
     "data": {
      "text/html": [
       "<table class=\"dataframe\">\n",
       "<caption>A data.frame: 6 × 10</caption>\n",
       "<thead>\n",
       "\t<tr><th></th><th scope=col>total_population</th><th scope=col>housing_units</th><th scope=col>num_households</th><th scope=col>unemployment</th><th scope=col>socioeconomic</th><th scope=col>household_comp</th><th scope=col>minority_status</th><th scope=col>housing_type</th><th scope=col>overall_svi</th><th scope=col>avg_co2</th></tr>\n",
       "\t<tr><th></th><th scope=col>&lt;dbl&gt;</th><th scope=col>&lt;dbl&gt;</th><th scope=col>&lt;dbl&gt;</th><th scope=col>&lt;dbl&gt;</th><th scope=col>&lt;dbl&gt;</th><th scope=col>&lt;dbl&gt;</th><th scope=col>&lt;dbl&gt;</th><th scope=col>&lt;dbl&gt;</th><th scope=col>&lt;dbl&gt;</th><th scope=col>&lt;dbl&gt;</th></tr>\n",
       "</thead>\n",
       "<tbody>\n",
       "\t<tr><th scope=row>1</th><td>3447</td><td>1141</td><td>1053</td><td> 77</td><td>0.5848</td><td>0.6889</td><td>0.9285</td><td>0.0703</td><td>0.4542</td><td>413.2966</td></tr>\n",
       "\t<tr><th scope=row>2</th><td>1507</td><td> 824</td><td> 635</td><td> 60</td><td>0.9752</td><td>0.8203</td><td>0.7353</td><td>0.9113</td><td>0.9626</td><td>412.6768</td></tr>\n",
       "\t<tr><th scope=row>3</th><td>4055</td><td>1522</td><td>1239</td><td> 47</td><td>0.8607</td><td>0.9384</td><td>0.8798</td><td>0.7840</td><td>0.9268</td><td>413.0576</td></tr>\n",
       "\t<tr><th scope=row>4</th><td>2728</td><td>1077</td><td>1057</td><td> 42</td><td>0.2345</td><td>0.6057</td><td>0.6860</td><td>0.3554</td><td>0.3741</td><td>413.4645</td></tr>\n",
       "\t<tr><th scope=row>5</th><td>4045</td><td>2118</td><td>1437</td><td>101</td><td>0.5609</td><td>0.7525</td><td>0.0977</td><td>0.6935</td><td>0.6183</td><td>412.7970</td></tr>\n",
       "\t<tr><th scope=row>6</th><td>3257</td><td>1179</td><td>1179</td><td> 48</td><td>0.1135</td><td>0.4199</td><td>0.2724</td><td>0.1507</td><td>0.1288</td><td>412.3908</td></tr>\n",
       "</tbody>\n",
       "</table>\n"
      ],
      "text/latex": [
       "A data.frame: 6 × 10\n",
       "\\begin{tabular}{r|llllllllll}\n",
       "  & total\\_population & housing\\_units & num\\_households & unemployment & socioeconomic & household\\_comp & minority\\_status & housing\\_type & overall\\_svi & avg\\_co2\\\\\n",
       "  & <dbl> & <dbl> & <dbl> & <dbl> & <dbl> & <dbl> & <dbl> & <dbl> & <dbl> & <dbl>\\\\\n",
       "\\hline\n",
       "\t1 & 3447 & 1141 & 1053 &  77 & 0.5848 & 0.6889 & 0.9285 & 0.0703 & 0.4542 & 413.2966\\\\\n",
       "\t2 & 1507 &  824 &  635 &  60 & 0.9752 & 0.8203 & 0.7353 & 0.9113 & 0.9626 & 412.6768\\\\\n",
       "\t3 & 4055 & 1522 & 1239 &  47 & 0.8607 & 0.9384 & 0.8798 & 0.7840 & 0.9268 & 413.0576\\\\\n",
       "\t4 & 2728 & 1077 & 1057 &  42 & 0.2345 & 0.6057 & 0.6860 & 0.3554 & 0.3741 & 413.4645\\\\\n",
       "\t5 & 4045 & 2118 & 1437 & 101 & 0.5609 & 0.7525 & 0.0977 & 0.6935 & 0.6183 & 412.7970\\\\\n",
       "\t6 & 3257 & 1179 & 1179 &  48 & 0.1135 & 0.4199 & 0.2724 & 0.1507 & 0.1288 & 412.3908\\\\\n",
       "\\end{tabular}\n"
      ],
      "text/markdown": [
       "\n",
       "A data.frame: 6 × 10\n",
       "\n",
       "| <!--/--> | total_population &lt;dbl&gt; | housing_units &lt;dbl&gt; | num_households &lt;dbl&gt; | unemployment &lt;dbl&gt; | socioeconomic &lt;dbl&gt; | household_comp &lt;dbl&gt; | minority_status &lt;dbl&gt; | housing_type &lt;dbl&gt; | overall_svi &lt;dbl&gt; | avg_co2 &lt;dbl&gt; |\n",
       "|---|---|---|---|---|---|---|---|---|---|---|\n",
       "| 1 | 3447 | 1141 | 1053 |  77 | 0.5848 | 0.6889 | 0.9285 | 0.0703 | 0.4542 | 413.2966 |\n",
       "| 2 | 1507 |  824 |  635 |  60 | 0.9752 | 0.8203 | 0.7353 | 0.9113 | 0.9626 | 412.6768 |\n",
       "| 3 | 4055 | 1522 | 1239 |  47 | 0.8607 | 0.9384 | 0.8798 | 0.7840 | 0.9268 | 413.0576 |\n",
       "| 4 | 2728 | 1077 | 1057 |  42 | 0.2345 | 0.6057 | 0.6860 | 0.3554 | 0.3741 | 413.4645 |\n",
       "| 5 | 4045 | 2118 | 1437 | 101 | 0.5609 | 0.7525 | 0.0977 | 0.6935 | 0.6183 | 412.7970 |\n",
       "| 6 | 3257 | 1179 | 1179 |  48 | 0.1135 | 0.4199 | 0.2724 | 0.1507 | 0.1288 | 412.3908 |\n",
       "\n"
      ],
      "text/plain": [
       "  total_population housing_units num_households unemployment socioeconomic\n",
       "1 3447             1141          1053            77          0.5848       \n",
       "2 1507              824           635            60          0.9752       \n",
       "3 4055             1522          1239            47          0.8607       \n",
       "4 2728             1077          1057            42          0.2345       \n",
       "5 4045             2118          1437           101          0.5609       \n",
       "6 3257             1179          1179            48          0.1135       \n",
       "  household_comp minority_status housing_type overall_svi avg_co2 \n",
       "1 0.6889         0.9285          0.0703       0.4542      413.2966\n",
       "2 0.8203         0.7353          0.9113       0.9626      412.6768\n",
       "3 0.9384         0.8798          0.7840       0.9268      413.0576\n",
       "4 0.6057         0.6860          0.3554       0.3741      413.4645\n",
       "5 0.7525         0.0977          0.6935       0.6183      412.7970\n",
       "6 0.4199         0.2724          0.1507       0.1288      412.3908"
      ]
     },
     "metadata": {},
     "output_type": "display_data"
    }
   ],
   "source": [
    "df = read.csv(\"C:/Users/ddrye/OneDrive/Documents/OMSA_Program/OMSA 2023/Summer2023/Practicum/off_git/data/2014_2020_all_tract.csv\")\n",
    "\n",
    "# select year of interest and filter out negative values for svi fields\n",
    "df <- df %>% filter(year == 2020) %>% filter(socioeconomic >= 0 & household_comp >= 0 & minority_status >= 0 & housing_type >= 0 & overall_svi >=0)\n",
    "colnames(df)\n",
    "\n",
    "# select fields\n",
    "df <- df[,c('total_population','housing_units','num_households','unemployment','socioeconomic','household_comp','minority_status','housing_type', 'overall_svi','avg_co2')]\n",
    "\n",
    "# remove rows with na value(s)\n",
    "df <- na.omit(df)\n",
    "\n",
    "# outlier control applied to each column. Cut rows that contain at least one value that is 3.0 standard deviations away from the mean \n",
    "z_scores <- as.data.frame(sapply(df, function(df) (abs(df-mean(df))/sd(df))))\n",
    "df <- df[!rowSums(z_scores>3), ]\n",
    "head(df)\n",
    "\n",
    "# scaling is not necessary\n",
    "#df <- as.data.frame(scale(df))\n",
    "#head(df)"
   ]
  },
  {
   "attachments": {},
   "cell_type": "markdown",
   "metadata": {},
   "source": [
    "## Initial Model"
   ]
  },
  {
   "cell_type": "code",
   "execution_count": 4,
   "metadata": {
    "vscode": {
     "languageId": "r"
    }
   },
   "outputs": [
    {
     "data": {
      "text/plain": [
       "\n",
       "Call:\n",
       "lm(formula = avg_co2 ~ ., data = df)\n",
       "\n",
       "Residuals:\n",
       "     Min       1Q   Median       3Q      Max \n",
       "-1.48621 -0.27301 -0.00078  0.23582  1.48224 \n",
       "\n",
       "Coefficients:\n",
       "                   Estimate Std. Error   t value Pr(>|t|)    \n",
       "(Intercept)       4.128e+02  9.774e-03 42235.799  < 2e-16 ***\n",
       "total_population  8.228e-05  2.386e-06    34.484  < 2e-16 ***\n",
       "housing_units     2.430e-05  8.018e-06     3.030  0.00245 ** \n",
       "num_households   -2.063e-04  1.095e-05   -18.836  < 2e-16 ***\n",
       "unemployment      2.491e-04  2.918e-05     8.535  < 2e-16 ***\n",
       "socioeconomic    -1.743e-01  3.040e-02    -5.732 9.99e-09 ***\n",
       "household_comp   -2.755e-02  1.679e-02    -1.641  0.10081    \n",
       "minority_status   6.059e-01  1.011e-02    59.906  < 2e-16 ***\n",
       "housing_type      1.118e-01  2.112e-02     5.293 1.21e-07 ***\n",
       "overall_svi      -1.788e-01  5.643e-02    -3.169  0.00153 ** \n",
       "---\n",
       "Signif. codes:  0 '***' 0.001 '**' 0.01 '*' 0.05 '.' 0.1 ' ' 1\n",
       "\n",
       "Residual standard error: 0.3903 on 58484 degrees of freedom\n",
       "Multiple R-squared:  0.1614,\tAdjusted R-squared:  0.1613 \n",
       "F-statistic:  1251 on 9 and 58484 DF,  p-value: < 2.2e-16\n"
      ]
     },
     "metadata": {},
     "output_type": "display_data"
    }
   ],
   "source": [
    "model1<-lm(avg_co2 ~ . , data=df)\n",
    "summary(model1)"
   ]
  },
  {
   "attachments": {},
   "cell_type": "markdown",
   "metadata": {},
   "source": [
    "$R^2$ is 0.16914, i.e. 16.14% of the variation in avg_co2 is explained by the predictors. At a significance level of 0.05, we reject the null hypothesis that the variables in the model hold no predictive power. In terms of individual variables, all are statistically significant except for household_comp"
   ]
  },
  {
   "attachments": {},
   "cell_type": "markdown",
   "metadata": {},
   "source": [
    "## Regression Assumptions"
   ]
  },
  {
   "attachments": {},
   "cell_type": "markdown",
   "metadata": {},
   "source": [
    "### linearity"
   ]
  },
  {
   "cell_type": "code",
   "execution_count": 5,
   "metadata": {
    "vscode": {
     "languageId": "r"
    }
   },
   "outputs": [
    {
     "data": {
      "image/png": "[encoded data removed]",
      "text/plain": [
       "Plot with title \"co2 vs overall_svi\""
      ]
     },
     "metadata": {
      "image/png": {
       "height": 420,
       "width": 420
      }
     },
     "output_type": "display_data"
    }
   ],
   "source": [
    "# pairplots\n",
    "par(mfrow=c(3,3))\n",
    "plot(df$avg_co2, df$total_population, main='co2 vs population')\n",
    "plot(df$avg_co2, df$housing_units, main='co2 vs housing units')\n",
    "plot(df$avg_co2, df$num_households, main='co2 vs number of households')\n",
    "plot(df$avg_co2, df$uemployment, main='co2 vs unemployment')\n",
    "plot(df$avg_co2, df$socioeconomic, main='co2 vs socioeconomic')\n",
    "plot(df$avg_co2, df$household_comp, main='co2 vs household comp')\n",
    "plot(df$avg_co2, df$minority_status, main='co2 vs minority_status')\n",
    "plot(df$avg_co2, df$housing_type, main='co2 vs housing_type')\n",
    "plot(df$avg_co2, df$overall_svi, main='co2 vs overall_svi')"
   ]
  },
  {
   "attachments": {},
   "cell_type": "markdown",
   "metadata": {},
   "source": [
    "No discernable relationships between the variables and avg_co2. Tranformations for the data are not apparent, or just not necessary"
   ]
  },
  {
   "attachments": {},
   "cell_type": "markdown",
   "metadata": {},
   "source": [
    "### Multicollinearity"
   ]
  },
  {
   "cell_type": "code",
   "execution_count": 6,
   "metadata": {
    "vscode": {
     "languageId": "r"
    }
   },
   "outputs": [
    {
     "data": {
      "image/png": "[encoded data removed]",
      "text/plain": [
       "Plot with title \"\""
      ]
     },
     "metadata": {
      "image/png": {
       "height": 420,
       "width": 420
      }
     },
     "output_type": "display_data"
    }
   ],
   "source": [
    "corrplot(cor(df), method=\"color\")"
   ]
  },
  {
   "attachments": {},
   "cell_type": "markdown",
   "metadata": {},
   "source": [
    "### residuals vs fitted "
   ]
  },
  {
   "cell_type": "code",
   "execution_count": 9,
   "metadata": {
    "vscode": {
     "languageId": "r"
    }
   },
   "outputs": [
    {
     "data": {
      "image/png": "[encoded data removed]",
      "text/plain": [
       "plot without title"
      ]
     },
     "metadata": {
      "image/png": {
       "height": 420,
       "width": 420
      }
     },
     "output_type": "display_data"
    }
   ],
   "source": [
    "plot(model1$fitted.values, resids, xlab=\"Fitted Values\", ylab=\"Residuals\")\n",
    "lines(lowess(model1$fitted.values, resids), col='blue')\n",
    "abline(h=0, col=\"red\")"
   ]
  },
  {
   "attachments": {},
   "cell_type": "markdown",
   "metadata": {},
   "source": [
    "### Normality"
   ]
  },
  {
   "cell_type": "code",
   "execution_count": 6,
   "metadata": {
    "vscode": {
     "languageId": "r"
    }
   },
   "outputs": [
    {
     "data": {
      "image/png": "[encoded data removed]",
      "text/plain": [
       "Plot with title \"Histogram of resids\""
      ]
     },
     "metadata": {
      "image/png": {
       "height": 420,
       "width": 420
      }
     },
     "output_type": "display_data"
    },
    {
     "data": {
      "text/html": [
       "<style>\n",
       ".dl-inline {width: auto; margin:0; padding: 0}\n",
       ".dl-inline>dt, .dl-inline>dd {float: none; width: auto; display: inline-block}\n",
       ".dl-inline>dt::after {content: \":\\0020\"; padding-right: .5ex}\n",
       ".dl-inline>dt:not(:first-of-type) {padding-left: .5ex}\n",
       "</style><dl class=dl-inline><dt>10833</dt><dd>10335</dd><dt>4155</dt><dd>3961</dd></dl>\n"
      ],
      "text/latex": [
       "\\begin{description*}\n",
       "\\item[10833] 10335\n",
       "\\item[4155] 3961\n",
       "\\end{description*}\n"
      ],
      "text/markdown": [
       "10833\n",
       ":   103354155\n",
       ":   3961\n",
       "\n"
      ],
      "text/plain": [
       "10833  4155 \n",
       "10335  3961 "
      ]
     },
     "metadata": {},
     "output_type": "display_data"
    },
    {
     "data": {
      "image/png": "[encoded data removed]",
      "text/plain": [
       "plot without title"
      ]
     },
     "metadata": {
      "image/png": {
       "height": 420,
       "width": 420
      }
     },
     "output_type": "display_data"
    }
   ],
   "source": [
    "# Histogram of standardized residuals\n",
    "hist(resids, col=\"grey\", nclass=15)\n",
    "qqPlot(resids)\n",
    "\n"
   ]
  },
  {
   "attachments": {},
   "cell_type": "markdown",
   "metadata": {},
   "source": [
    "Normality assumptions appears to roughly hold"
   ]
  },
  {
   "attachments": {},
   "cell_type": "markdown",
   "metadata": {},
   "source": [
    "## Improving the model"
   ]
  },
  {
   "attachments": {},
   "cell_type": "markdown",
   "metadata": {},
   "source": [
    "Backwards"
   ]
  },
  {
   "cell_type": "code",
   "execution_count": 10,
   "metadata": {
    "vscode": {
     "languageId": "r"
    }
   },
   "outputs": [
    {
     "data": {
      "text/plain": [
       "\n",
       "Call:\n",
       "lm(formula = avg_co2 ~ total_population + housing_units + num_households + \n",
       "    unemployment + socioeconomic + household_comp + minority_status + \n",
       "    housing_type + overall_svi, data = df)\n",
       "\n",
       "Residuals:\n",
       "     Min       1Q   Median       3Q      Max \n",
       "-1.48621 -0.27301 -0.00078  0.23582  1.48224 \n",
       "\n",
       "Coefficients:\n",
       "                   Estimate Std. Error   t value Pr(>|t|)    \n",
       "(Intercept)       4.128e+02  9.774e-03 42235.799  < 2e-16 ***\n",
       "total_population  8.228e-05  2.386e-06    34.484  < 2e-16 ***\n",
       "housing_units     2.430e-05  8.018e-06     3.030  0.00245 ** \n",
       "num_households   -2.063e-04  1.095e-05   -18.836  < 2e-16 ***\n",
       "unemployment      2.491e-04  2.918e-05     8.535  < 2e-16 ***\n",
       "socioeconomic    -1.743e-01  3.040e-02    -5.732 9.99e-09 ***\n",
       "household_comp   -2.755e-02  1.679e-02    -1.641  0.10081    \n",
       "minority_status   6.059e-01  1.011e-02    59.906  < 2e-16 ***\n",
       "housing_type      1.118e-01  2.112e-02     5.293 1.21e-07 ***\n",
       "overall_svi      -1.788e-01  5.643e-02    -3.169  0.00153 ** \n",
       "---\n",
       "Signif. codes:  0 '***' 0.001 '**' 0.01 '*' 0.05 '.' 0.1 ' ' 1\n",
       "\n",
       "Residual standard error: 0.3903 on 58484 degrees of freedom\n",
       "Multiple R-squared:  0.1614,\tAdjusted R-squared:  0.1613 \n",
       "F-statistic:  1251 on 9 and 58484 DF,  p-value: < 2.2e-16\n"
      ]
     },
     "metadata": {},
     "output_type": "display_data"
    }
   ],
   "source": [
    "set.seed(42)\n",
    "\n",
    "# Create the minimum model\n",
    "minmod <- lm(avg_co2 ~1, data = df)\n",
    "# Step backward from the full model using BIC as the complexity penalty\n",
    "model2 <- step(model1, direction='backward', scope=formula(minmod), trace=0)\n",
    "#direction = \"backward\", scope=formula(all), trace=0)\n",
    "# Show the optimal model\n",
    "summary(model2)"
   ]
  },
  {
   "attachments": {},
   "cell_type": "markdown",
   "metadata": {},
   "source": [
    "Forwards"
   ]
  },
  {
   "cell_type": "code",
   "execution_count": 11,
   "metadata": {
    "vscode": {
     "languageId": "r"
    }
   },
   "outputs": [
    {
     "data": {
      "text/plain": [
       "\n",
       "Call:\n",
       "lm(formula = avg_co2 ~ minority_status + socioeconomic + total_population + \n",
       "    num_households + household_comp + unemployment + housing_type + \n",
       "    overall_svi + housing_units, data = df)\n",
       "\n",
       "Residuals:\n",
       "     Min       1Q   Median       3Q      Max \n",
       "-1.48621 -0.27301 -0.00078  0.23582  1.48224 \n",
       "\n",
       "Coefficients:\n",
       "                   Estimate Std. Error   t value Pr(>|t|)    \n",
       "(Intercept)       4.128e+02  9.774e-03 42235.799  < 2e-16 ***\n",
       "minority_status   6.059e-01  1.011e-02    59.906  < 2e-16 ***\n",
       "socioeconomic    -1.743e-01  3.040e-02    -5.732 9.99e-09 ***\n",
       "total_population  8.228e-05  2.386e-06    34.484  < 2e-16 ***\n",
       "num_households   -2.063e-04  1.095e-05   -18.836  < 2e-16 ***\n",
       "household_comp   -2.755e-02  1.679e-02    -1.641  0.10081    \n",
       "unemployment      2.491e-04  2.918e-05     8.535  < 2e-16 ***\n",
       "housing_type      1.118e-01  2.112e-02     5.293 1.21e-07 ***\n",
       "overall_svi      -1.788e-01  5.643e-02    -3.169  0.00153 ** \n",
       "housing_units     2.430e-05  8.018e-06     3.030  0.00245 ** \n",
       "---\n",
       "Signif. codes:  0 '***' 0.001 '**' 0.01 '*' 0.05 '.' 0.1 ' ' 1\n",
       "\n",
       "Residual standard error: 0.3903 on 58484 degrees of freedom\n",
       "Multiple R-squared:  0.1614,\tAdjusted R-squared:  0.1613 \n",
       "F-statistic:  1251 on 9 and 58484 DF,  p-value: < 2.2e-16\n"
      ]
     },
     "metadata": {},
     "output_type": "display_data"
    }
   ],
   "source": [
    "# Step forward from the full model using BIC as the complexity penalty\n",
    "model3 <- step(minmod, direction='forward', scope=formula(model1), trace=0)\n",
    "#direction = \"backward\", scope=formula(all), trace=0)\n",
    "# Show the optimal model\n",
    "summary(model3)\n"
   ]
  },
  {
   "cell_type": "code",
   "execution_count": 12,
   "metadata": {
    "vscode": {
     "languageId": "r"
    }
   },
   "outputs": [
    {
     "data": {
      "text/plain": [
       "\n",
       "Call:\n",
       "lm(formula = avg_co2 ~ . - household_comp, data = df)\n",
       "\n",
       "Residuals:\n",
       "     Min       1Q   Median       3Q      Max \n",
       "-1.48369 -0.27267 -0.00105  0.23573  1.48281 \n",
       "\n",
       "Coefficients:\n",
       "                   Estimate Std. Error   t value Pr(>|t|)    \n",
       "(Intercept)       4.128e+02  6.753e-03 61129.200  < 2e-16 ***\n",
       "total_population  8.212e-05  2.384e-06    34.446  < 2e-16 ***\n",
       "housing_units     2.451e-05  8.017e-06     3.057  0.00224 ** \n",
       "num_households   -2.061e-04  1.095e-05   -18.814  < 2e-16 ***\n",
       "unemployment      2.485e-04  2.918e-05     8.514  < 2e-16 ***\n",
       "socioeconomic    -1.341e-01  1.805e-02    -7.430  1.1e-13 ***\n",
       "minority_status   6.159e-01  8.083e-03    76.204  < 2e-16 ***\n",
       "housing_type      1.414e-01  1.101e-02    12.842  < 2e-16 ***\n",
       "overall_svi      -2.629e-01  2.361e-02   -11.135  < 2e-16 ***\n",
       "---\n",
       "Signif. codes:  0 '***' 0.001 '**' 0.01 '*' 0.05 '.' 0.1 ' ' 1\n",
       "\n",
       "Residual standard error: 0.3903 on 58485 degrees of freedom\n",
       "Multiple R-squared:  0.1614,\tAdjusted R-squared:  0.1613 \n",
       "F-statistic:  1407 on 8 and 58485 DF,  p-value: < 2.2e-16\n"
      ]
     },
     "metadata": {},
     "output_type": "display_data"
    }
   ],
   "source": [
    "model4 <- lm(avg_co2 ~ . - household_comp, data=df)\n",
    "summary(model4)"
   ]
  },
  {
   "attachments": {},
   "cell_type": "markdown",
   "metadata": {},
   "source": [
    "Elastic Net"
   ]
  },
  {
   "cell_type": "code",
   "execution_count": 22,
   "metadata": {
    "vscode": {
     "languageId": "r"
    }
   },
   "outputs": [
    {
     "data": {
      "text/html": [
       "0.000221485670409925"
      ],
      "text/latex": [
       "0.000221485670409925"
      ],
      "text/markdown": [
       "0.000221485670409925"
      ],
      "text/plain": [
       "[1] 0.0002214857"
      ]
     },
     "metadata": {},
     "output_type": "display_data"
    },
    {
     "data": {
      "text/plain": [
       "10 x 1 sparse Matrix of class \"dgCMatrix\"\n",
       "                            s1\n",
       "(Intercept)       4.128223e+02\n",
       "total_population  8.133527e-05\n",
       "housing_units     1.905389e-05\n",
       "num_households   -1.983838e-04\n",
       "unemployment      2.477582e-04\n",
       "socioeconomic    -2.023224e-01\n",
       "household_comp   -4.399602e-02\n",
       "minority_status   5.969810e-01\n",
       "housing_type      8.883717e-02\n",
       "overall_svi      -1.177466e-01"
      ]
     },
     "metadata": {},
     "output_type": "display_data"
    }
   ],
   "source": [
    "# Optimize lambda using cross validation\n",
    "cv.elnet <- cv.glmnet(as.matrix(df[,-10]), df[,10], alpha = 0.5, nfolds=10)\n",
    "model5 <- glmnet(as.matrix(df[,-10]), df[,10], alpha = 0.5)\n",
    "\n",
    "cv.elnet$lambda.min\n",
    "coef(model5,s=cv.elnet$lambda.min)"
   ]
  },
  {
   "cell_type": "code",
   "execution_count": 23,
   "metadata": {
    "vscode": {
     "languageId": "r"
    }
   },
   "outputs": [
    {
     "data": {
      "text/plain": [
       "\n",
       "Call:\n",
       "lm(formula = avg_co2 ~ . - overall_svi, data = df)\n",
       "\n",
       "Residuals:\n",
       "     Min       1Q   Median       3Q      Max \n",
       "-1.49075 -0.27300 -0.00075  0.23593  1.48290 \n",
       "\n",
       "Coefficients:\n",
       "                   Estimate Std. Error   t value Pr(>|t|)    \n",
       "(Intercept)       4.128e+02  6.466e-03 63848.722  < 2e-16 ***\n",
       "total_population  8.236e-05  2.386e-06    34.520  < 2e-16 ***\n",
       "housing_units     2.413e-05  8.019e-06     3.009  0.00262 ** \n",
       "num_households   -2.072e-04  1.095e-05   -18.919  < 2e-16 ***\n",
       "unemployment      2.566e-04  2.909e-05     8.822  < 2e-16 ***\n",
       "socioeconomic    -2.654e-01  9.795e-03   -27.102  < 2e-16 ***\n",
       "household_comp   -7.586e-02  7.024e-03   -10.799  < 2e-16 ***\n",
       "minority_status   5.839e-01  7.343e-03    79.513  < 2e-16 ***\n",
       "housing_type      4.854e-02  6.902e-03     7.033 2.04e-12 ***\n",
       "---\n",
       "Signif. codes:  0 '***' 0.001 '**' 0.01 '*' 0.05 '.' 0.1 ' ' 1\n",
       "\n",
       "Residual standard error: 0.3904 on 58485 degrees of freedom\n",
       "Multiple R-squared:  0.1613,\tAdjusted R-squared:  0.1612 \n",
       "F-statistic:  1406 on 8 and 58485 DF,  p-value: < 2.2e-16\n"
      ]
     },
     "metadata": {},
     "output_type": "display_data"
    }
   ],
   "source": [
    "model5 <- lm(avg_co2 ~ . -overall_svi, data=df)\n",
    "summary(model5)"
   ]
  },
  {
   "cell_type": "code",
   "execution_count": 26,
   "metadata": {
    "vscode": {
     "languageId": "r"
    }
   },
   "outputs": [],
   "source": [
    "set.seed(4543)\n",
    "rf.fit <- randomForest(avg_co2 ~ ., data=df, ntree=1000,\n",
    "                       keep.forest=FALSE, importance=TRUE)"
   ]
  },
  {
   "cell_type": "code",
   "execution_count": 27,
   "metadata": {
    "vscode": {
     "languageId": "r"
    }
   },
   "outputs": [
    {
     "data": {
      "image/png": "[encoded data removed]",
      "text/plain": [
       "plot without title"
      ]
     },
     "metadata": {
      "image/png": {
       "height": 420,
       "width": 420
      }
     },
     "output_type": "display_data"
    }
   ],
   "source": [
    "# Get variable importance from the model fit\n",
    "ImpData <- as.data.frame(importance(rf.fit))\n",
    "ImpData$Var.Names <- row.names(ImpData)\n",
    "\n",
    "ggplot(ImpData, aes(x=Var.Names, y=`%IncMSE`)) +\n",
    "  geom_segment( aes(x=Var.Names, xend=Var.Names, y=0, yend=`%IncMSE`), color=\"skyblue\") +\n",
    "  geom_point(aes(size = IncNodePurity), color=\"blue\", alpha=0.6) +\n",
    "  theme_light() +\n",
    "  coord_flip() +\n",
    "  theme(\n",
    "    legend.position=\"bottom\",\n",
    "    panel.grid.major.y = element_blank(),\n",
    "    panel.border = element_blank(),\n",
    "    axis.ticks.y = element_blank()\n",
    "  )"
   ]
  }
 ],
 "metadata": {
  "kernelspec": {
   "display_name": "R",
   "language": "R",
   "name": "ir"
  },
  "language_info": {
   "codemirror_mode": "r",
   "file_extension": ".r",
   "mimetype": "text/x-r-source",
   "name": "R",
   "pygments_lexer": "r",
   "version": "4.3.1"
  },
  "orig_nbformat": 4
 },
 "nbformat": 4,
 "nbformat_minor": 2
}
