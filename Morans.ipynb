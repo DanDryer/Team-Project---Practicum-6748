{
 "cells": [
  {
   "cell_type": "code",
   "execution_count": 294,
   "metadata": {},
   "outputs": [],
   "source": [
    "import pandas as pd\n",
    "import numpy as np\n",
    "import seaborn as sns\n",
    "import matplotlib.pyplot as plt\n",
    "from sklearn.preprocessing import StandardScaler\n",
    "from scipy import stats\n",
    "from shapely.geometry import Point\n",
    "import geopandas\n",
    "from pysal.lib import weights\n",
    "import pygris.utils\n",
    "import esda\n",
    "from splot.esda import moran_scatterplot, lisa_cluster, plot_local_autocorrelation\n",
    "from esda.moran import Moran_BV, Moran_Local_BV\n",
    "from splot.esda import plot_moran_bv_simulation, plot_moran_bv\n",
    "import PyQt5\n"
   ]
  },
  {
   "cell_type": "code",
   "execution_count": 295,
   "metadata": {},
   "outputs": [
    {
     "data": {
      "text/plain": [
       "Index(['longitude', 'latitude', 'FIPS', 'avg_co2', 'year', 'ST', 'STATE',\n",
       "       'ST_ABBR', 'STCNTY', 'COUNTY', 'FIPS.1', 'LOCATION', 'year.1',\n",
       "       'total_population', 'housing_units', 'num_households', 'unemployment',\n",
       "       'socioeconomic', 'household_comp', 'minority_status', 'housing_type',\n",
       "       'overall_svi', 'xco2_std', 'co2_1yr_change', 'co2_6yr_change',\n",
       "       'co2_1yr_pct_change', 'co2_6yr_pct_change', 'co2_5yr_pct_change',\n",
       "       'co2_4yr_pct_change', 'co2_3yr_pct_change', 'co2_2yr_pct_change'],\n",
       "      dtype='object')"
      ]
     },
     "metadata": {},
     "output_type": "display_data"
    }
   ],
   "source": [
    "local_path=r'C:/Users/ddrye/OneDrive/Documents/OMSA_Program/OMSA 2023\\Summer2023/Practicum/off_git/data/'\n",
    "df=pd.read_csv(local_path+r\"2014_2020_all_tract.csv\")\n",
    "display(df.columns)\n",
    "df['FIPS']=df['FIPS'].astype('str')\n",
    "df=df.query('socioeconomic >= 0 & household_comp >= 0 & minority_status >= 0 & housing_type >= 0 and overall_svi >=0')\n",
    "df=df[df['year']==2018]\n",
    "\n",
    "\n"
   ]
  },
  {
   "cell_type": "code",
   "execution_count": 296,
   "metadata": {},
   "outputs": [],
   "source": [
    "cens_tracts = geopandas.GeoDataFrame.from_file(r\"C:\\Users\\ddrye\\OneDrive\\Documents\\OMSA_Program\\OMSA 2023\\Summer2023\\Practicum\\off_git\\cb_2020_us_tract_500k\\cb_2020_us_tract_500k.shp\")\n",
    "cens_tracts['GEOID']=cens_tracts['GEOID'].str.lstrip('0')"
   ]
  },
  {
   "cell_type": "code",
   "execution_count": 297,
   "metadata": {},
   "outputs": [],
   "source": [
    "df_merged  = cens_tracts.merge(df, left_on='GEOID', right_on='FIPS', how='right')\n",
    "df_merged = shift_geometry(df_merged)"
   ]
  },
  {
   "cell_type": "code",
   "execution_count": 298,
   "metadata": {},
   "outputs": [],
   "source": [
    "df_merged=df_merged[['GEOID', 'geometry','year','avg_co2','total_population','housing_units','num_households','unemployment','socioeconomic','household_comp','minority_status',\n",
    "'housing_type','overall_svi','co2_1yr_change', 'latitude','longitude']]\n",
    "#df_merged=df_merged.set_index('GEOID', drop=False)"
   ]
  },
  {
   "cell_type": "code",
   "execution_count": 299,
   "metadata": {},
   "outputs": [],
   "source": [
    "df_merged['coords'] = list(zip(df_merged['longitude'],df_merged['latitude']))\n",
    "df_merged['coords'] = df_merged['coords'].apply(Point)\n",
    "df_merged = geopandas.GeoDataFrame(df_merged, geometry='coords', crs=df_merged.crs )\n",
    "df_merged.drop(['latitude','longitude'], axis=1, inplace=True)\n",
    "df_merged.dropna(inplace=True)"
   ]
  },
  {
   "cell_type": "code",
   "execution_count": 300,
   "metadata": {},
   "outputs": [
    {
     "data": {
      "text/html": [
       "<div>\n",
       "<style scoped>\n",
       "    .dataframe tbody tr th:only-of-type {\n",
       "        vertical-align: middle;\n",
       "    }\n",
       "\n",
       "    .dataframe tbody tr th {\n",
       "        vertical-align: top;\n",
       "    }\n",
       "\n",
       "    .dataframe thead th {\n",
       "        text-align: right;\n",
       "    }\n",
       "</style>\n",
       "<table border=\"1\" class=\"dataframe\">\n",
       "  <thead>\n",
       "    <tr style=\"text-align: right;\">\n",
       "      <th></th>\n",
       "      <th>GEOID</th>\n",
       "      <th>geometry</th>\n",
       "      <th>year</th>\n",
       "      <th>avg_co2</th>\n",
       "      <th>total_population</th>\n",
       "      <th>housing_units</th>\n",
       "      <th>num_households</th>\n",
       "      <th>unemployment</th>\n",
       "      <th>socioeconomic</th>\n",
       "      <th>household_comp</th>\n",
       "      <th>minority_status</th>\n",
       "      <th>housing_type</th>\n",
       "      <th>overall_svi</th>\n",
       "      <th>co2_1yr_change</th>\n",
       "      <th>coords</th>\n",
       "    </tr>\n",
       "  </thead>\n",
       "  <tbody>\n",
       "    <tr>\n",
       "      <th>0</th>\n",
       "      <td>34005702808</td>\n",
       "      <td>POLYGON ((1769199.204 480641.752, 1769441.368 ...</td>\n",
       "      <td>2018</td>\n",
       "      <td>408.250298</td>\n",
       "      <td>3383.0</td>\n",
       "      <td>1136.0</td>\n",
       "      <td>1058.0</td>\n",
       "      <td>164.0</td>\n",
       "      <td>0.5653</td>\n",
       "      <td>0.8186</td>\n",
       "      <td>0.7807</td>\n",
       "      <td>0.0617</td>\n",
       "      <td>0.4835</td>\n",
       "      <td>2.222560</td>\n",
       "      <td>POINT (-74.500 40.500)</td>\n",
       "    </tr>\n",
       "    <tr>\n",
       "      <th>1</th>\n",
       "      <td>39153504200</td>\n",
       "      <td>POLYGON ((1202795.427 490329.128, 1202709.399 ...</td>\n",
       "      <td>2018</td>\n",
       "      <td>407.613775</td>\n",
       "      <td>1793.0</td>\n",
       "      <td>866.0</td>\n",
       "      <td>679.0</td>\n",
       "      <td>88.0</td>\n",
       "      <td>0.9667</td>\n",
       "      <td>0.7662</td>\n",
       "      <td>0.5766</td>\n",
       "      <td>0.4665</td>\n",
       "      <td>0.8189</td>\n",
       "      <td>7.649203</td>\n",
       "      <td>POINT (-81.500 41.500)</td>\n",
       "    </tr>\n",
       "    <tr>\n",
       "      <th>2</th>\n",
       "      <td>36071000502</td>\n",
       "      <td>POLYGON ((1804960.654 657020.942, 1804895.560 ...</td>\n",
       "      <td>2018</td>\n",
       "      <td>407.924700</td>\n",
       "      <td>3570.0</td>\n",
       "      <td>1543.0</td>\n",
       "      <td>1093.0</td>\n",
       "      <td>81.0</td>\n",
       "      <td>0.8664</td>\n",
       "      <td>0.8827</td>\n",
       "      <td>0.9477</td>\n",
       "      <td>0.9450</td>\n",
       "      <td>0.9774</td>\n",
       "      <td>4.239578</td>\n",
       "      <td>POINT (-74.500 41.500)</td>\n",
       "    </tr>\n",
       "    <tr>\n",
       "      <th>3</th>\n",
       "      <td>6013370000</td>\n",
       "      <td>POLYGON ((-2262654.076 364405.604, -2262618.28...</td>\n",
       "      <td>2018</td>\n",
       "      <td>409.004763</td>\n",
       "      <td>2814.0</td>\n",
       "      <td>1168.0</td>\n",
       "      <td>1091.0</td>\n",
       "      <td>66.0</td>\n",
       "      <td>0.2612</td>\n",
       "      <td>0.0870</td>\n",
       "      <td>0.8088</td>\n",
       "      <td>0.4539</td>\n",
       "      <td>0.3379</td>\n",
       "      <td>10.132632</td>\n",
       "      <td>POINT (-122.500 37.500)</td>\n",
       "    </tr>\n",
       "    <tr>\n",
       "      <th>5</th>\n",
       "      <td>5101180100</td>\n",
       "      <td>POLYGON ((224839.627 -154157.125, 224780.042 -...</td>\n",
       "      <td>2018</td>\n",
       "      <td>407.839872</td>\n",
       "      <td>4040.0</td>\n",
       "      <td>2178.0</td>\n",
       "      <td>1376.0</td>\n",
       "      <td>52.0</td>\n",
       "      <td>0.5762</td>\n",
       "      <td>0.6644</td>\n",
       "      <td>0.0239</td>\n",
       "      <td>0.7992</td>\n",
       "      <td>0.5528</td>\n",
       "      <td>2.139056</td>\n",
       "      <td>POINT (-93.500 36.500)</td>\n",
       "    </tr>\n",
       "    <tr>\n",
       "      <th>...</th>\n",
       "      <td>...</td>\n",
       "      <td>...</td>\n",
       "      <td>...</td>\n",
       "      <td>...</td>\n",
       "      <td>...</td>\n",
       "      <td>...</td>\n",
       "      <td>...</td>\n",
       "      <td>...</td>\n",
       "      <td>...</td>\n",
       "      <td>...</td>\n",
       "      <td>...</td>\n",
       "      <td>...</td>\n",
       "      <td>...</td>\n",
       "      <td>...</td>\n",
       "      <td>...</td>\n",
       "    </tr>\n",
       "    <tr>\n",
       "      <th>68802</th>\n",
       "      <td>2090001200</td>\n",
       "      <td>POLYGON ((-1930089.969 -906881.139, -1929990.2...</td>\n",
       "      <td>2018</td>\n",
       "      <td>407.039769</td>\n",
       "      <td>7869.0</td>\n",
       "      <td>3098.0</td>\n",
       "      <td>2941.0</td>\n",
       "      <td>244.0</td>\n",
       "      <td>0.2626</td>\n",
       "      <td>0.6814</td>\n",
       "      <td>0.2951</td>\n",
       "      <td>0.7400</td>\n",
       "      <td>0.4661</td>\n",
       "      <td>5.158241</td>\n",
       "      <td>POINT (-147.500 64.500)</td>\n",
       "    </tr>\n",
       "    <tr>\n",
       "      <th>69415</th>\n",
       "      <td>2170001100</td>\n",
       "      <td>POLYGON ((-1956067.103 -1096330.111, -1955669....</td>\n",
       "      <td>2018</td>\n",
       "      <td>406.657928</td>\n",
       "      <td>7003.0</td>\n",
       "      <td>2010.0</td>\n",
       "      <td>1919.0</td>\n",
       "      <td>206.0</td>\n",
       "      <td>0.2316</td>\n",
       "      <td>0.3327</td>\n",
       "      <td>0.3842</td>\n",
       "      <td>0.3358</td>\n",
       "      <td>0.2517</td>\n",
       "      <td>2.434326</td>\n",
       "      <td>POINT (-149.500 61.500)</td>\n",
       "    </tr>\n",
       "    <tr>\n",
       "      <th>69855</th>\n",
       "      <td>2090001300</td>\n",
       "      <td>POLYGON ((-1935609.715 -907807.110, -1935601.2...</td>\n",
       "      <td>2018</td>\n",
       "      <td>407.039769</td>\n",
       "      <td>6910.0</td>\n",
       "      <td>2488.0</td>\n",
       "      <td>2159.0</td>\n",
       "      <td>130.0</td>\n",
       "      <td>0.1282</td>\n",
       "      <td>0.0636</td>\n",
       "      <td>0.4168</td>\n",
       "      <td>0.6860</td>\n",
       "      <td>0.2300</td>\n",
       "      <td>5.158241</td>\n",
       "      <td>POINT (-147.500 64.500)</td>\n",
       "    </tr>\n",
       "    <tr>\n",
       "      <th>70250</th>\n",
       "      <td>2110000300</td>\n",
       "      <td>POLYGON ((-1521268.707 -1197969.621, -1521283....</td>\n",
       "      <td>2018</td>\n",
       "      <td>406.897018</td>\n",
       "      <td>5925.0</td>\n",
       "      <td>2244.0</td>\n",
       "      <td>2177.0</td>\n",
       "      <td>238.0</td>\n",
       "      <td>0.2032</td>\n",
       "      <td>0.3116</td>\n",
       "      <td>0.5413</td>\n",
       "      <td>0.7720</td>\n",
       "      <td>0.4282</td>\n",
       "      <td>-5.102300</td>\n",
       "      <td>POINT (-134.500 58.500)</td>\n",
       "    </tr>\n",
       "    <tr>\n",
       "      <th>71692</th>\n",
       "      <td>2020002301</td>\n",
       "      <td>MULTIPOLYGON (((-1974012.766 -1119679.159, -19...</td>\n",
       "      <td>2018</td>\n",
       "      <td>406.723910</td>\n",
       "      <td>7307.0</td>\n",
       "      <td>2680.0</td>\n",
       "      <td>2448.0</td>\n",
       "      <td>253.0</td>\n",
       "      <td>0.1616</td>\n",
       "      <td>0.2480</td>\n",
       "      <td>0.6106</td>\n",
       "      <td>0.3270</td>\n",
       "      <td>0.2505</td>\n",
       "      <td>-3.301300</td>\n",
       "      <td>POINT (-150.500 61.500)</td>\n",
       "    </tr>\n",
       "  </tbody>\n",
       "</table>\n",
       "<p>50447 rows × 15 columns</p>\n",
       "</div>"
      ],
      "text/plain": [
       "             GEOID                                           geometry  year  \\\n",
       "0      34005702808  POLYGON ((1769199.204 480641.752, 1769441.368 ...  2018   \n",
       "1      39153504200  POLYGON ((1202795.427 490329.128, 1202709.399 ...  2018   \n",
       "2      36071000502  POLYGON ((1804960.654 657020.942, 1804895.560 ...  2018   \n",
       "3       6013370000  POLYGON ((-2262654.076 364405.604, -2262618.28...  2018   \n",
       "5       5101180100  POLYGON ((224839.627 -154157.125, 224780.042 -...  2018   \n",
       "...            ...                                                ...   ...   \n",
       "68802   2090001200  POLYGON ((-1930089.969 -906881.139, -1929990.2...  2018   \n",
       "69415   2170001100  POLYGON ((-1956067.103 -1096330.111, -1955669....  2018   \n",
       "69855   2090001300  POLYGON ((-1935609.715 -907807.110, -1935601.2...  2018   \n",
       "70250   2110000300  POLYGON ((-1521268.707 -1197969.621, -1521283....  2018   \n",
       "71692   2020002301  MULTIPOLYGON (((-1974012.766 -1119679.159, -19...  2018   \n",
       "\n",
       "          avg_co2  total_population  housing_units  num_households  \\\n",
       "0      408.250298            3383.0         1136.0          1058.0   \n",
       "1      407.613775            1793.0          866.0           679.0   \n",
       "2      407.924700            3570.0         1543.0          1093.0   \n",
       "3      409.004763            2814.0         1168.0          1091.0   \n",
       "5      407.839872            4040.0         2178.0          1376.0   \n",
       "...           ...               ...            ...             ...   \n",
       "68802  407.039769            7869.0         3098.0          2941.0   \n",
       "69415  406.657928            7003.0         2010.0          1919.0   \n",
       "69855  407.039769            6910.0         2488.0          2159.0   \n",
       "70250  406.897018            5925.0         2244.0          2177.0   \n",
       "71692  406.723910            7307.0         2680.0          2448.0   \n",
       "\n",
       "       unemployment  socioeconomic  household_comp  minority_status  \\\n",
       "0             164.0         0.5653          0.8186           0.7807   \n",
       "1              88.0         0.9667          0.7662           0.5766   \n",
       "2              81.0         0.8664          0.8827           0.9477   \n",
       "3              66.0         0.2612          0.0870           0.8088   \n",
       "5              52.0         0.5762          0.6644           0.0239   \n",
       "...             ...            ...             ...              ...   \n",
       "68802         244.0         0.2626          0.6814           0.2951   \n",
       "69415         206.0         0.2316          0.3327           0.3842   \n",
       "69855         130.0         0.1282          0.0636           0.4168   \n",
       "70250         238.0         0.2032          0.3116           0.5413   \n",
       "71692         253.0         0.1616          0.2480           0.6106   \n",
       "\n",
       "       housing_type  overall_svi  co2_1yr_change                   coords  \n",
       "0            0.0617       0.4835        2.222560   POINT (-74.500 40.500)  \n",
       "1            0.4665       0.8189        7.649203   POINT (-81.500 41.500)  \n",
       "2            0.9450       0.9774        4.239578   POINT (-74.500 41.500)  \n",
       "3            0.4539       0.3379       10.132632  POINT (-122.500 37.500)  \n",
       "5            0.7992       0.5528        2.139056   POINT (-93.500 36.500)  \n",
       "...             ...          ...             ...                      ...  \n",
       "68802        0.7400       0.4661        5.158241  POINT (-147.500 64.500)  \n",
       "69415        0.3358       0.2517        2.434326  POINT (-149.500 61.500)  \n",
       "69855        0.6860       0.2300        5.158241  POINT (-147.500 64.500)  \n",
       "70250        0.7720       0.4282       -5.102300  POINT (-134.500 58.500)  \n",
       "71692        0.3270       0.2505       -3.301300  POINT (-150.500 61.500)  \n",
       "\n",
       "[50447 rows x 15 columns]"
      ]
     },
     "metadata": {},
     "output_type": "display_data"
    }
   ],
   "source": [
    "display(df_merged)"
   ]
  },
  {
   "cell_type": "code",
   "execution_count": 301,
   "metadata": {},
   "outputs": [
    {
     "name": "stderr",
     "output_type": "stream",
     "text": [
      "C:\\Users\\ddrye\\AppData\\Roaming\\Python\\Python311\\site-packages\\libpysal\\weights\\weights.py:172: UserWarning: The weights matrix is not fully connected: \n",
      " There are 640 disconnected components.\n",
      "  warnings.warn(message)\n"
     ]
    }
   ],
   "source": [
    "df_merged=df_merged.to_crs(epsg=3395)\n",
    "w = weights.KNN.from_dataframe(df_merged, k=3)\n",
    "w.transform = 'R'"
   ]
  },
  {
   "cell_type": "code",
   "execution_count": 302,
   "metadata": {},
   "outputs": [
    {
     "data": {
      "text/plain": [
       "\"y=df_merged['avg_co2']\\ndf_merged['lag']=weights.lag_spatial(w,y)\\ndf_merged.head()\""
      ]
     },
     "execution_count": 302,
     "metadata": {},
     "output_type": "execute_result"
    }
   ],
   "source": [
    "\"\"\"y=df_merged['avg_co2']\n",
    "df_merged['lag']=weights.lag_spatial(w,y)\n",
    "df_merged.head()\"\"\""
   ]
  },
  {
   "cell_type": "code",
   "execution_count": 306,
   "metadata": {},
   "outputs": [],
   "source": [
    "moran_loc_bv = Moran_Local_BV(df_merged['avg_co2'], df_merged['overall_svi'], w)"
   ]
  },
  {
   "cell_type": "code",
   "execution_count": 307,
   "metadata": {},
   "outputs": [
    {
     "data": {
      "text/plain": [
       "<Axes: >"
      ]
     },
     "execution_count": 307,
     "metadata": {},
     "output_type": "execute_result"
    }
   ],
   "source": [
    "df_merged = geopandas.GeoDataFrame(df_merged, geometry='geometry', crs=df_merged.crs )\n",
    "df_merged.plot()"
   ]
  },
  {
   "cell_type": "code",
   "execution_count": 308,
   "metadata": {},
   "outputs": [
    {
     "data": {
      "text/plain": [
       "(<Figure size 1500x400 with 3 Axes>,\n",
       " array([<Axes: title={'center': 'Moran BV Local Scatterplot'}, xlabel='Attribute', ylabel='Spatial Lag'>,\n",
       "        <Axes: >, <Axes: >], dtype=object))"
      ]
     },
     "execution_count": 308,
     "metadata": {},
     "output_type": "execute_result"
    }
   ],
   "source": [
    "\"\"\"fig, ax = moran_scatterplot(moran_loc_bv, p=0.05)\n",
    "\n",
    "lisa_cluster(moran_loc_bv, df_merged, p=0.05, figsize = (9,9))\n",
    "plt.show()\"\"\"\n",
    "\n",
    "plot_local_autocorrelation(moran_loc_bv, df_merged, 'overall_svi')\n",
    "plot_local_autocorrelation(moran_loc_bv, df_merged, 'avg_co2')\n",
    "\n"
   ]
  }
 ],
 "metadata": {
  "kernelspec": {
   "display_name": "Python 3",
   "language": "python",
   "name": "python3"
  },
  "language_info": {
   "codemirror_mode": {
    "name": "ipython",
    "version": 3
   },
   "file_extension": ".py",
   "mimetype": "text/x-python",
   "name": "python",
   "nbconvert_exporter": "python",
   "pygments_lexer": "ipython3",
   "version": "3.11.3"
  },
  "orig_nbformat": 4
 },
 "nbformat": 4,
 "nbformat_minor": 2
}
